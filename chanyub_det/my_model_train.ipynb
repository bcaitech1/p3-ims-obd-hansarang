{
 "cells": [
  {
   "cell_type": "code",
   "execution_count": 1,
   "metadata": {
    "pycharm": {
     "name": "#%%\n"
    }
   },
   "outputs": [
    {
     "name": "stdout",
     "output_type": "stream",
     "text": [
      "apex is not installed\n"
     ]
    },
    {
     "name": "stderr",
     "output_type": "stream",
     "text": [
      "/opt/conda/lib/python3.7/site-packages/mmcv/utils/registry.py:250: UserWarning: The old API of register_module(module, force=False) is deprecated and will be removed, please use the new API register_module(name=None, force=False, module=None) instead.\n",
      "  'The old API of register_module(module, force=False) '\n"
     ]
    },
    {
     "name": "stdout",
     "output_type": "stream",
     "text": [
      "apex is not installed\n",
      "apex is not installed\n",
      "apex is not installed\n"
     ]
    }
   ],
   "source": [
    "from mmcv import Config\n",
    "from mmcv.runner import load_checkpoint\n",
    "from mmdet.datasets import build_dataset\n",
    "from mmdet.models import build_detector\n",
    "from mmdet.apis import train_detector\n",
    "from mmdet.datasets import (build_dataloader, build_dataset,\n",
    "                            replace_ImageToTensor)\n",
    "\n",
    "import wandb"
   ]
  },
  {
   "cell_type": "code",
   "execution_count": 2,
   "metadata": {
    "pycharm": {
     "name": "#%%\n"
    }
   },
   "outputs": [],
   "source": [
    "classes = (\"UNKNOWN\", \"General trash\", \"Paper\", \"Paper pack\", \"Metal\", \"Glass\", \n",
    "           \"Plastic\", \"Styrofoam\", \"Plastic bag\", \"Battery\", \"Clothing\")\n",
    "# config file 들고오기\n",
    "config_file_name= 'cascade_mask_rcnn_swin_small_patch4_window7_mstrain_480-800_giou_4conv1f_adamw_3x_coco'\n",
    "cfg = Config.fromfile('./configs/swin/cascade_mask_rcnn_swin_small_patch4_window7_mstrain_480-800_giou_4conv1f_adamw_3x_coco.py')\n",
    "\n",
    "PREFIX = '../../input/data/'\n",
    "\n",
    "# dataset 바꾸기\n",
    "cfg.data.train.classes = classes\n",
    "cfg.data.train.img_prefix = PREFIX\n",
    "cfg.data.train.ann_file = PREFIX + 'train_all.json'\n",
    "# cfg.data.train.pipe line[2]['img_scale'] = (512, 512)\n",
    "\n",
    "cfg.data.val.classes = classes\n",
    "cfg.data.val.img_prefix = PREFIX\n",
    "cfg.data.val.ann_file = PREFIX + 'val.json'\n",
    "# cfg.data.val.pipeline[1]['img_scale'] = (512, 512)\n",
    "\n",
    "cfg.data.test.classes = classes\n",
    "cfg.data.test.img_prefix = PREFIX\n",
    "cfg.data.test.ann_file = PREFIX + 'test.json'\n",
    "# cfg.data.test.pipeline[1]['img_scale'] = (512, 512)\n",
    "\n",
    "cfg.data.samples_per_gpu = 4\n",
    "cfg.model.neck.type = 'PAFPN'\n",
    "\n",
    "cfg.seed=1227\n",
    "cfg.gpu_ids = [0]\n",
    "# cfg.work_dir = './work_dirs/cascade_swin'\n",
    "cfg.work_dir = './work_dirs/!_finding_best'\n",
    "\n",
    "cfg.runner.max_epochs = 20\n",
    "\n",
    "# cfg.model.roi_head.bbox_head.num_classes = 11\n",
    "\n",
    "\n",
    "cfg.optimizer_config.grad_clip = dict(max_norm=35, norm_type=2)"
   ]
  },
  {
   "cell_type": "code",
   "execution_count": 3,
   "metadata": {},
   "outputs": [],
   "source": [
    "# group_name=\n",
    "project_name = 'shinchan'\n",
    "run_name = config_file_name\n",
    "config_list = {\n",
    "    'epoch': cfg.runner.max_epochs,\n",
    "    'batch_size': cfg.data.samples_per_gpu,\n",
    "    'optimizer': cfg.optimizer,\n",
    "    'optimizer_config': cfg.optimizer_config,\n",
    "    'lr_config': cfg.lr_config\n",
    "}\n",
    "# cfg.log_config.hooks[1].init_kwargs['group']=group_name\n",
    "cfg.log_config.hooks[1].init_kwargs['name']=config_file_name\n",
    "cfg.log_config.hooks[1].init_kwargs['config']=config_list\n",
    "cfg.log_config.hooks[1].init_kwargs['entity'] = 'pstage3_det'"
   ]
  },
  {
   "cell_type": "code",
   "execution_count": 4,
   "metadata": {
    "pycharm": {
     "name": "#%%\n"
    }
   },
   "outputs": [
    {
     "name": "stderr",
     "output_type": "stream",
     "text": [
      "2021-05-19 11:04:17,007 - mmdet - INFO - load model from: /opt/ml/code/mmdetection_trash/work_dirs/swin/swin_small_patch4_window7_224.pth\n",
      "2021-05-19 11:04:17,598 - mmdet - WARNING - The model and loaded state dict do not match exactly\n",
      "\n",
      "unexpected key in source state_dict: norm.weight, norm.bias, head.weight, head.bias, layers.0.blocks.1.attn_mask, layers.1.blocks.1.attn_mask, layers.2.blocks.1.attn_mask, layers.2.blocks.3.attn_mask, layers.2.blocks.5.attn_mask, layers.2.blocks.7.attn_mask, layers.2.blocks.9.attn_mask, layers.2.blocks.11.attn_mask, layers.2.blocks.13.attn_mask, layers.2.blocks.15.attn_mask, layers.2.blocks.17.attn_mask\n",
      "\n",
      "missing keys in source state_dict: norm0.weight, norm0.bias, norm1.weight, norm1.bias, norm2.weight, norm2.bias, norm3.weight, norm3.bias\n",
      "\n"
     ]
    },
    {
     "name": "stdout",
     "output_type": "stream",
     "text": [
      "Use load_from_local loader\n",
      "The model and loaded state dict do not match exactly\n",
      "\n",
      "size mismatch for roi_head.bbox_head.0.fc_cls.weight: copying a param with shape torch.Size([81, 1024]) from checkpoint, the shape in current model is torch.Size([12, 1024]).\n",
      "size mismatch for roi_head.bbox_head.0.fc_cls.bias: copying a param with shape torch.Size([81]) from checkpoint, the shape in current model is torch.Size([12]).\n",
      "size mismatch for roi_head.bbox_head.0.fc_reg.weight: copying a param with shape torch.Size([320, 1024]) from checkpoint, the shape in current model is torch.Size([44, 1024]).\n",
      "size mismatch for roi_head.bbox_head.0.fc_reg.bias: copying a param with shape torch.Size([320]) from checkpoint, the shape in current model is torch.Size([44]).\n",
      "size mismatch for roi_head.bbox_head.1.fc_cls.weight: copying a param with shape torch.Size([81, 1024]) from checkpoint, the shape in current model is torch.Size([12, 1024]).\n",
      "size mismatch for roi_head.bbox_head.1.fc_cls.bias: copying a param with shape torch.Size([81]) from checkpoint, the shape in current model is torch.Size([12]).\n",
      "size mismatch for roi_head.bbox_head.1.fc_reg.weight: copying a param with shape torch.Size([320, 1024]) from checkpoint, the shape in current model is torch.Size([44, 1024]).\n",
      "size mismatch for roi_head.bbox_head.1.fc_reg.bias: copying a param with shape torch.Size([320]) from checkpoint, the shape in current model is torch.Size([44]).\n",
      "size mismatch for roi_head.bbox_head.2.fc_cls.weight: copying a param with shape torch.Size([81, 1024]) from checkpoint, the shape in current model is torch.Size([12, 1024]).\n",
      "size mismatch for roi_head.bbox_head.2.fc_cls.bias: copying a param with shape torch.Size([81]) from checkpoint, the shape in current model is torch.Size([12]).\n",
      "size mismatch for roi_head.bbox_head.2.fc_reg.weight: copying a param with shape torch.Size([320, 1024]) from checkpoint, the shape in current model is torch.Size([44, 1024]).\n",
      "size mismatch for roi_head.bbox_head.2.fc_reg.bias: copying a param with shape torch.Size([320]) from checkpoint, the shape in current model is torch.Size([44]).\n",
      "size mismatch for roi_head.mask_head.0.conv_logits.weight: copying a param with shape torch.Size([80, 256, 1, 1]) from checkpoint, the shape in current model is torch.Size([11, 256, 1, 1]).\n",
      "size mismatch for roi_head.mask_head.0.conv_logits.bias: copying a param with shape torch.Size([80]) from checkpoint, the shape in current model is torch.Size([11]).\n",
      "size mismatch for roi_head.mask_head.1.conv_logits.weight: copying a param with shape torch.Size([80, 256, 1, 1]) from checkpoint, the shape in current model is torch.Size([11, 256, 1, 1]).\n",
      "size mismatch for roi_head.mask_head.1.conv_logits.bias: copying a param with shape torch.Size([80]) from checkpoint, the shape in current model is torch.Size([11]).\n",
      "size mismatch for roi_head.mask_head.2.conv_logits.weight: copying a param with shape torch.Size([80, 256, 1, 1]) from checkpoint, the shape in current model is torch.Size([11, 256, 1, 1]).\n",
      "size mismatch for roi_head.mask_head.2.conv_logits.bias: copying a param with shape torch.Size([80]) from checkpoint, the shape in current model is torch.Size([11]).\n",
      "missing keys in source state_dict: neck.downsample_convs.0.conv.weight, neck.downsample_convs.0.conv.bias, neck.downsample_convs.1.conv.weight, neck.downsample_convs.1.conv.bias, neck.downsample_convs.2.conv.weight, neck.downsample_convs.2.conv.bias, neck.pafpn_convs.0.conv.weight, neck.pafpn_convs.0.conv.bias, neck.pafpn_convs.1.conv.weight, neck.pafpn_convs.1.conv.bias, neck.pafpn_convs.2.conv.weight, neck.pafpn_convs.2.conv.bias\n",
      "\n"
     ]
    }
   ],
   "source": [
    "model = build_detector(cfg.model)\n",
    "checkpoint = load_checkpoint(model, \"/opt/ml/code/mmdetection_trash/work_dirs/cascade_mask_rcnn_swin_small_patch4_window7.pth\", map_location='cuda:0')"
   ]
  },
  {
   "cell_type": "code",
   "execution_count": 5,
   "metadata": {
    "pycharm": {
     "name": "#%%\n"
    }
   },
   "outputs": [
    {
     "name": "stdout",
     "output_type": "stream",
     "text": [
      "loading annotations into memory...\n",
      "Done (t=4.41s)\n",
      "creating index...\n",
      "index created!\n"
     ]
    }
   ],
   "source": [
    "datasets = [build_dataset(cfg.data.train)]"
   ]
  },
  {
   "cell_type": "code",
   "execution_count": 6,
   "metadata": {
    "pycharm": {
     "name": "#%%\n"
    }
   },
   "outputs": [
    {
     "name": "stdout",
     "output_type": "stream",
     "text": [
      "loading annotations into memory...\n"
     ]
    },
    {
     "name": "stderr",
     "output_type": "stream",
     "text": [
      "2021-05-19 11:04:26,348 - mmdet - INFO - Start running, host: root@05a924235fca, work_dir: /opt/ml/code/mmdetection_trash/work_dirs/!_finding_best\n",
      "2021-05-19 11:04:26,348 - mmdet - INFO - workflow: [('train', 1)], max: 20 epochs\n"
     ]
    },
    {
     "name": "stdout",
     "output_type": "stream",
     "text": [
      "Done (t=0.75s)\n",
      "creating index...\n",
      "index created!\n"
     ]
    },
    {
     "name": "stderr",
     "output_type": "stream",
     "text": [
      "\u001b[34m\u001b[1mwandb\u001b[0m: Currently logged in as: \u001b[33mpstage3_det\u001b[0m (use `wandb login --relogin` to force relogin)\n"
     ]
    },
    {
     "data": {
      "text/html": [
       "\n",
       "                Tracking run with wandb version 0.10.30<br/>\n",
       "                Syncing run <strong style=\"color:#cdcd00\">cascade_mask_rcnn_swin_small_patch4_window7_mstrain_480-800_giou_4conv1f_adamw_3x_coco</strong> to <a href=\"https://wandb.ai\" target=\"_blank\">Weights & Biases</a> <a href=\"https://docs.wandb.com/integrations/jupyter.html\" target=\"_blank\">(Documentation)</a>.<br/>\n",
       "                Project page: <a href=\"https://wandb.ai/pstage3_det/shinchan\" target=\"_blank\">https://wandb.ai/pstage3_det/shinchan</a><br/>\n",
       "                Run page: <a href=\"https://wandb.ai/pstage3_det/shinchan/runs/1qmok38d\" target=\"_blank\">https://wandb.ai/pstage3_det/shinchan/runs/1qmok38d</a><br/>\n",
       "                Run data is saved locally in <code>/opt/ml/code/mmdetection_trash/wandb/run-20210519_110426-1qmok38d</code><br/><br/>\n",
       "            "
      ],
      "text/plain": [
       "<IPython.core.display.HTML object>"
      ]
     },
     "metadata": {},
     "output_type": "display_data"
    },
    {
     "name": "stderr",
     "output_type": "stream",
     "text": [
      "2021-05-19 11:06:10,714 - mmdet - INFO - Epoch [1][50/818]\tlr: 4.945e-06, eta: 9:04:22, time: 2.003, data_time: 0.079, memory: 17018, loss_rpn_cls: 0.4667, loss_rpn_bbox: 0.0762, s0.loss_cls: 2.3467, s0.acc: 11.0586, s0.loss_bbox: 0.3045, s0.loss_mask: 1.2604, s1.loss_cls: 1.3401, s1.acc: 0.5215, s1.loss_bbox: 0.0422, s1.loss_mask: 0.5703, s2.loss_cls: 0.6003, s2.acc: 1.7461, s2.loss_bbox: 0.0049, s2.loss_mask: 0.3232, loss: 7.3356, grad_norm: 34.0832\n",
      "2021-05-19 11:07:46,820 - mmdet - INFO - Epoch [1][100/818]\tlr: 9.940e-06, eta: 8:51:47, time: 1.922, data_time: 0.028, memory: 17018, loss_rpn_cls: 0.2183, loss_rpn_bbox: 0.0647, s0.loss_cls: 1.7297, s0.acc: 77.8594, s0.loss_bbox: 0.3959, s0.loss_mask: 0.9348, s1.loss_cls: 1.0148, s1.acc: 49.0771, s1.loss_bbox: 0.0561, s1.loss_mask: 0.4153, s2.loss_cls: 0.4539, s2.acc: 61.0986, s2.loss_bbox: 0.0060, s2.loss_mask: 0.2400, loss: 5.5295, grad_norm: 24.5844\n",
      "2021-05-19 11:09:23,491 - mmdet - INFO - Epoch [1][150/818]\tlr: 1.494e-05, eta: 8:47:33, time: 1.933, data_time: 0.032, memory: 17021, loss_rpn_cls: 0.1776, loss_rpn_bbox: 0.0623, s0.loss_cls: 0.6673, s0.acc: 87.7324, s0.loss_bbox: 0.4699, s0.loss_mask: 0.7363, s1.loss_cls: 0.3038, s1.acc: 94.3018, s1.loss_bbox: 0.0677, s1.loss_mask: 0.3421, s2.loss_cls: 0.1470, s2.acc: 97.0889, s2.loss_bbox: 0.0075, s2.loss_mask: 0.1942, loss: 3.1757, grad_norm: 11.1969\n",
      "2021-05-19 11:10:59,083 - mmdet - INFO - Epoch [1][200/818]\tlr: 1.993e-05, eta: 8:43:10, time: 1.912, data_time: 0.026, memory: 17218, loss_rpn_cls: 0.0949, loss_rpn_bbox: 0.0473, s0.loss_cls: 0.4658, s0.acc: 88.3721, s0.loss_bbox: 0.4548, s0.loss_mask: 0.6030, s1.loss_cls: 0.1396, s1.acc: 94.7246, s1.loss_bbox: 0.0665, s1.loss_mask: 0.2931, s2.loss_cls: 0.0424, s2.acc: 97.4736, s2.loss_bbox: 0.0073, s2.loss_mask: 0.1655, loss: 2.3803, grad_norm: 6.4530\n",
      "2021-05-19 11:12:36,505 - mmdet - INFO - Epoch [1][250/818]\tlr: 2.493e-05, eta: 8:41:52, time: 1.948, data_time: 0.029, memory: 17218, loss_rpn_cls: 0.0912, loss_rpn_bbox: 0.0508, s0.loss_cls: 0.4781, s0.acc: 86.4619, s0.loss_bbox: 0.5310, s0.loss_mask: 0.5194, s1.loss_cls: 0.1472, s1.acc: 93.5488, s1.loss_bbox: 0.0821, s1.loss_mask: 0.2517, s2.loss_cls: 0.0433, s2.acc: 96.8867, s2.loss_bbox: 0.0096, s2.loss_mask: 0.1444, loss: 2.3491, grad_norm: 6.5836\n",
      "2021-05-19 11:14:14,782 - mmdet - INFO - Epoch [1][300/818]\tlr: 2.992e-05, eta: 8:41:13, time: 1.966, data_time: 0.028, memory: 17218, loss_rpn_cls: 0.0807, loss_rpn_bbox: 0.0496, s0.loss_cls: 0.4597, s0.acc: 86.8018, s0.loss_bbox: 0.5352, s0.loss_mask: 0.4581, s1.loss_cls: 0.1466, s1.acc: 92.8271, s1.loss_bbox: 0.0952, s1.loss_mask: 0.2226, s2.loss_cls: 0.0430, s2.acc: 96.6328, s2.loss_bbox: 0.0116, s2.loss_mask: 0.1229, loss: 2.2252, grad_norm: 5.7132\n",
      "2021-05-19 11:15:53,213 - mmdet - INFO - Epoch [1][350/818]\tlr: 3.492e-05, eta: 8:40:25, time: 1.969, data_time: 0.031, memory: 17341, loss_rpn_cls: 0.0704, loss_rpn_bbox: 0.0505, s0.loss_cls: 0.4370, s0.acc: 87.4404, s0.loss_bbox: 0.5149, s0.loss_mask: 0.4024, s1.loss_cls: 0.1581, s1.acc: 91.6826, s1.loss_bbox: 0.1177, s1.loss_mask: 0.1916, s2.loss_cls: 0.0479, s2.acc: 95.6328, s2.loss_bbox: 0.0166, s2.loss_mask: 0.1075, loss: 2.1146, grad_norm: 5.4724\n",
      "2021-05-19 11:17:33,408 - mmdet - INFO - Epoch [1][400/818]\tlr: 3.991e-05, eta: 8:40:34, time: 2.004, data_time: 0.032, memory: 17341, loss_rpn_cls: 0.0649, loss_rpn_bbox: 0.0443, s0.loss_cls: 0.4185, s0.acc: 88.2559, s0.loss_bbox: 0.4564, s0.loss_mask: 0.3842, s1.loss_cls: 0.1830, s1.acc: 89.8541, s1.loss_bbox: 0.1544, s1.loss_mask: 0.1781, s2.loss_cls: 0.0647, s2.acc: 93.0375, s2.loss_bbox: 0.0324, s2.loss_mask: 0.0904, loss: 2.0712, grad_norm: 6.0025\n",
      "2021-05-19 11:19:17,434 - mmdet - INFO - Epoch [1][450/818]\tlr: 4.491e-05, eta: 8:42:34, time: 2.081, data_time: 0.030, memory: 17996, loss_rpn_cls: 0.0663, loss_rpn_bbox: 0.0456, s0.loss_cls: 0.4149, s0.acc: 88.2354, s0.loss_bbox: 0.4048, s0.loss_mask: 0.3475, s1.loss_cls: 0.2041, s1.acc: 88.4481, s1.loss_bbox: 0.1648, s1.loss_mask: 0.1634, s2.loss_cls: 0.0854, s2.acc: 90.6694, s2.loss_bbox: 0.0486, s2.loss_mask: 0.0802, loss: 2.0257, grad_norm: 6.2511\n",
      "2021-05-19 11:21:02,512 - mmdet - INFO - Epoch [1][500/818]\tlr: 4.990e-05, eta: 8:44:23, time: 2.102, data_time: 0.031, memory: 18118, loss_rpn_cls: 0.0838, loss_rpn_bbox: 0.0434, s0.loss_cls: 0.4029, s0.acc: 88.6699, s0.loss_bbox: 0.3559, s0.loss_mask: 0.3275, s1.loss_cls: 0.2032, s1.acc: 88.3143, s1.loss_bbox: 0.1534, s1.loss_mask: 0.1523, s2.loss_cls: 0.0920, s2.acc: 89.6615, s2.loss_bbox: 0.0527, s2.loss_mask: 0.0707, loss: 1.9378, grad_norm: 6.5553\n",
      "2021-05-19 11:22:47,791 - mmdet - INFO - Epoch [1][550/818]\tlr: 5.000e-05, eta: 8:45:39, time: 2.106, data_time: 0.026, memory: 18210, loss_rpn_cls: 0.0639, loss_rpn_bbox: 0.0379, s0.loss_cls: 0.3638, s0.acc: 89.5283, s0.loss_bbox: 0.3175, s0.loss_mask: 0.3231, s1.loss_cls: 0.1814, s1.acc: 89.4869, s1.loss_bbox: 0.1315, s1.loss_mask: 0.1503, s2.loss_cls: 0.0844, s2.acc: 90.2243, s2.loss_bbox: 0.0475, s2.loss_mask: 0.0696, loss: 1.7711, grad_norm: 6.6670\n",
      "2021-05-19 11:24:31,688 - mmdet - INFO - Epoch [1][600/818]\tlr: 5.000e-05, eta: 8:45:48, time: 2.078, data_time: 0.024, memory: 18647, loss_rpn_cls: 0.0630, loss_rpn_bbox: 0.0399, s0.loss_cls: 0.3873, s0.acc: 89.0557, s0.loss_bbox: 0.3159, s0.loss_mask: 0.3293, s1.loss_cls: 0.2011, s1.acc: 88.3594, s1.loss_bbox: 0.1283, s1.loss_mask: 0.1511, s2.loss_cls: 0.0953, s2.acc: 89.0136, s2.loss_bbox: 0.0466, s2.loss_mask: 0.0723, loss: 1.8300, grad_norm: 7.3712\n",
      "2021-05-19 11:26:17,434 - mmdet - INFO - Epoch [1][650/818]\tlr: 5.000e-05, eta: 8:46:25, time: 2.115, data_time: 0.027, memory: 18647, loss_rpn_cls: 0.0565, loss_rpn_bbox: 0.0304, s0.loss_cls: 0.3552, s0.acc: 89.7910, s0.loss_bbox: 0.2964, s0.loss_mask: 0.2974, s1.loss_cls: 0.1800, s1.acc: 89.2192, s1.loss_bbox: 0.1219, s1.loss_mask: 0.1495, s2.loss_cls: 0.0874, s2.acc: 89.6405, s2.loss_bbox: 0.0456, s2.loss_mask: 0.0663, loss: 1.6866, grad_norm: 7.0725\n",
      "2021-05-19 11:28:02,608 - mmdet - INFO - Epoch [1][700/818]\tlr: 5.000e-05, eta: 8:46:28, time: 2.103, data_time: 0.033, memory: 18647, loss_rpn_cls: 0.0615, loss_rpn_bbox: 0.0374, s0.loss_cls: 0.3652, s0.acc: 89.3965, s0.loss_bbox: 0.2955, s0.loss_mask: 0.3123, s1.loss_cls: 0.1868, s1.acc: 89.0084, s1.loss_bbox: 0.1218, s1.loss_mask: 0.1408, s2.loss_cls: 0.0916, s2.acc: 89.1567, s2.loss_bbox: 0.0462, s2.loss_mask: 0.0659, loss: 1.7250, grad_norm: 6.7458\n",
      "2021-05-19 11:29:47,207 - mmdet - INFO - Epoch [1][750/818]\tlr: 5.000e-05, eta: 8:46:05, time: 2.092, data_time: 0.030, memory: 18647, loss_rpn_cls: 0.0656, loss_rpn_bbox: 0.0352, s0.loss_cls: 0.3154, s0.acc: 90.5127, s0.loss_bbox: 0.2811, s0.loss_mask: 0.2939, s1.loss_cls: 0.1624, s1.acc: 90.1475, s1.loss_bbox: 0.1168, s1.loss_mask: 0.1370, s2.loss_cls: 0.0786, s2.acc: 90.4366, s2.loss_bbox: 0.0443, s2.loss_mask: 0.0639, loss: 1.5943, grad_norm: 8.0845\n",
      "2021-05-19 11:31:30,262 - mmdet - INFO - Epoch [1][800/818]\tlr: 5.000e-05, eta: 8:45:02, time: 2.061, data_time: 0.027, memory: 18647, loss_rpn_cls: 0.0589, loss_rpn_bbox: 0.0337, s0.loss_cls: 0.3370, s0.acc: 90.0293, s0.loss_bbox: 0.2771, s0.loss_mask: 0.2881, s1.loss_cls: 0.1684, s1.acc: 89.8087, s1.loss_bbox: 0.1116, s1.loss_mask: 0.1305, s2.loss_cls: 0.0820, s2.acc: 90.4134, s2.loss_bbox: 0.0423, s2.loss_mask: 0.0605, loss: 1.5900, grad_norm: 7.3462\n",
      "2021-05-19 11:32:07,620 - mmdet - INFO - Saving checkpoint at 1 epochs\n"
     ]
    },
    {
     "name": "stdout",
     "output_type": "stream",
     "text": [
      "[>>>>>>>>>>>>>>>>>>>>>>>>>>>>>] 655/655, 4.0 task/s, elapsed: 164s, ETA:     0s"
     ]
    },
    {
     "name": "stderr",
     "output_type": "stream",
     "text": [
      "2021-05-19 11:34:57,209 - mmdet - INFO - Evaluating bbox...\n"
     ]
    },
    {
     "name": "stdout",
     "output_type": "stream",
     "text": [
      "Loading and preparing results...\n",
      "DONE (t=0.68s)\n",
      "creating index...\n",
      "index created!\n",
      "Running per image evaluation...\n",
      "Evaluate annotation type *bbox*\n",
      "DONE (t=7.34s).\n",
      "Accumulating evaluation results...\n"
     ]
    },
    {
     "name": "stderr",
     "output_type": "stream",
     "text": [
      "2021-05-19 11:35:06,539 - mmdet - INFO - Epoch(val) [1][818]\tbbox_mAP: 0.1530, bbox_mAP_50: 0.2160, bbox_mAP_75: 0.1630, bbox_mAP_s: 0.0550, bbox_mAP_m: 0.1690, bbox_mAP_l: 0.2760, bbox_mAP_copypaste: 0.153 0.216 0.163 0.055 0.169 0.276\n"
     ]
    },
    {
     "name": "stdout",
     "output_type": "stream",
     "text": [
      "DONE (t=1.18s).\n",
      "Average Precision  (AP) @[ IoU=0.50:0.95 | area=   all | maxDets=100 ] = 0.153\n",
      "Average Precision  (AP) @[ IoU=0.50      | area=   all | maxDets=1000 ] = 0.216\n",
      "Average Precision  (AP) @[ IoU=0.75      | area=   all | maxDets=1000 ] = 0.163\n",
      "Average Precision  (AP) @[ IoU=0.50:0.95 | area= small | maxDets=1000 ] = 0.055\n",
      "Average Precision  (AP) @[ IoU=0.50:0.95 | area=medium | maxDets=1000 ] = 0.169\n",
      "Average Precision  (AP) @[ IoU=0.50:0.95 | area= large | maxDets=1000 ] = 0.276\n",
      "Average Recall     (AR) @[ IoU=0.50:0.95 | area=   all | maxDets=100 ] = 0.335\n",
      "Average Recall     (AR) @[ IoU=0.50:0.95 | area=   all | maxDets=300 ] = 0.335\n",
      "Average Recall     (AR) @[ IoU=0.50:0.95 | area=   all | maxDets=1000 ] = 0.335\n",
      "Average Recall     (AR) @[ IoU=0.50:0.95 | area= small | maxDets=1000 ] = 0.121\n",
      "Average Recall     (AR) @[ IoU=0.50:0.95 | area=medium | maxDets=1000 ] = 0.360\n",
      "Average Recall     (AR) @[ IoU=0.50:0.95 | area= large | maxDets=1000 ] = 0.548\n"
     ]
    },
    {
     "name": "stderr",
     "output_type": "stream",
     "text": [
      "2021-05-19 11:36:57,305 - mmdet - INFO - Epoch [2][50/818]\tlr: 5.000e-05, eta: 8:34:44, time: 2.215, data_time: 0.084, memory: 18663, loss_rpn_cls: 0.0623, loss_rpn_bbox: 0.0412, s0.loss_cls: 0.3277, s0.acc: 90.0723, s0.loss_bbox: 0.2994, s0.loss_mask: 0.2859, s1.loss_cls: 0.1653, s1.acc: 89.8052, s1.loss_bbox: 0.1190, s1.loss_mask: 0.1252, s2.loss_cls: 0.0816, s2.acc: 89.7507, s2.loss_bbox: 0.0440, s2.loss_mask: 0.0570, loss: 1.6087, grad_norm: 7.0964\n",
      "2021-05-19 11:38:42,324 - mmdet - INFO - Epoch [2][100/818]\tlr: 5.000e-05, eta: 8:34:34, time: 2.100, data_time: 0.029, memory: 18684, loss_rpn_cls: 0.0522, loss_rpn_bbox: 0.0344, s0.loss_cls: 0.3083, s0.acc: 90.7217, s0.loss_bbox: 0.2667, s0.loss_mask: 0.2741, s1.loss_cls: 0.1570, s1.acc: 90.4022, s1.loss_bbox: 0.1090, s1.loss_mask: 0.1265, s2.loss_cls: 0.0761, s2.acc: 90.5147, s2.loss_bbox: 0.0412, s2.loss_mask: 0.0578, loss: 1.5034, grad_norm: 7.0214\n",
      "2021-05-19 11:40:28,280 - mmdet - INFO - Epoch [2][150/818]\tlr: 5.000e-05, eta: 8:34:29, time: 2.119, data_time: 0.028, memory: 18684, loss_rpn_cls: 0.0550, loss_rpn_bbox: 0.0359, s0.loss_cls: 0.3434, s0.acc: 89.8896, s0.loss_bbox: 0.2957, s0.loss_mask: 0.2875, s1.loss_cls: 0.1730, s1.acc: 89.5762, s1.loss_bbox: 0.1179, s1.loss_mask: 0.1305, s2.loss_cls: 0.0840, s2.acc: 89.9803, s2.loss_bbox: 0.0445, s2.loss_mask: 0.0601, loss: 1.6276, grad_norm: 7.7836\n",
      "2021-05-19 11:42:13,364 - mmdet - INFO - Epoch [2][200/818]\tlr: 5.000e-05, eta: 8:34:01, time: 2.102, data_time: 0.027, memory: 18684, loss_rpn_cls: 0.0508, loss_rpn_bbox: 0.0329, s0.loss_cls: 0.3188, s0.acc: 90.4600, s0.loss_bbox: 0.2698, s0.loss_mask: 0.2844, s1.loss_cls: 0.1602, s1.acc: 90.3435, s1.loss_bbox: 0.1071, s1.loss_mask: 0.1244, s2.loss_cls: 0.0784, s2.acc: 90.5713, s2.loss_bbox: 0.0407, s2.loss_mask: 0.0582, loss: 1.5258, grad_norm: 7.4754\n",
      "2021-05-19 11:43:58,587 - mmdet - INFO - Epoch [2][250/818]\tlr: 5.000e-05, eta: 8:33:28, time: 2.105, data_time: 0.026, memory: 18684, loss_rpn_cls: 0.0441, loss_rpn_bbox: 0.0290, s0.loss_cls: 0.2927, s0.acc: 91.3750, s0.loss_bbox: 0.2502, s0.loss_mask: 0.2551, s1.loss_cls: 0.1491, s1.acc: 90.9504, s1.loss_bbox: 0.1040, s1.loss_mask: 0.1133, s2.loss_cls: 0.0734, s2.acc: 90.9759, s2.loss_bbox: 0.0403, s2.loss_mask: 0.0517, loss: 1.4028, grad_norm: 7.6964\n",
      "2021-05-19 11:45:43,359 - mmdet - INFO - Epoch [2][300/818]\tlr: 5.000e-05, eta: 8:32:43, time: 2.095, data_time: 0.029, memory: 18684, loss_rpn_cls: 0.0560, loss_rpn_bbox: 0.0315, s0.loss_cls: 0.2934, s0.acc: 91.3135, s0.loss_bbox: 0.2518, s0.loss_mask: 0.2784, s1.loss_cls: 0.1497, s1.acc: 91.0857, s1.loss_bbox: 0.1033, s1.loss_mask: 0.1246, s2.loss_cls: 0.0730, s2.acc: 90.9988, s2.loss_bbox: 0.0390, s2.loss_mask: 0.0570, loss: 1.4577, grad_norm: 7.2195\n",
      "2021-05-19 11:47:27,062 - mmdet - INFO - Epoch [2][350/818]\tlr: 5.000e-05, eta: 8:31:38, time: 2.074, data_time: 0.030, memory: 18684, loss_rpn_cls: 0.0457, loss_rpn_bbox: 0.0294, s0.loss_cls: 0.3056, s0.acc: 90.9082, s0.loss_bbox: 0.2596, s0.loss_mask: 0.2643, s1.loss_cls: 0.1541, s1.acc: 90.7750, s1.loss_bbox: 0.1059, s1.loss_mask: 0.1228, s2.loss_cls: 0.0741, s2.acc: 91.0583, s2.loss_bbox: 0.0400, s2.loss_mask: 0.0565, loss: 1.4581, grad_norm: 7.6043\n",
      "2021-05-19 11:49:10,510 - mmdet - INFO - Epoch [2][400/818]\tlr: 5.000e-05, eta: 8:30:27, time: 2.069, data_time: 0.027, memory: 18684, loss_rpn_cls: 0.0520, loss_rpn_bbox: 0.0331, s0.loss_cls: 0.3166, s0.acc: 90.4668, s0.loss_bbox: 0.2823, s0.loss_mask: 0.2934, s1.loss_cls: 0.1611, s1.acc: 90.1916, s1.loss_bbox: 0.1139, s1.loss_mask: 0.1326, s2.loss_cls: 0.0787, s2.acc: 90.5132, s2.loss_bbox: 0.0412, s2.loss_mask: 0.0593, loss: 1.5641, grad_norm: 7.4029\n",
      "2021-05-19 11:50:56,004 - mmdet - INFO - Epoch [2][450/818]\tlr: 5.000e-05, eta: 8:29:38, time: 2.110, data_time: 0.030, memory: 18684, loss_rpn_cls: 0.0509, loss_rpn_bbox: 0.0302, s0.loss_cls: 0.2775, s0.acc: 91.7021, s0.loss_bbox: 0.2562, s0.loss_mask: 0.2451, s1.loss_cls: 0.1411, s1.acc: 91.4049, s1.loss_bbox: 0.1050, s1.loss_mask: 0.1096, s2.loss_cls: 0.0687, s2.acc: 91.5644, s2.loss_bbox: 0.0399, s2.loss_mask: 0.0504, loss: 1.3746, grad_norm: 7.3951\n",
      "2021-05-19 11:52:39,530 - mmdet - INFO - Epoch [2][500/818]\tlr: 5.000e-05, eta: 8:28:22, time: 2.071, data_time: 0.027, memory: 18684, loss_rpn_cls: 0.0554, loss_rpn_bbox: 0.0356, s0.loss_cls: 0.2783, s0.acc: 91.5605, s0.loss_bbox: 0.2669, s0.loss_mask: 0.2747, s1.loss_cls: 0.1425, s1.acc: 91.1884, s1.loss_bbox: 0.1061, s1.loss_mask: 0.1215, s2.loss_cls: 0.0690, s2.acc: 91.2394, s2.loss_bbox: 0.0389, s2.loss_mask: 0.0549, loss: 1.4439, grad_norm: 7.4762\n",
      "2021-05-19 11:54:24,359 - mmdet - INFO - Epoch [2][550/818]\tlr: 5.000e-05, eta: 8:27:18, time: 2.097, data_time: 0.026, memory: 18684, loss_rpn_cls: 0.0480, loss_rpn_bbox: 0.0332, s0.loss_cls: 0.2850, s0.acc: 91.1543, s0.loss_bbox: 0.2550, s0.loss_mask: 0.2641, s1.loss_cls: 0.1463, s1.acc: 90.8776, s1.loss_bbox: 0.1039, s1.loss_mask: 0.1175, s2.loss_cls: 0.0717, s2.acc: 91.0797, s2.loss_bbox: 0.0395, s2.loss_mask: 0.0539, loss: 1.4179, grad_norm: 7.7209\n",
      "2021-05-19 11:56:08,974 - mmdet - INFO - Epoch [2][600/818]\tlr: 5.000e-05, eta: 8:26:09, time: 2.092, data_time: 0.026, memory: 18684, loss_rpn_cls: 0.0449, loss_rpn_bbox: 0.0305, s0.loss_cls: 0.2833, s0.acc: 91.4434, s0.loss_bbox: 0.2596, s0.loss_mask: 0.2622, s1.loss_cls: 0.1426, s1.acc: 91.3353, s1.loss_bbox: 0.1040, s1.loss_mask: 0.1150, s2.loss_cls: 0.0698, s2.acc: 91.5068, s2.loss_bbox: 0.0395, s2.loss_mask: 0.0527, loss: 1.4040, grad_norm: 7.3584\n",
      "2021-05-19 11:57:55,622 - mmdet - INFO - Epoch [2][650/818]\tlr: 5.000e-05, eta: 8:25:18, time: 2.133, data_time: 0.030, memory: 18684, loss_rpn_cls: 0.0454, loss_rpn_bbox: 0.0294, s0.loss_cls: 0.2821, s0.acc: 91.5352, s0.loss_bbox: 0.2482, s0.loss_mask: 0.2492, s1.loss_cls: 0.1414, s1.acc: 91.4021, s1.loss_bbox: 0.1002, s1.loss_mask: 0.1053, s2.loss_cls: 0.0691, s2.acc: 91.5221, s2.loss_bbox: 0.0382, s2.loss_mask: 0.0478, loss: 1.3565, grad_norm: 7.8355\n",
      "2021-05-19 11:59:42,589 - mmdet - INFO - Epoch [2][700/818]\tlr: 5.000e-05, eta: 8:24:27, time: 2.139, data_time: 0.031, memory: 18684, loss_rpn_cls: 0.0538, loss_rpn_bbox: 0.0357, s0.loss_cls: 0.3191, s0.acc: 90.0107, s0.loss_bbox: 0.3045, s0.loss_mask: 0.2751, s1.loss_cls: 0.1592, s1.acc: 89.8552, s1.loss_bbox: 0.1218, s1.loss_mask: 0.1216, s2.loss_cls: 0.0766, s2.acc: 90.1926, s2.loss_bbox: 0.0448, s2.loss_mask: 0.0553, loss: 1.5674, grad_norm: 7.5862\n",
      "2021-05-19 12:01:27,060 - mmdet - INFO - Epoch [2][750/818]\tlr: 5.000e-05, eta: 8:23:09, time: 2.089, data_time: 0.027, memory: 18684, loss_rpn_cls: 0.0547, loss_rpn_bbox: 0.0328, s0.loss_cls: 0.3118, s0.acc: 90.4717, s0.loss_bbox: 0.2698, s0.loss_mask: 0.2809, s1.loss_cls: 0.1585, s1.acc: 90.2566, s1.loss_bbox: 0.1090, s1.loss_mask: 0.1306, s2.loss_cls: 0.0762, s2.acc: 90.5937, s2.loss_bbox: 0.0405, s2.loss_mask: 0.0605, loss: 1.5252, grad_norm: 8.1275\n",
      "2021-05-19 12:03:09,853 - mmdet - INFO - Epoch [2][800/818]\tlr: 5.000e-05, eta: 8:21:34, time: 2.056, data_time: 0.027, memory: 18684, loss_rpn_cls: 0.0507, loss_rpn_bbox: 0.0310, s0.loss_cls: 0.3062, s0.acc: 90.9141, s0.loss_bbox: 0.2624, s0.loss_mask: 0.2632, s1.loss_cls: 0.1535, s1.acc: 90.5303, s1.loss_bbox: 0.1062, s1.loss_mask: 0.1218, s2.loss_cls: 0.0753, s2.acc: 90.6460, s2.loss_bbox: 0.0393, s2.loss_mask: 0.0564, loss: 1.4660, grad_norm: 7.6606\n",
      "2021-05-19 12:03:46,454 - mmdet - INFO - Saving checkpoint at 2 epochs\n"
     ]
    },
    {
     "name": "stdout",
     "output_type": "stream",
     "text": [
      "[>>>>>>>>>>>>>>>>>>>>>>>>>>>>>] 655/655, 4.1 task/s, elapsed: 158s, ETA:     0s"
     ]
    },
    {
     "name": "stderr",
     "output_type": "stream",
     "text": [
      "2021-05-19 12:06:29,432 - mmdet - INFO - Evaluating bbox...\n"
     ]
    },
    {
     "name": "stdout",
     "output_type": "stream",
     "text": [
      "Loading and preparing results...\n",
      "DONE (t=1.18s)\n",
      "creating index...\n",
      "index created!\n",
      "Running per image evaluation...\n",
      "Evaluate annotation type *bbox*\n",
      "DONE (t=6.44s).\n",
      "Accumulating evaluation results...\n"
     ]
    },
    {
     "name": "stderr",
     "output_type": "stream",
     "text": [
      "2021-05-19 12:06:38,222 - mmdet - INFO - Epoch(val) [2][818]\tbbox_mAP: 0.2360, bbox_mAP_50: 0.3160, bbox_mAP_75: 0.2500, bbox_mAP_s: 0.0880, bbox_mAP_m: 0.2480, bbox_mAP_l: 0.4070, bbox_mAP_copypaste: 0.236 0.316 0.250 0.088 0.248 0.407\n"
     ]
    },
    {
     "name": "stdout",
     "output_type": "stream",
     "text": [
      "DONE (t=1.05s).\n",
      "Average Precision  (AP) @[ IoU=0.50:0.95 | area=   all | maxDets=100 ] = 0.236\n",
      "Average Precision  (AP) @[ IoU=0.50      | area=   all | maxDets=1000 ] = 0.316\n",
      "Average Precision  (AP) @[ IoU=0.75      | area=   all | maxDets=1000 ] = 0.250\n",
      "Average Precision  (AP) @[ IoU=0.50:0.95 | area= small | maxDets=1000 ] = 0.088\n",
      "Average Precision  (AP) @[ IoU=0.50:0.95 | area=medium | maxDets=1000 ] = 0.248\n",
      "Average Precision  (AP) @[ IoU=0.50:0.95 | area= large | maxDets=1000 ] = 0.407\n",
      "Average Recall     (AR) @[ IoU=0.50:0.95 | area=   all | maxDets=100 ] = 0.406\n",
      "Average Recall     (AR) @[ IoU=0.50:0.95 | area=   all | maxDets=300 ] = 0.406\n",
      "Average Recall     (AR) @[ IoU=0.50:0.95 | area=   all | maxDets=1000 ] = 0.406\n",
      "Average Recall     (AR) @[ IoU=0.50:0.95 | area= small | maxDets=1000 ] = 0.195\n",
      "Average Recall     (AR) @[ IoU=0.50:0.95 | area=medium | maxDets=1000 ] = 0.421\n",
      "Average Recall     (AR) @[ IoU=0.50:0.95 | area= large | maxDets=1000 ] = 0.620\n"
     ]
    },
    {
     "name": "stderr",
     "output_type": "stream",
     "text": [
      "2021-05-19 12:08:27,859 - mmdet - INFO - Epoch [3][50/818]\tlr: 5.000e-05, eta: 8:15:01, time: 2.192, data_time: 0.079, memory: 18684, loss_rpn_cls: 0.0404, loss_rpn_bbox: 0.0305, s0.loss_cls: 0.2686, s0.acc: 91.8545, s0.loss_bbox: 0.2462, s0.loss_mask: 0.2565, s1.loss_cls: 0.1345, s1.acc: 91.5752, s1.loss_bbox: 0.0992, s1.loss_mask: 0.1108, s2.loss_cls: 0.0659, s2.acc: 91.7709, s2.loss_bbox: 0.0378, s2.loss_mask: 0.0514, loss: 1.3420, grad_norm: 7.0715\n",
      "2021-05-19 12:10:13,130 - mmdet - INFO - Epoch [3][100/818]\tlr: 5.000e-05, eta: 8:13:54, time: 2.105, data_time: 0.030, memory: 18684, loss_rpn_cls: 0.0519, loss_rpn_bbox: 0.0343, s0.loss_cls: 0.2805, s0.acc: 91.2988, s0.loss_bbox: 0.2581, s0.loss_mask: 0.2607, s1.loss_cls: 0.1403, s1.acc: 91.0775, s1.loss_bbox: 0.1033, s1.loss_mask: 0.1131, s2.loss_cls: 0.0694, s2.acc: 91.1286, s2.loss_bbox: 0.0403, s2.loss_mask: 0.0518, loss: 1.4036, grad_norm: 7.4544\n",
      "2021-05-19 12:11:59,654 - mmdet - INFO - Epoch [3][150/818]\tlr: 5.000e-05, eta: 8:12:55, time: 2.130, data_time: 0.030, memory: 18684, loss_rpn_cls: 0.0424, loss_rpn_bbox: 0.0316, s0.loss_cls: 0.2716, s0.acc: 91.7432, s0.loss_bbox: 0.2642, s0.loss_mask: 0.2430, s1.loss_cls: 0.1320, s1.acc: 91.9144, s1.loss_bbox: 0.1093, s1.loss_mask: 0.1086, s2.loss_cls: 0.0644, s2.acc: 91.9883, s2.loss_bbox: 0.0414, s2.loss_mask: 0.0490, loss: 1.3575, grad_norm: 7.2719\n",
      "2021-05-19 12:13:45,337 - mmdet - INFO - Epoch [3][200/818]\tlr: 5.000e-05, eta: 8:11:47, time: 2.114, data_time: 0.030, memory: 18684, loss_rpn_cls: 0.0520, loss_rpn_bbox: 0.0318, s0.loss_cls: 0.2895, s0.acc: 91.0928, s0.loss_bbox: 0.2714, s0.loss_mask: 0.2691, s1.loss_cls: 0.1443, s1.acc: 91.0130, s1.loss_bbox: 0.1107, s1.loss_mask: 0.1228, s2.loss_cls: 0.0698, s2.acc: 91.3846, s2.loss_bbox: 0.0407, s2.loss_mask: 0.0559, loss: 1.4578, grad_norm: 8.6178\n",
      "2021-05-19 12:15:30,248 - mmdet - INFO - Epoch [3][250/818]\tlr: 5.000e-05, eta: 8:10:31, time: 2.098, data_time: 0.028, memory: 18684, loss_rpn_cls: 0.0400, loss_rpn_bbox: 0.0296, s0.loss_cls: 0.2558, s0.acc: 92.0537, s0.loss_bbox: 0.2419, s0.loss_mask: 0.2392, s1.loss_cls: 0.1309, s1.acc: 91.6540, s1.loss_bbox: 0.0981, s1.loss_mask: 0.1044, s2.loss_cls: 0.0634, s2.acc: 91.9551, s2.loss_bbox: 0.0366, s2.loss_mask: 0.0477, loss: 1.2877, grad_norm: 7.6484\n",
      "2021-05-19 12:17:17,454 - mmdet - INFO - Epoch [3][300/818]\tlr: 5.000e-05, eta: 8:09:30, time: 2.144, data_time: 0.032, memory: 18684, loss_rpn_cls: 0.0471, loss_rpn_bbox: 0.0363, s0.loss_cls: 0.2778, s0.acc: 91.2871, s0.loss_bbox: 0.2703, s0.loss_mask: 0.2526, s1.loss_cls: 0.1407, s1.acc: 90.9623, s1.loss_bbox: 0.1084, s1.loss_mask: 0.1130, s2.loss_cls: 0.0694, s2.acc: 91.1216, s2.loss_bbox: 0.0408, s2.loss_mask: 0.0512, loss: 1.4075, grad_norm: 7.7982\n",
      "2021-05-19 12:19:02,138 - mmdet - INFO - Epoch [3][350/818]\tlr: 5.000e-05, eta: 8:08:09, time: 2.094, data_time: 0.028, memory: 18702, loss_rpn_cls: 0.0408, loss_rpn_bbox: 0.0277, s0.loss_cls: 0.2839, s0.acc: 91.3594, s0.loss_bbox: 0.2602, s0.loss_mask: 0.2585, s1.loss_cls: 0.1442, s1.acc: 91.3952, s1.loss_bbox: 0.1043, s1.loss_mask: 0.1131, s2.loss_cls: 0.0699, s2.acc: 91.4672, s2.loss_bbox: 0.0385, s2.loss_mask: 0.0512, loss: 1.3922, grad_norm: 7.9307\n",
      "2021-05-19 12:20:47,118 - mmdet - INFO - Epoch [3][400/818]\tlr: 5.000e-05, eta: 8:06:49, time: 2.100, data_time: 0.029, memory: 18702, loss_rpn_cls: 0.0451, loss_rpn_bbox: 0.0296, s0.loss_cls: 0.2794, s0.acc: 91.2725, s0.loss_bbox: 0.2623, s0.loss_mask: 0.2413, s1.loss_cls: 0.1371, s1.acc: 91.3280, s1.loss_bbox: 0.1079, s1.loss_mask: 0.1072, s2.loss_cls: 0.0673, s2.acc: 91.1133, s2.loss_bbox: 0.0413, s2.loss_mask: 0.0493, loss: 1.3678, grad_norm: 7.6916\n",
      "2021-05-19 12:22:34,174 - mmdet - INFO - Epoch [3][450/818]\tlr: 5.000e-05, eta: 8:05:42, time: 2.141, data_time: 0.029, memory: 18702, loss_rpn_cls: 0.0537, loss_rpn_bbox: 0.0346, s0.loss_cls: 0.2917, s0.acc: 91.0068, s0.loss_bbox: 0.2692, s0.loss_mask: 0.2470, s1.loss_cls: 0.1442, s1.acc: 90.9390, s1.loss_bbox: 0.1114, s1.loss_mask: 0.1097, s2.loss_cls: 0.0704, s2.acc: 91.1526, s2.loss_bbox: 0.0409, s2.loss_mask: 0.0484, loss: 1.4211, grad_norm: 7.4334\n",
      "2021-05-19 12:24:17,263 - mmdet - INFO - Epoch [3][500/818]\tlr: 5.000e-05, eta: 8:04:07, time: 2.062, data_time: 0.028, memory: 18702, loss_rpn_cls: 0.0434, loss_rpn_bbox: 0.0274, s0.loss_cls: 0.2714, s0.acc: 91.6543, s0.loss_bbox: 0.2322, s0.loss_mask: 0.2662, s1.loss_cls: 0.1396, s1.acc: 91.3518, s1.loss_bbox: 0.0922, s1.loss_mask: 0.1171, s2.loss_cls: 0.0681, s2.acc: 91.5183, s2.loss_bbox: 0.0350, s2.loss_mask: 0.0529, loss: 1.3454, grad_norm: 8.1647\n",
      "2021-05-19 12:26:01,126 - mmdet - INFO - Epoch [3][550/818]\tlr: 5.000e-05, eta: 8:02:36, time: 2.077, data_time: 0.024, memory: 18702, loss_rpn_cls: 0.0430, loss_rpn_bbox: 0.0273, s0.loss_cls: 0.2421, s0.acc: 92.4844, s0.loss_bbox: 0.2267, s0.loss_mask: 0.2455, s1.loss_cls: 0.1226, s1.acc: 92.2164, s1.loss_bbox: 0.0914, s1.loss_mask: 0.1083, s2.loss_cls: 0.0593, s2.acc: 92.3816, s2.loss_bbox: 0.0343, s2.loss_mask: 0.0498, loss: 1.2503, grad_norm: 7.6865\n",
      "2021-05-19 12:27:45,985 - mmdet - INFO - Epoch [3][600/818]\tlr: 5.000e-05, eta: 8:01:11, time: 2.097, data_time: 0.028, memory: 18702, loss_rpn_cls: 0.0497, loss_rpn_bbox: 0.0311, s0.loss_cls: 0.2764, s0.acc: 91.4561, s0.loss_bbox: 0.2509, s0.loss_mask: 0.2474, s1.loss_cls: 0.1403, s1.acc: 91.1593, s1.loss_bbox: 0.1018, s1.loss_mask: 0.1044, s2.loss_cls: 0.0693, s2.acc: 91.1930, s2.loss_bbox: 0.0384, s2.loss_mask: 0.0467, loss: 1.3564, grad_norm: 7.4518\n",
      "2021-05-19 12:29:31,976 - mmdet - INFO - Epoch [3][650/818]\tlr: 5.000e-05, eta: 7:59:52, time: 2.120, data_time: 0.030, memory: 18702, loss_rpn_cls: 0.0393, loss_rpn_bbox: 0.0275, s0.loss_cls: 0.2533, s0.acc: 92.3389, s0.loss_bbox: 0.2368, s0.loss_mask: 0.2401, s1.loss_cls: 0.1245, s1.acc: 92.4798, s1.loss_bbox: 0.0957, s1.loss_mask: 0.1053, s2.loss_cls: 0.0612, s2.acc: 92.4054, s2.loss_bbox: 0.0361, s2.loss_mask: 0.0463, loss: 1.2660, grad_norm: 7.3128\n",
      "2021-05-19 12:31:15,643 - mmdet - INFO - Epoch [3][700/818]\tlr: 5.000e-05, eta: 7:58:18, time: 2.073, data_time: 0.027, memory: 18702, loss_rpn_cls: 0.0363, loss_rpn_bbox: 0.0262, s0.loss_cls: 0.2409, s0.acc: 92.4951, s0.loss_bbox: 0.2242, s0.loss_mask: 0.2425, s1.loss_cls: 0.1228, s1.acc: 92.3477, s1.loss_bbox: 0.0935, s1.loss_mask: 0.1101, s2.loss_cls: 0.0610, s2.acc: 92.3742, s2.loss_bbox: 0.0372, s2.loss_mask: 0.0513, loss: 1.2458, grad_norm: 7.1502\n",
      "2021-05-19 12:33:00,507 - mmdet - INFO - Epoch [3][750/818]\tlr: 5.000e-05, eta: 7:56:51, time: 2.097, data_time: 0.030, memory: 18702, loss_rpn_cls: 0.0469, loss_rpn_bbox: 0.0319, s0.loss_cls: 0.2846, s0.acc: 91.5127, s0.loss_bbox: 0.2615, s0.loss_mask: 0.2477, s1.loss_cls: 0.1426, s1.acc: 91.5091, s1.loss_bbox: 0.1058, s1.loss_mask: 0.1109, s2.loss_cls: 0.0700, s2.acc: 91.6703, s2.loss_bbox: 0.0396, s2.loss_mask: 0.0510, loss: 1.3923, grad_norm: 7.6174\n",
      "2021-05-19 12:34:43,235 - mmdet - INFO - Epoch [3][800/818]\tlr: 5.000e-05, eta: 7:55:10, time: 2.055, data_time: 0.027, memory: 18702, loss_rpn_cls: 0.0458, loss_rpn_bbox: 0.0278, s0.loss_cls: 0.2645, s0.acc: 91.7158, s0.loss_bbox: 0.2446, s0.loss_mask: 0.2496, s1.loss_cls: 0.1360, s1.acc: 91.3580, s1.loss_bbox: 0.1002, s1.loss_mask: 0.1106, s2.loss_cls: 0.0666, s2.acc: 91.5466, s2.loss_bbox: 0.0378, s2.loss_mask: 0.0500, loss: 1.3333, grad_norm: 7.5584\n",
      "2021-05-19 12:35:20,964 - mmdet - INFO - Saving checkpoint at 3 epochs\n"
     ]
    },
    {
     "name": "stdout",
     "output_type": "stream",
     "text": [
      "[>>>>>>>>>>>>>>>>>>>>>>>>>>>>>] 655/655, 4.2 task/s, elapsed: 156s, ETA:     0s"
     ]
    },
    {
     "name": "stderr",
     "output_type": "stream",
     "text": [
      "2021-05-19 12:38:02,309 - mmdet - INFO - Evaluating bbox...\n"
     ]
    },
    {
     "name": "stdout",
     "output_type": "stream",
     "text": [
      "Loading and preparing results...\n",
      "DONE (t=0.16s)\n",
      "creating index...\n",
      "index created!\n",
      "Running per image evaluation...\n",
      "Evaluate annotation type *bbox*\n",
      "DONE (t=7.10s).\n",
      "Accumulating evaluation results...\n"
     ]
    },
    {
     "name": "stderr",
     "output_type": "stream",
     "text": [
      "2021-05-19 12:38:10,690 - mmdet - INFO - Epoch(val) [3][818]\tbbox_mAP: 0.3000, bbox_mAP_50: 0.4080, bbox_mAP_75: 0.3150, bbox_mAP_s: 0.1290, bbox_mAP_m: 0.2870, bbox_mAP_l: 0.5020, bbox_mAP_copypaste: 0.300 0.408 0.315 0.129 0.287 0.502\n"
     ]
    },
    {
     "name": "stdout",
     "output_type": "stream",
     "text": [
      "DONE (t=1.01s).\n",
      "Average Precision  (AP) @[ IoU=0.50:0.95 | area=   all | maxDets=100 ] = 0.300\n",
      "Average Precision  (AP) @[ IoU=0.50      | area=   all | maxDets=1000 ] = 0.408\n",
      "Average Precision  (AP) @[ IoU=0.75      | area=   all | maxDets=1000 ] = 0.315\n",
      "Average Precision  (AP) @[ IoU=0.50:0.95 | area= small | maxDets=1000 ] = 0.129\n",
      "Average Precision  (AP) @[ IoU=0.50:0.95 | area=medium | maxDets=1000 ] = 0.287\n",
      "Average Precision  (AP) @[ IoU=0.50:0.95 | area= large | maxDets=1000 ] = 0.502\n",
      "Average Recall     (AR) @[ IoU=0.50:0.95 | area=   all | maxDets=100 ] = 0.483\n",
      "Average Recall     (AR) @[ IoU=0.50:0.95 | area=   all | maxDets=300 ] = 0.483\n",
      "Average Recall     (AR) @[ IoU=0.50:0.95 | area=   all | maxDets=1000 ] = 0.483\n",
      "Average Recall     (AR) @[ IoU=0.50:0.95 | area= small | maxDets=1000 ] = 0.228\n",
      "Average Recall     (AR) @[ IoU=0.50:0.95 | area=medium | maxDets=1000 ] = 0.470\n",
      "Average Recall     (AR) @[ IoU=0.50:0.95 | area= large | maxDets=1000 ] = 0.714\n"
     ]
    },
    {
     "name": "stderr",
     "output_type": "stream",
     "text": [
      "2021-05-19 12:40:00,683 - mmdet - INFO - Epoch [4][50/818]\tlr: 5.000e-05, eta: 7:50:09, time: 2.200, data_time: 0.082, memory: 18702, loss_rpn_cls: 0.0350, loss_rpn_bbox: 0.0275, s0.loss_cls: 0.2523, s0.acc: 92.1562, s0.loss_bbox: 0.2415, s0.loss_mask: 0.2348, s1.loss_cls: 0.1252, s1.acc: 92.1595, s1.loss_bbox: 0.0998, s1.loss_mask: 0.1049, s2.loss_cls: 0.0621, s2.acc: 91.9644, s2.loss_bbox: 0.0386, s2.loss_mask: 0.0478, loss: 1.2695, grad_norm: 7.1656\n",
      "2021-05-19 12:41:46,452 - mmdet - INFO - Epoch [4][100/818]\tlr: 5.000e-05, eta: 7:48:49, time: 2.115, data_time: 0.029, memory: 18702, loss_rpn_cls: 0.0367, loss_rpn_bbox: 0.0291, s0.loss_cls: 0.2524, s0.acc: 92.0703, s0.loss_bbox: 0.2520, s0.loss_mask: 0.2356, s1.loss_cls: 0.1235, s1.acc: 92.1321, s1.loss_bbox: 0.1010, s1.loss_mask: 0.1049, s2.loss_cls: 0.0611, s2.acc: 92.0257, s2.loss_bbox: 0.0385, s2.loss_mask: 0.0476, loss: 1.2824, grad_norm: 7.8364\n",
      "2021-05-19 12:43:30,966 - mmdet - INFO - Epoch [4][150/818]\tlr: 5.000e-05, eta: 7:47:21, time: 2.090, data_time: 0.030, memory: 18702, loss_rpn_cls: 0.0397, loss_rpn_bbox: 0.0275, s0.loss_cls: 0.2559, s0.acc: 92.2471, s0.loss_bbox: 0.2410, s0.loss_mask: 0.2447, s1.loss_cls: 0.1281, s1.acc: 92.2229, s1.loss_bbox: 0.0963, s1.loss_mask: 0.1042, s2.loss_cls: 0.0621, s2.acc: 92.2803, s2.loss_bbox: 0.0365, s2.loss_mask: 0.0462, loss: 1.2820, grad_norm: 8.0200\n",
      "2021-05-19 12:45:16,490 - mmdet - INFO - Epoch [4][200/818]\tlr: 5.000e-05, eta: 7:45:58, time: 2.110, data_time: 0.029, memory: 18702, loss_rpn_cls: 0.0402, loss_rpn_bbox: 0.0285, s0.loss_cls: 0.2458, s0.acc: 92.2617, s0.loss_bbox: 0.2471, s0.loss_mask: 0.2353, s1.loss_cls: 0.1235, s1.acc: 92.0862, s1.loss_bbox: 0.0996, s1.loss_mask: 0.1028, s2.loss_cls: 0.0609, s2.acc: 92.2147, s2.loss_bbox: 0.0385, s2.loss_mask: 0.0469, loss: 1.2691, grad_norm: 7.3797\n",
      "2021-05-19 12:47:01,259 - mmdet - INFO - Epoch [4][250/818]\tlr: 5.000e-05, eta: 7:44:30, time: 2.095, data_time: 0.031, memory: 18702, loss_rpn_cls: 0.0388, loss_rpn_bbox: 0.0313, s0.loss_cls: 0.2425, s0.acc: 92.3877, s0.loss_bbox: 0.2428, s0.loss_mask: 0.2496, s1.loss_cls: 0.1202, s1.acc: 92.3615, s1.loss_bbox: 0.0967, s1.loss_mask: 0.1100, s2.loss_cls: 0.0585, s2.acc: 92.6159, s2.loss_bbox: 0.0361, s2.loss_mask: 0.0489, loss: 1.2755, grad_norm: 7.6572\n",
      "2021-05-19 12:48:47,319 - mmdet - INFO - Epoch [4][300/818]\tlr: 5.000e-05, eta: 7:43:07, time: 2.121, data_time: 0.030, memory: 18702, loss_rpn_cls: 0.0407, loss_rpn_bbox: 0.0284, s0.loss_cls: 0.2525, s0.acc: 91.9893, s0.loss_bbox: 0.2428, s0.loss_mask: 0.2333, s1.loss_cls: 0.1243, s1.acc: 92.0109, s1.loss_bbox: 0.0978, s1.loss_mask: 0.1029, s2.loss_cls: 0.0614, s2.acc: 92.0686, s2.loss_bbox: 0.0371, s2.loss_mask: 0.0462, loss: 1.2673, grad_norm: 7.6602\n",
      "2021-05-19 12:50:31,758 - mmdet - INFO - Epoch [4][350/818]\tlr: 5.000e-05, eta: 7:41:36, time: 2.089, data_time: 0.030, memory: 18702, loss_rpn_cls: 0.0417, loss_rpn_bbox: 0.0256, s0.loss_cls: 0.2513, s0.acc: 92.1016, s0.loss_bbox: 0.2422, s0.loss_mask: 0.2285, s1.loss_cls: 0.1266, s1.acc: 92.1603, s1.loss_bbox: 0.0986, s1.loss_mask: 0.1006, s2.loss_cls: 0.0626, s2.acc: 92.2406, s2.loss_bbox: 0.0378, s2.loss_mask: 0.0453, loss: 1.2609, grad_norm: 8.1017\n",
      "2021-05-19 12:52:14,867 - mmdet - INFO - Epoch [4][400/818]\tlr: 5.000e-05, eta: 7:39:59, time: 2.062, data_time: 0.027, memory: 18702, loss_rpn_cls: 0.0381, loss_rpn_bbox: 0.0270, s0.loss_cls: 0.2336, s0.acc: 92.6982, s0.loss_bbox: 0.2303, s0.loss_mask: 0.2321, s1.loss_cls: 0.1163, s1.acc: 92.8788, s1.loss_bbox: 0.0928, s1.loss_mask: 0.1011, s2.loss_cls: 0.0566, s2.acc: 92.9576, s2.loss_bbox: 0.0351, s2.loss_mask: 0.0456, loss: 1.2088, grad_norm: 7.5756\n",
      "2021-05-19 12:53:59,564 - mmdet - INFO - Epoch [4][450/818]\tlr: 5.000e-05, eta: 7:38:28, time: 2.094, data_time: 0.026, memory: 18702, loss_rpn_cls: 0.0325, loss_rpn_bbox: 0.0267, s0.loss_cls: 0.2175, s0.acc: 93.0566, s0.loss_bbox: 0.2173, s0.loss_mask: 0.2222, s1.loss_cls: 0.1073, s1.acc: 93.0597, s1.loss_bbox: 0.0880, s1.loss_mask: 0.0990, s2.loss_cls: 0.0515, s2.acc: 93.3420, s2.loss_bbox: 0.0328, s2.loss_mask: 0.0453, loss: 1.1402, grad_norm: 7.3605\n",
      "2021-05-19 12:55:45,080 - mmdet - INFO - Epoch [4][500/818]\tlr: 5.000e-05, eta: 7:37:01, time: 2.110, data_time: 0.033, memory: 18702, loss_rpn_cls: 0.0423, loss_rpn_bbox: 0.0302, s0.loss_cls: 0.2642, s0.acc: 91.7695, s0.loss_bbox: 0.2671, s0.loss_mask: 0.2440, s1.loss_cls: 0.1333, s1.acc: 91.6117, s1.loss_bbox: 0.1081, s1.loss_mask: 0.1089, s2.loss_cls: 0.0658, s2.acc: 91.6878, s2.loss_bbox: 0.0396, s2.loss_mask: 0.0498, loss: 1.3532, grad_norm: 7.6231\n",
      "2021-05-19 12:57:30,285 - mmdet - INFO - Epoch [4][550/818]\tlr: 5.000e-05, eta: 7:35:32, time: 2.104, data_time: 0.028, memory: 18702, loss_rpn_cls: 0.0403, loss_rpn_bbox: 0.0260, s0.loss_cls: 0.2493, s0.acc: 92.4092, s0.loss_bbox: 0.2364, s0.loss_mask: 0.2369, s1.loss_cls: 0.1230, s1.acc: 92.4342, s1.loss_bbox: 0.0963, s1.loss_mask: 0.1034, s2.loss_cls: 0.0587, s2.acc: 92.6322, s2.loss_bbox: 0.0365, s2.loss_mask: 0.0469, loss: 1.2537, grad_norm: 7.4891\n",
      "2021-05-19 12:59:15,205 - mmdet - INFO - Epoch [4][600/818]\tlr: 5.000e-05, eta: 7:34:01, time: 2.098, data_time: 0.031, memory: 18702, loss_rpn_cls: 0.0506, loss_rpn_bbox: 0.0312, s0.loss_cls: 0.2488, s0.acc: 92.2461, s0.loss_bbox: 0.2447, s0.loss_mask: 0.2338, s1.loss_cls: 0.1227, s1.acc: 92.2244, s1.loss_bbox: 0.1005, s1.loss_mask: 0.1020, s2.loss_cls: 0.0599, s2.acc: 92.3837, s2.loss_bbox: 0.0380, s2.loss_mask: 0.0464, loss: 1.2787, grad_norm: 7.0927\n",
      "2021-05-19 13:01:01,016 - mmdet - INFO - Epoch [4][650/818]\tlr: 5.000e-05, eta: 7:32:33, time: 2.116, data_time: 0.028, memory: 18702, loss_rpn_cls: 0.0476, loss_rpn_bbox: 0.0279, s0.loss_cls: 0.2549, s0.acc: 92.2031, s0.loss_bbox: 0.2413, s0.loss_mask: 0.2409, s1.loss_cls: 0.1247, s1.acc: 92.4369, s1.loss_bbox: 0.0967, s1.loss_mask: 0.1079, s2.loss_cls: 0.0597, s2.acc: 92.6212, s2.loss_bbox: 0.0363, s2.loss_mask: 0.0490, loss: 1.2869, grad_norm: 7.5414\n",
      "2021-05-19 13:02:44,920 - mmdet - INFO - Epoch [4][700/818]\tlr: 5.000e-05, eta: 7:30:57, time: 2.078, data_time: 0.030, memory: 18702, loss_rpn_cls: 0.0388, loss_rpn_bbox: 0.0276, s0.loss_cls: 0.2424, s0.acc: 92.2686, s0.loss_bbox: 0.2446, s0.loss_mask: 0.2446, s1.loss_cls: 0.1212, s1.acc: 92.2383, s1.loss_bbox: 0.0984, s1.loss_mask: 0.1064, s2.loss_cls: 0.0593, s2.acc: 92.4310, s2.loss_bbox: 0.0371, s2.loss_mask: 0.0483, loss: 1.2686, grad_norm: 7.4680\n",
      "2021-05-19 13:04:28,924 - mmdet - INFO - Epoch [4][750/818]\tlr: 5.000e-05, eta: 7:29:21, time: 2.080, data_time: 0.032, memory: 18702, loss_rpn_cls: 0.0442, loss_rpn_bbox: 0.0307, s0.loss_cls: 0.2455, s0.acc: 92.2393, s0.loss_bbox: 0.2399, s0.loss_mask: 0.2286, s1.loss_cls: 0.1239, s1.acc: 92.0761, s1.loss_bbox: 0.0984, s1.loss_mask: 0.1040, s2.loss_cls: 0.0610, s2.acc: 92.1436, s2.loss_bbox: 0.0376, s2.loss_mask: 0.0484, loss: 1.2621, grad_norm: 8.0184\n",
      "2021-05-19 13:06:14,359 - mmdet - INFO - Epoch [4][800/818]\tlr: 5.000e-05, eta: 7:27:50, time: 2.109, data_time: 0.034, memory: 18702, loss_rpn_cls: 0.0471, loss_rpn_bbox: 0.0316, s0.loss_cls: 0.2674, s0.acc: 91.7773, s0.loss_bbox: 0.2682, s0.loss_mask: 0.2480, s1.loss_cls: 0.1348, s1.acc: 91.4758, s1.loss_bbox: 0.1087, s1.loss_mask: 0.1123, s2.loss_cls: 0.0662, s2.acc: 91.4647, s2.loss_bbox: 0.0417, s2.loss_mask: 0.0507, loss: 1.3767, grad_norm: 7.9415\n",
      "2021-05-19 13:06:51,544 - mmdet - INFO - Saving checkpoint at 4 epochs\n"
     ]
    },
    {
     "name": "stdout",
     "output_type": "stream",
     "text": [
      "[>>>>>>>>>>>>>>>>>>>>>>>>>>>>>] 655/655, 4.3 task/s, elapsed: 153s, ETA:     0s"
     ]
    },
    {
     "name": "stderr",
     "output_type": "stream",
     "text": [
      "2021-05-19 13:09:29,753 - mmdet - INFO - Evaluating bbox...\n"
     ]
    },
    {
     "name": "stdout",
     "output_type": "stream",
     "text": [
      "Loading and preparing results...\n",
      "DONE (t=0.65s)\n",
      "creating index...\n",
      "index created!\n",
      "Running per image evaluation...\n",
      "Evaluate annotation type *bbox*\n",
      "DONE (t=6.29s).\n",
      "Accumulating evaluation results...\n"
     ]
    },
    {
     "name": "stderr",
     "output_type": "stream",
     "text": [
      "2021-05-19 13:09:37,760 - mmdet - INFO - Epoch(val) [4][818]\tbbox_mAP: 0.3600, bbox_mAP_50: 0.4750, bbox_mAP_75: 0.3880, bbox_mAP_s: 0.1420, bbox_mAP_m: 0.3660, bbox_mAP_l: 0.5710, bbox_mAP_copypaste: 0.360 0.475 0.388 0.142 0.366 0.571\n"
     ]
    },
    {
     "name": "stdout",
     "output_type": "stream",
     "text": [
      "DONE (t=0.96s).\n",
      "Average Precision  (AP) @[ IoU=0.50:0.95 | area=   all | maxDets=100 ] = 0.360\n",
      "Average Precision  (AP) @[ IoU=0.50      | area=   all | maxDets=1000 ] = 0.475\n",
      "Average Precision  (AP) @[ IoU=0.75      | area=   all | maxDets=1000 ] = 0.388\n",
      "Average Precision  (AP) @[ IoU=0.50:0.95 | area= small | maxDets=1000 ] = 0.142\n",
      "Average Precision  (AP) @[ IoU=0.50:0.95 | area=medium | maxDets=1000 ] = 0.366\n",
      "Average Precision  (AP) @[ IoU=0.50:0.95 | area= large | maxDets=1000 ] = 0.571\n",
      "Average Recall     (AR) @[ IoU=0.50:0.95 | area=   all | maxDets=100 ] = 0.535\n",
      "Average Recall     (AR) @[ IoU=0.50:0.95 | area=   all | maxDets=300 ] = 0.535\n",
      "Average Recall     (AR) @[ IoU=0.50:0.95 | area=   all | maxDets=1000 ] = 0.535\n",
      "Average Recall     (AR) @[ IoU=0.50:0.95 | area= small | maxDets=1000 ] = 0.245\n",
      "Average Recall     (AR) @[ IoU=0.50:0.95 | area=medium | maxDets=1000 ] = 0.519\n",
      "Average Recall     (AR) @[ IoU=0.50:0.95 | area= large | maxDets=1000 ] = 0.792\n"
     ]
    },
    {
     "name": "stderr",
     "output_type": "stream",
     "text": [
      "2021-05-19 13:11:26,632 - mmdet - INFO - Epoch [5][50/818]\tlr: 5.000e-05, eta: 7:23:31, time: 2.177, data_time: 0.076, memory: 18702, loss_rpn_cls: 0.0340, loss_rpn_bbox: 0.0280, s0.loss_cls: 0.2181, s0.acc: 92.7637, s0.loss_bbox: 0.2251, s0.loss_mask: 0.2257, s1.loss_cls: 0.1073, s1.acc: 92.7054, s1.loss_bbox: 0.0896, s1.loss_mask: 0.0978, s2.loss_cls: 0.0530, s2.acc: 92.7522, s2.loss_bbox: 0.0342, s2.loss_mask: 0.0447, loss: 1.1576, grad_norm: 7.4792\n",
      "2021-05-19 13:13:13,458 - mmdet - INFO - Epoch [5][100/818]\tlr: 5.000e-05, eta: 7:22:07, time: 2.136, data_time: 0.032, memory: 18702, loss_rpn_cls: 0.0416, loss_rpn_bbox: 0.0294, s0.loss_cls: 0.2589, s0.acc: 91.8877, s0.loss_bbox: 0.2541, s0.loss_mask: 0.2245, s1.loss_cls: 0.1265, s1.acc: 91.9951, s1.loss_bbox: 0.1040, s1.loss_mask: 0.0968, s2.loss_cls: 0.0623, s2.acc: 91.8993, s2.loss_bbox: 0.0404, s2.loss_mask: 0.0439, loss: 1.2824, grad_norm: 8.1496\n",
      "2021-05-19 13:14:58,358 - mmdet - INFO - Epoch [5][150/818]\tlr: 5.000e-05, eta: 7:20:36, time: 2.098, data_time: 0.029, memory: 18702, loss_rpn_cls: 0.0389, loss_rpn_bbox: 0.0291, s0.loss_cls: 0.2338, s0.acc: 92.5264, s0.loss_bbox: 0.2443, s0.loss_mask: 0.2311, s1.loss_cls: 0.1154, s1.acc: 92.5004, s1.loss_bbox: 0.0978, s1.loss_mask: 0.1040, s2.loss_cls: 0.0569, s2.acc: 92.4743, s2.loss_bbox: 0.0379, s2.loss_mask: 0.0474, loss: 1.2366, grad_norm: 7.6300\n",
      "2021-05-19 13:16:44,700 - mmdet - INFO - Epoch [5][200/818]\tlr: 5.000e-05, eta: 7:19:09, time: 2.127, data_time: 0.031, memory: 18702, loss_rpn_cls: 0.0407, loss_rpn_bbox: 0.0319, s0.loss_cls: 0.2422, s0.acc: 92.4082, s0.loss_bbox: 0.2563, s0.loss_mask: 0.2375, s1.loss_cls: 0.1195, s1.acc: 92.4565, s1.loss_bbox: 0.1035, s1.loss_mask: 0.1061, s2.loss_cls: 0.0572, s2.acc: 92.5172, s2.loss_bbox: 0.0387, s2.loss_mask: 0.0493, loss: 1.2831, grad_norm: 8.1592\n",
      "2021-05-19 13:18:31,065 - mmdet - INFO - Epoch [5][250/818]\tlr: 5.000e-05, eta: 7:17:42, time: 2.127, data_time: 0.029, memory: 18702, loss_rpn_cls: 0.0373, loss_rpn_bbox: 0.0297, s0.loss_cls: 0.2478, s0.acc: 92.1973, s0.loss_bbox: 0.2547, s0.loss_mask: 0.2469, s1.loss_cls: 0.1234, s1.acc: 92.1709, s1.loss_bbox: 0.1018, s1.loss_mask: 0.1088, s2.loss_cls: 0.0599, s2.acc: 92.3932, s2.loss_bbox: 0.0386, s2.loss_mask: 0.0490, loss: 1.2980, grad_norm: 8.3289\n",
      "2021-05-19 13:20:17,748 - mmdet - INFO - Epoch [5][300/818]\tlr: 5.000e-05, eta: 7:16:15, time: 2.134, data_time: 0.030, memory: 18702, loss_rpn_cls: 0.0349, loss_rpn_bbox: 0.0257, s0.loss_cls: 0.2201, s0.acc: 92.9971, s0.loss_bbox: 0.2389, s0.loss_mask: 0.2343, s1.loss_cls: 0.1060, s1.acc: 93.1030, s1.loss_bbox: 0.0970, s1.loss_mask: 0.1025, s2.loss_cls: 0.0532, s2.acc: 93.0677, s2.loss_bbox: 0.0377, s2.loss_mask: 0.0473, loss: 1.1974, grad_norm: 7.8745\n",
      "2021-05-19 13:22:02,709 - mmdet - INFO - Epoch [5][350/818]\tlr: 5.000e-05, eta: 7:14:42, time: 2.099, data_time: 0.027, memory: 18702, loss_rpn_cls: 0.0429, loss_rpn_bbox: 0.0291, s0.loss_cls: 0.2398, s0.acc: 92.4092, s0.loss_bbox: 0.2374, s0.loss_mask: 0.2416, s1.loss_cls: 0.1205, s1.acc: 92.2296, s1.loss_bbox: 0.0974, s1.loss_mask: 0.1079, s2.loss_cls: 0.0604, s2.acc: 92.2111, s2.loss_bbox: 0.0373, s2.loss_mask: 0.0485, loss: 1.2626, grad_norm: 7.5559\n",
      "2021-05-19 13:23:45,951 - mmdet - INFO - Epoch [5][400/818]\tlr: 5.000e-05, eta: 7:13:03, time: 2.065, data_time: 0.026, memory: 18702, loss_rpn_cls: 0.0353, loss_rpn_bbox: 0.0248, s0.loss_cls: 0.2251, s0.acc: 93.0752, s0.loss_bbox: 0.2206, s0.loss_mask: 0.2084, s1.loss_cls: 0.1126, s1.acc: 92.9903, s1.loss_bbox: 0.0900, s1.loss_mask: 0.0924, s2.loss_cls: 0.0552, s2.acc: 92.8721, s2.loss_bbox: 0.0348, s2.loss_mask: 0.0422, loss: 1.1415, grad_norm: 8.1247\n",
      "2021-05-19 13:25:31,625 - mmdet - INFO - Epoch [5][450/818]\tlr: 5.000e-05, eta: 7:11:32, time: 2.113, data_time: 0.029, memory: 18702, loss_rpn_cls: 0.0429, loss_rpn_bbox: 0.0299, s0.loss_cls: 0.2420, s0.acc: 92.3379, s0.loss_bbox: 0.2352, s0.loss_mask: 0.2194, s1.loss_cls: 0.1194, s1.acc: 92.5041, s1.loss_bbox: 0.0969, s1.loss_mask: 0.0961, s2.loss_cls: 0.0588, s2.acc: 92.6523, s2.loss_bbox: 0.0366, s2.loss_mask: 0.0437, loss: 1.2209, grad_norm: 8.2670\n",
      "2021-05-19 13:27:15,564 - mmdet - INFO - Epoch [5][500/818]\tlr: 5.000e-05, eta: 7:09:54, time: 2.079, data_time: 0.025, memory: 18702, loss_rpn_cls: 0.0326, loss_rpn_bbox: 0.0242, s0.loss_cls: 0.2200, s0.acc: 93.0957, s0.loss_bbox: 0.2186, s0.loss_mask: 0.2075, s1.loss_cls: 0.1075, s1.acc: 93.1897, s1.loss_bbox: 0.0899, s1.loss_mask: 0.0935, s2.loss_cls: 0.0535, s2.acc: 93.1243, s2.loss_bbox: 0.0352, s2.loss_mask: 0.0428, loss: 1.1253, grad_norm: 8.1208\n",
      "2021-05-19 13:29:01,809 - mmdet - INFO - Epoch [5][550/818]\tlr: 5.000e-05, eta: 7:08:24, time: 2.125, data_time: 0.027, memory: 18702, loss_rpn_cls: 0.0424, loss_rpn_bbox: 0.0300, s0.loss_cls: 0.2532, s0.acc: 92.1182, s0.loss_bbox: 0.2524, s0.loss_mask: 0.2382, s1.loss_cls: 0.1247, s1.acc: 92.1697, s1.loss_bbox: 0.1008, s1.loss_mask: 0.1026, s2.loss_cls: 0.0612, s2.acc: 92.0476, s2.loss_bbox: 0.0379, s2.loss_mask: 0.0465, loss: 1.2900, grad_norm: 7.5337\n",
      "2021-05-19 13:30:46,394 - mmdet - INFO - Epoch [5][600/818]\tlr: 5.000e-05, eta: 7:06:48, time: 2.092, data_time: 0.028, memory: 18702, loss_rpn_cls: 0.0373, loss_rpn_bbox: 0.0309, s0.loss_cls: 0.2205, s0.acc: 93.0742, s0.loss_bbox: 0.2275, s0.loss_mask: 0.2276, s1.loss_cls: 0.1097, s1.acc: 93.0565, s1.loss_bbox: 0.0903, s1.loss_mask: 0.1013, s2.loss_cls: 0.0538, s2.acc: 92.9403, s2.loss_bbox: 0.0347, s2.loss_mask: 0.0464, loss: 1.1800, grad_norm: 7.5661\n",
      "2021-05-19 13:32:33,971 - mmdet - INFO - Epoch [5][650/818]\tlr: 5.000e-05, eta: 7:05:22, time: 2.152, data_time: 0.033, memory: 18702, loss_rpn_cls: 0.0447, loss_rpn_bbox: 0.0333, s0.loss_cls: 0.2572, s0.acc: 91.8047, s0.loss_bbox: 0.2602, s0.loss_mask: 0.2447, s1.loss_cls: 0.1270, s1.acc: 92.0017, s1.loss_bbox: 0.1045, s1.loss_mask: 0.1085, s2.loss_cls: 0.0622, s2.acc: 92.0410, s2.loss_bbox: 0.0401, s2.loss_mask: 0.0490, loss: 1.3314, grad_norm: 8.2140\n",
      "2021-05-19 13:34:18,392 - mmdet - INFO - Epoch [5][700/818]\tlr: 5.000e-05, eta: 7:03:45, time: 2.088, data_time: 0.032, memory: 18702, loss_rpn_cls: 0.0421, loss_rpn_bbox: 0.0295, s0.loss_cls: 0.2437, s0.acc: 92.4014, s0.loss_bbox: 0.2388, s0.loss_mask: 0.2194, s1.loss_cls: 0.1189, s1.acc: 92.4797, s1.loss_bbox: 0.0945, s1.loss_mask: 0.0953, s2.loss_cls: 0.0590, s2.acc: 92.4115, s2.loss_bbox: 0.0357, s2.loss_mask: 0.0423, loss: 1.2193, grad_norm: 7.1811\n",
      "2021-05-19 13:36:03,025 - mmdet - INFO - Epoch [5][750/818]\tlr: 5.000e-05, eta: 7:02:08, time: 2.093, data_time: 0.025, memory: 18702, loss_rpn_cls: 0.0329, loss_rpn_bbox: 0.0235, s0.loss_cls: 0.2255, s0.acc: 92.9854, s0.loss_bbox: 0.2276, s0.loss_mask: 0.2246, s1.loss_cls: 0.1112, s1.acc: 93.0314, s1.loss_bbox: 0.0945, s1.loss_mask: 0.0980, s2.loss_cls: 0.0547, s2.acc: 93.0156, s2.loss_bbox: 0.0374, s2.loss_mask: 0.0451, loss: 1.1749, grad_norm: 7.3802\n",
      "2021-05-19 13:37:46,093 - mmdet - INFO - Epoch [5][800/818]\tlr: 5.000e-05, eta: 7:00:27, time: 2.061, data_time: 0.030, memory: 18702, loss_rpn_cls: 0.0352, loss_rpn_bbox: 0.0253, s0.loss_cls: 0.2221, s0.acc: 92.9482, s0.loss_bbox: 0.2284, s0.loss_mask: 0.2170, s1.loss_cls: 0.1084, s1.acc: 93.0469, s1.loss_bbox: 0.0903, s1.loss_mask: 0.0951, s2.loss_cls: 0.0519, s2.acc: 93.2557, s2.loss_bbox: 0.0343, s2.loss_mask: 0.0435, loss: 1.1514, grad_norm: 7.9631\n",
      "2021-05-19 13:38:23,295 - mmdet - INFO - Saving checkpoint at 5 epochs\n"
     ]
    },
    {
     "name": "stdout",
     "output_type": "stream",
     "text": [
      "[>>>>>>>>>>>>>>>>>>>>>>>>>>>>>] 655/655, 4.4 task/s, elapsed: 149s, ETA:     0s"
     ]
    },
    {
     "name": "stderr",
     "output_type": "stream",
     "text": [
      "2021-05-19 13:40:57,160 - mmdet - INFO - Evaluating bbox...\n"
     ]
    },
    {
     "name": "stdout",
     "output_type": "stream",
     "text": [
      "Loading and preparing results...\n",
      "DONE (t=0.65s)\n",
      "creating index...\n",
      "index created!\n",
      "Running per image evaluation...\n",
      "Evaluate annotation type *bbox*\n",
      "DONE (t=6.48s).\n",
      "Accumulating evaluation results...\n"
     ]
    },
    {
     "name": "stderr",
     "output_type": "stream",
     "text": [
      "2021-05-19 13:41:05,306 - mmdet - INFO - Epoch(val) [5][818]\tbbox_mAP: 0.3890, bbox_mAP_50: 0.5060, bbox_mAP_75: 0.4200, bbox_mAP_s: 0.1400, bbox_mAP_m: 0.4220, bbox_mAP_l: 0.5910, bbox_mAP_copypaste: 0.389 0.506 0.420 0.140 0.422 0.591\n"
     ]
    },
    {
     "name": "stdout",
     "output_type": "stream",
     "text": [
      "DONE (t=0.91s).\n",
      "Average Precision  (AP) @[ IoU=0.50:0.95 | area=   all | maxDets=100 ] = 0.389\n",
      "Average Precision  (AP) @[ IoU=0.50      | area=   all | maxDets=1000 ] = 0.506\n",
      "Average Precision  (AP) @[ IoU=0.75      | area=   all | maxDets=1000 ] = 0.420\n",
      "Average Precision  (AP) @[ IoU=0.50:0.95 | area= small | maxDets=1000 ] = 0.140\n",
      "Average Precision  (AP) @[ IoU=0.50:0.95 | area=medium | maxDets=1000 ] = 0.422\n",
      "Average Precision  (AP) @[ IoU=0.50:0.95 | area= large | maxDets=1000 ] = 0.591\n",
      "Average Recall     (AR) @[ IoU=0.50:0.95 | area=   all | maxDets=100 ] = 0.558\n",
      "Average Recall     (AR) @[ IoU=0.50:0.95 | area=   all | maxDets=300 ] = 0.558\n",
      "Average Recall     (AR) @[ IoU=0.50:0.95 | area=   all | maxDets=1000 ] = 0.558\n",
      "Average Recall     (AR) @[ IoU=0.50:0.95 | area= small | maxDets=1000 ] = 0.232\n",
      "Average Recall     (AR) @[ IoU=0.50:0.95 | area=medium | maxDets=1000 ] = 0.564\n",
      "Average Recall     (AR) @[ IoU=0.50:0.95 | area= large | maxDets=1000 ] = 0.807\n"
     ]
    },
    {
     "name": "stderr",
     "output_type": "stream",
     "text": [
      "2021-05-19 13:42:54,238 - mmdet - INFO - Epoch [6][50/818]\tlr: 5.000e-05, eta: 6:56:37, time: 2.178, data_time: 0.075, memory: 18702, loss_rpn_cls: 0.0376, loss_rpn_bbox: 0.0248, s0.loss_cls: 0.2004, s0.acc: 93.5693, s0.loss_bbox: 0.2106, s0.loss_mask: 0.2198, s1.loss_cls: 0.0988, s1.acc: 93.6561, s1.loss_bbox: 0.0885, s1.loss_mask: 0.1011, s2.loss_cls: 0.0488, s2.acc: 93.7113, s2.loss_bbox: 0.0347, s2.loss_mask: 0.0467, loss: 1.1118, grad_norm: 7.9926\n",
      "2021-05-19 13:44:41,660 - mmdet - INFO - Epoch [6][100/818]\tlr: 5.000e-05, eta: 6:55:09, time: 2.148, data_time: 0.030, memory: 18702, loss_rpn_cls: 0.0385, loss_rpn_bbox: 0.0275, s0.loss_cls: 0.2593, s0.acc: 91.7139, s0.loss_bbox: 0.2600, s0.loss_mask: 0.2261, s1.loss_cls: 0.1254, s1.acc: 91.8056, s1.loss_bbox: 0.1014, s1.loss_mask: 0.0979, s2.loss_cls: 0.0602, s2.acc: 91.9152, s2.loss_bbox: 0.0392, s2.loss_mask: 0.0449, loss: 1.2804, grad_norm: 8.1976\n",
      "2021-05-19 13:46:27,279 - mmdet - INFO - Epoch [6][150/818]\tlr: 5.000e-05, eta: 6:53:36, time: 2.112, data_time: 0.029, memory: 18702, loss_rpn_cls: 0.0346, loss_rpn_bbox: 0.0291, s0.loss_cls: 0.2330, s0.acc: 92.7080, s0.loss_bbox: 0.2421, s0.loss_mask: 0.2273, s1.loss_cls: 0.1164, s1.acc: 92.8555, s1.loss_bbox: 0.0993, s1.loss_mask: 0.1022, s2.loss_cls: 0.0581, s2.acc: 92.8475, s2.loss_bbox: 0.0385, s2.loss_mask: 0.0449, loss: 1.2255, grad_norm: 7.8996\n",
      "2021-05-19 13:48:11,844 - mmdet - INFO - Epoch [6][200/818]\tlr: 5.000e-05, eta: 6:52:00, time: 2.091, data_time: 0.029, memory: 18702, loss_rpn_cls: 0.0313, loss_rpn_bbox: 0.0300, s0.loss_cls: 0.2123, s0.acc: 93.2705, s0.loss_bbox: 0.2258, s0.loss_mask: 0.2046, s1.loss_cls: 0.1034, s1.acc: 93.3573, s1.loss_bbox: 0.0926, s1.loss_mask: 0.0903, s2.loss_cls: 0.0518, s2.acc: 93.2611, s2.loss_bbox: 0.0361, s2.loss_mask: 0.0412, loss: 1.1194, grad_norm: 7.3118\n",
      "2021-05-19 13:49:59,356 - mmdet - INFO - Epoch [6][250/818]\tlr: 5.000e-05, eta: 6:50:32, time: 2.150, data_time: 0.034, memory: 18702, loss_rpn_cls: 0.0433, loss_rpn_bbox: 0.0304, s0.loss_cls: 0.2526, s0.acc: 91.9746, s0.loss_bbox: 0.2645, s0.loss_mask: 0.2315, s1.loss_cls: 0.1222, s1.acc: 92.1445, s1.loss_bbox: 0.1046, s1.loss_mask: 0.1042, s2.loss_cls: 0.0594, s2.acc: 92.0880, s2.loss_bbox: 0.0401, s2.loss_mask: 0.0478, loss: 1.3005, grad_norm: 7.9491\n",
      "2021-05-19 13:51:46,253 - mmdet - INFO - Epoch [6][300/818]\tlr: 5.000e-05, eta: 6:49:02, time: 2.138, data_time: 0.030, memory: 18702, loss_rpn_cls: 0.0374, loss_rpn_bbox: 0.0242, s0.loss_cls: 0.2089, s0.acc: 93.1807, s0.loss_bbox: 0.2280, s0.loss_mask: 0.2050, s1.loss_cls: 0.1009, s1.acc: 93.4001, s1.loss_bbox: 0.0933, s1.loss_mask: 0.0919, s2.loss_cls: 0.0498, s2.acc: 93.5363, s2.loss_bbox: 0.0366, s2.loss_mask: 0.0417, loss: 1.1177, grad_norm: 8.2168\n",
      "2021-05-19 13:53:30,690 - mmdet - INFO - Epoch [6][350/818]\tlr: 5.000e-05, eta: 6:47:24, time: 2.089, data_time: 0.028, memory: 18702, loss_rpn_cls: 0.0330, loss_rpn_bbox: 0.0251, s0.loss_cls: 0.2168, s0.acc: 92.9951, s0.loss_bbox: 0.2296, s0.loss_mask: 0.2215, s1.loss_cls: 0.1058, s1.acc: 93.0938, s1.loss_bbox: 0.0933, s1.loss_mask: 0.0985, s2.loss_cls: 0.0518, s2.acc: 93.3343, s2.loss_bbox: 0.0358, s2.loss_mask: 0.0450, loss: 1.1561, grad_norm: 7.9408\n",
      "2021-05-19 13:55:14,457 - mmdet - INFO - Epoch [6][400/818]\tlr: 5.000e-05, eta: 6:45:45, time: 2.075, data_time: 0.029, memory: 18702, loss_rpn_cls: 0.0425, loss_rpn_bbox: 0.0320, s0.loss_cls: 0.2339, s0.acc: 92.4209, s0.loss_bbox: 0.2500, s0.loss_mask: 0.2253, s1.loss_cls: 0.1158, s1.acc: 92.3685, s1.loss_bbox: 0.1004, s1.loss_mask: 0.0996, s2.loss_cls: 0.0570, s2.acc: 92.2837, s2.loss_bbox: 0.0379, s2.loss_mask: 0.0450, loss: 1.2393, grad_norm: 7.6536\n",
      "2021-05-19 13:56:57,527 - mmdet - INFO - Epoch [6][450/818]\tlr: 5.000e-05, eta: 6:44:04, time: 2.061, data_time: 0.024, memory: 18702, loss_rpn_cls: 0.0295, loss_rpn_bbox: 0.0191, s0.loss_cls: 0.1858, s0.acc: 94.1875, s0.loss_bbox: 0.1858, s0.loss_mask: 0.1909, s1.loss_cls: 0.0907, s1.acc: 94.3501, s1.loss_bbox: 0.0743, s1.loss_mask: 0.0820, s2.loss_cls: 0.0447, s2.acc: 94.3398, s2.loss_bbox: 0.0299, s2.loss_mask: 0.0381, loss: 0.9707, grad_norm: 7.7612\n",
      "2021-05-19 13:58:42,010 - mmdet - INFO - Epoch [6][500/818]\tlr: 5.000e-05, eta: 6:42:26, time: 2.090, data_time: 0.031, memory: 18702, loss_rpn_cls: 0.0424, loss_rpn_bbox: 0.0293, s0.loss_cls: 0.2214, s0.acc: 93.0635, s0.loss_bbox: 0.2264, s0.loss_mask: 0.2259, s1.loss_cls: 0.1083, s1.acc: 93.1313, s1.loss_bbox: 0.0895, s1.loss_mask: 0.0999, s2.loss_cls: 0.0528, s2.acc: 93.1639, s2.loss_bbox: 0.0340, s2.loss_mask: 0.0449, loss: 1.1748, grad_norm: 8.0488\n",
      "2021-05-19 14:00:27,447 - mmdet - INFO - Epoch [6][550/818]\tlr: 5.000e-05, eta: 6:40:51, time: 2.109, data_time: 0.028, memory: 18702, loss_rpn_cls: 0.0347, loss_rpn_bbox: 0.0238, s0.loss_cls: 0.2104, s0.acc: 93.4160, s0.loss_bbox: 0.2255, s0.loss_mask: 0.2329, s1.loss_cls: 0.1015, s1.acc: 93.4576, s1.loss_bbox: 0.0903, s1.loss_mask: 0.0969, s2.loss_cls: 0.0500, s2.acc: 93.4629, s2.loss_bbox: 0.0352, s2.loss_mask: 0.0445, loss: 1.1457, grad_norm: 7.6825\n",
      "2021-05-19 14:02:11,983 - mmdet - INFO - Epoch [6][600/818]\tlr: 5.000e-05, eta: 6:39:13, time: 2.091, data_time: 0.032, memory: 18702, loss_rpn_cls: 0.0327, loss_rpn_bbox: 0.0249, s0.loss_cls: 0.2198, s0.acc: 93.0830, s0.loss_bbox: 0.2314, s0.loss_mask: 0.2250, s1.loss_cls: 0.1062, s1.acc: 93.2362, s1.loss_bbox: 0.0921, s1.loss_mask: 0.1002, s2.loss_cls: 0.0524, s2.acc: 93.4266, s2.loss_bbox: 0.0353, s2.loss_mask: 0.0461, loss: 1.1661, grad_norm: 7.9366\n",
      "2021-05-19 14:03:58,529 - mmdet - INFO - Epoch [6][650/818]\tlr: 5.000e-05, eta: 6:37:40, time: 2.131, data_time: 0.033, memory: 18702, loss_rpn_cls: 0.0345, loss_rpn_bbox: 0.0302, s0.loss_cls: 0.2110, s0.acc: 93.3564, s0.loss_bbox: 0.2221, s0.loss_mask: 0.2087, s1.loss_cls: 0.1006, s1.acc: 93.6448, s1.loss_bbox: 0.0893, s1.loss_mask: 0.0931, s2.loss_cls: 0.0504, s2.acc: 93.5042, s2.loss_bbox: 0.0347, s2.loss_mask: 0.0427, loss: 1.1173, grad_norm: 8.9565\n",
      "2021-05-19 14:05:43,750 - mmdet - INFO - Epoch [6][700/818]\tlr: 5.000e-05, eta: 6:36:03, time: 2.104, data_time: 0.031, memory: 18702, loss_rpn_cls: 0.0346, loss_rpn_bbox: 0.0298, s0.loss_cls: 0.2291, s0.acc: 92.7207, s0.loss_bbox: 0.2430, s0.loss_mask: 0.2229, s1.loss_cls: 0.1112, s1.acc: 93.0621, s1.loss_bbox: 0.1002, s1.loss_mask: 0.1006, s2.loss_cls: 0.0559, s2.acc: 92.8963, s2.loss_bbox: 0.0382, s2.loss_mask: 0.0459, loss: 1.2115, grad_norm: 7.6860\n",
      "2021-05-19 14:07:25,905 - mmdet - INFO - Epoch [6][750/818]\tlr: 5.000e-05, eta: 6:34:19, time: 2.043, data_time: 0.029, memory: 18702, loss_rpn_cls: 0.0372, loss_rpn_bbox: 0.0237, s0.loss_cls: 0.2064, s0.acc: 93.4883, s0.loss_bbox: 0.2107, s0.loss_mask: 0.2103, s1.loss_cls: 0.1011, s1.acc: 93.5817, s1.loss_bbox: 0.0861, s1.loss_mask: 0.0922, s2.loss_cls: 0.0495, s2.acc: 93.6394, s2.loss_bbox: 0.0330, s2.loss_mask: 0.0416, loss: 1.0917, grad_norm: 7.3616\n",
      "2021-05-19 14:09:09,807 - mmdet - INFO - Epoch [6][800/818]\tlr: 5.000e-05, eta: 6:32:40, time: 2.078, data_time: 0.034, memory: 18702, loss_rpn_cls: 0.0487, loss_rpn_bbox: 0.0332, s0.loss_cls: 0.2415, s0.acc: 92.5654, s0.loss_bbox: 0.2557, s0.loss_mask: 0.2402, s1.loss_cls: 0.1160, s1.acc: 92.8119, s1.loss_bbox: 0.1022, s1.loss_mask: 0.1034, s2.loss_cls: 0.0568, s2.acc: 92.8728, s2.loss_bbox: 0.0382, s2.loss_mask: 0.0460, loss: 1.2819, grad_norm: 8.0210\n",
      "2021-05-19 14:09:47,571 - mmdet - INFO - Saving checkpoint at 6 epochs\n"
     ]
    },
    {
     "name": "stdout",
     "output_type": "stream",
     "text": [
      "[>>>>>>>>>>>>>>>>>>>>>>>>>>>>>] 655/655, 4.4 task/s, elapsed: 150s, ETA:     0s"
     ]
    },
    {
     "name": "stderr",
     "output_type": "stream",
     "text": [
      "2021-05-19 14:12:22,741 - mmdet - INFO - Evaluating bbox...\n"
     ]
    },
    {
     "name": "stdout",
     "output_type": "stream",
     "text": [
      "Loading and preparing results...\n",
      "DONE (t=0.64s)\n",
      "creating index...\n",
      "index created!\n",
      "Running per image evaluation...\n",
      "Evaluate annotation type *bbox*\n",
      "DONE (t=6.78s).\n",
      "Accumulating evaluation results...\n"
     ]
    },
    {
     "name": "stderr",
     "output_type": "stream",
     "text": [
      "2021-05-19 14:12:31,210 - mmdet - INFO - Epoch(val) [6][818]\tbbox_mAP: 0.4420, bbox_mAP_50: 0.5670, bbox_mAP_75: 0.4740, bbox_mAP_s: 0.1720, bbox_mAP_m: 0.4350, bbox_mAP_l: 0.6730, bbox_mAP_copypaste: 0.442 0.567 0.474 0.172 0.435 0.673\n"
     ]
    },
    {
     "name": "stdout",
     "output_type": "stream",
     "text": [
      "DONE (t=0.94s).\n",
      "Average Precision  (AP) @[ IoU=0.50:0.95 | area=   all | maxDets=100 ] = 0.442\n",
      "Average Precision  (AP) @[ IoU=0.50      | area=   all | maxDets=1000 ] = 0.567\n",
      "Average Precision  (AP) @[ IoU=0.75      | area=   all | maxDets=1000 ] = 0.474\n",
      "Average Precision  (AP) @[ IoU=0.50:0.95 | area= small | maxDets=1000 ] = 0.172\n",
      "Average Precision  (AP) @[ IoU=0.50:0.95 | area=medium | maxDets=1000 ] = 0.435\n",
      "Average Precision  (AP) @[ IoU=0.50:0.95 | area= large | maxDets=1000 ] = 0.673\n",
      "Average Recall     (AR) @[ IoU=0.50:0.95 | area=   all | maxDets=100 ] = 0.583\n",
      "Average Recall     (AR) @[ IoU=0.50:0.95 | area=   all | maxDets=300 ] = 0.583\n",
      "Average Recall     (AR) @[ IoU=0.50:0.95 | area=   all | maxDets=1000 ] = 0.583\n",
      "Average Recall     (AR) @[ IoU=0.50:0.95 | area= small | maxDets=1000 ] = 0.272\n",
      "Average Recall     (AR) @[ IoU=0.50:0.95 | area=medium | maxDets=1000 ] = 0.593\n",
      "Average Recall     (AR) @[ IoU=0.50:0.95 | area= large | maxDets=1000 ] = 0.822\n"
     ]
    },
    {
     "name": "stderr",
     "output_type": "stream",
     "text": [
      "2021-05-19 14:14:19,811 - mmdet - INFO - Epoch [7][50/818]\tlr: 5.000e-05, eta: 6:29:08, time: 2.172, data_time: 0.077, memory: 18702, loss_rpn_cls: 0.0317, loss_rpn_bbox: 0.0253, s0.loss_cls: 0.2031, s0.acc: 93.6221, s0.loss_bbox: 0.2192, s0.loss_mask: 0.2006, s1.loss_cls: 0.0951, s1.acc: 94.0073, s1.loss_bbox: 0.0897, s1.loss_mask: 0.0895, s2.loss_cls: 0.0464, s2.acc: 94.1965, s2.loss_bbox: 0.0343, s2.loss_mask: 0.0414, loss: 1.0764, grad_norm: 7.5313\n",
      "2021-05-19 14:16:05,637 - mmdet - INFO - Epoch [7][100/818]\tlr: 5.000e-05, eta: 6:27:34, time: 2.117, data_time: 0.031, memory: 18702, loss_rpn_cls: 0.0376, loss_rpn_bbox: 0.0287, s0.loss_cls: 0.2128, s0.acc: 93.2285, s0.loss_bbox: 0.2361, s0.loss_mask: 0.2276, s1.loss_cls: 0.1017, s1.acc: 93.5662, s1.loss_bbox: 0.0968, s1.loss_mask: 0.0991, s2.loss_cls: 0.0498, s2.acc: 93.4768, s2.loss_bbox: 0.0376, s2.loss_mask: 0.0459, loss: 1.1736, grad_norm: 7.4920\n",
      "2021-05-19 14:17:49,641 - mmdet - INFO - Epoch [7][150/818]\tlr: 5.000e-05, eta: 6:25:55, time: 2.080, data_time: 0.026, memory: 18702, loss_rpn_cls: 0.0268, loss_rpn_bbox: 0.0253, s0.loss_cls: 0.1994, s0.acc: 93.4854, s0.loss_bbox: 0.2262, s0.loss_mask: 0.2244, s1.loss_cls: 0.0959, s1.acc: 93.6789, s1.loss_bbox: 0.0899, s1.loss_mask: 0.0974, s2.loss_cls: 0.0467, s2.acc: 93.7010, s2.loss_bbox: 0.0355, s2.loss_mask: 0.0447, loss: 1.1121, grad_norm: 7.7691\n",
      "2021-05-19 14:19:34,303 - mmdet - INFO - Epoch [7][200/818]\tlr: 5.000e-05, eta: 6:24:17, time: 2.093, data_time: 0.031, memory: 18702, loss_rpn_cls: 0.0365, loss_rpn_bbox: 0.0276, s0.loss_cls: 0.2262, s0.acc: 92.6416, s0.loss_bbox: 0.2397, s0.loss_mask: 0.2209, s1.loss_cls: 0.1097, s1.acc: 92.9124, s1.loss_bbox: 0.0970, s1.loss_mask: 0.0992, s2.loss_cls: 0.0528, s2.acc: 93.1402, s2.loss_bbox: 0.0367, s2.loss_mask: 0.0448, loss: 1.1911, grad_norm: 8.2374\n",
      "2021-05-19 14:21:18,858 - mmdet - INFO - Epoch [7][250/818]\tlr: 5.000e-05, eta: 6:22:39, time: 2.091, data_time: 0.030, memory: 18702, loss_rpn_cls: 0.0335, loss_rpn_bbox: 0.0300, s0.loss_cls: 0.1908, s0.acc: 93.8799, s0.loss_bbox: 0.2278, s0.loss_mask: 0.2221, s1.loss_cls: 0.0902, s1.acc: 94.2719, s1.loss_bbox: 0.0923, s1.loss_mask: 0.0983, s2.loss_cls: 0.0441, s2.acc: 94.2745, s2.loss_bbox: 0.0355, s2.loss_mask: 0.0442, loss: 1.1089, grad_norm: 7.1761\n",
      "2021-05-19 14:23:04,929 - mmdet - INFO - Epoch [7][300/818]\tlr: 5.000e-05, eta: 6:21:05, time: 2.121, data_time: 0.030, memory: 18702, loss_rpn_cls: 0.0375, loss_rpn_bbox: 0.0298, s0.loss_cls: 0.2232, s0.acc: 92.9531, s0.loss_bbox: 0.2463, s0.loss_mask: 0.2235, s1.loss_cls: 0.1078, s1.acc: 93.2730, s1.loss_bbox: 0.0998, s1.loss_mask: 0.0999, s2.loss_cls: 0.0522, s2.acc: 93.5178, s2.loss_bbox: 0.0373, s2.loss_mask: 0.0453, loss: 1.2027, grad_norm: 7.8916\n",
      "2021-05-19 14:24:49,810 - mmdet - INFO - Epoch [7][350/818]\tlr: 5.000e-05, eta: 6:19:27, time: 2.098, data_time: 0.029, memory: 18702, loss_rpn_cls: 0.0356, loss_rpn_bbox: 0.0271, s0.loss_cls: 0.2078, s0.acc: 93.3516, s0.loss_bbox: 0.2290, s0.loss_mask: 0.2126, s1.loss_cls: 0.0981, s1.acc: 93.7569, s1.loss_bbox: 0.0941, s1.loss_mask: 0.0952, s2.loss_cls: 0.0499, s2.acc: 93.6045, s2.loss_bbox: 0.0369, s2.loss_mask: 0.0446, loss: 1.1309, grad_norm: 8.5294\n",
      "2021-05-19 14:26:32,128 - mmdet - INFO - Epoch [7][400/818]\tlr: 5.000e-05, eta: 6:17:44, time: 2.046, data_time: 0.028, memory: 18702, loss_rpn_cls: 0.0325, loss_rpn_bbox: 0.0270, s0.loss_cls: 0.2149, s0.acc: 93.3252, s0.loss_bbox: 0.2172, s0.loss_mask: 0.2113, s1.loss_cls: 0.1054, s1.acc: 93.3626, s1.loss_bbox: 0.0863, s1.loss_mask: 0.0913, s2.loss_cls: 0.0511, s2.acc: 93.5432, s2.loss_bbox: 0.0334, s2.loss_mask: 0.0411, loss: 1.1115, grad_norm: 7.4768\n",
      "2021-05-19 14:28:17,432 - mmdet - INFO - Epoch [7][450/818]\tlr: 5.000e-05, eta: 6:16:07, time: 2.106, data_time: 0.030, memory: 18702, loss_rpn_cls: 0.0345, loss_rpn_bbox: 0.0246, s0.loss_cls: 0.2062, s0.acc: 93.6328, s0.loss_bbox: 0.2262, s0.loss_mask: 0.2042, s1.loss_cls: 0.1006, s1.acc: 93.6986, s1.loss_bbox: 0.0930, s1.loss_mask: 0.0918, s2.loss_cls: 0.0487, s2.acc: 93.7558, s2.loss_bbox: 0.0356, s2.loss_mask: 0.0412, loss: 1.1066, grad_norm: 7.1642\n",
      "2021-05-19 14:30:03,130 - mmdet - INFO - Epoch [7][500/818]\tlr: 5.000e-05, eta: 6:14:31, time: 2.114, data_time: 0.030, memory: 18702, loss_rpn_cls: 0.0388, loss_rpn_bbox: 0.0291, s0.loss_cls: 0.2214, s0.acc: 92.8945, s0.loss_bbox: 0.2305, s0.loss_mask: 0.2179, s1.loss_cls: 0.1072, s1.acc: 93.0474, s1.loss_bbox: 0.0920, s1.loss_mask: 0.0967, s2.loss_cls: 0.0517, s2.acc: 93.2568, s2.loss_bbox: 0.0358, s2.loss_mask: 0.0445, loss: 1.1656, grad_norm: 8.2002\n",
      "2021-05-19 14:31:48,030 - mmdet - INFO - Epoch [7][550/818]\tlr: 5.000e-05, eta: 6:12:53, time: 2.098, data_time: 0.028, memory: 18702, loss_rpn_cls: 0.0310, loss_rpn_bbox: 0.0297, s0.loss_cls: 0.2060, s0.acc: 93.2861, s0.loss_bbox: 0.2287, s0.loss_mask: 0.2202, s1.loss_cls: 0.1004, s1.acc: 93.4915, s1.loss_bbox: 0.0913, s1.loss_mask: 0.0973, s2.loss_cls: 0.0499, s2.acc: 93.4019, s2.loss_bbox: 0.0346, s2.loss_mask: 0.0440, loss: 1.1333, grad_norm: 7.7934\n",
      "2021-05-19 14:33:33,757 - mmdet - INFO - Epoch [7][600/818]\tlr: 5.000e-05, eta: 6:11:17, time: 2.115, data_time: 0.029, memory: 18702, loss_rpn_cls: 0.0330, loss_rpn_bbox: 0.0290, s0.loss_cls: 0.2032, s0.acc: 93.3555, s0.loss_bbox: 0.2268, s0.loss_mask: 0.2110, s1.loss_cls: 0.0993, s1.acc: 93.5783, s1.loss_bbox: 0.0925, s1.loss_mask: 0.0938, s2.loss_cls: 0.0491, s2.acc: 93.5861, s2.loss_bbox: 0.0360, s2.loss_mask: 0.0421, loss: 1.1159, grad_norm: 7.9010\n",
      "2021-05-19 14:35:19,859 - mmdet - INFO - Epoch [7][650/818]\tlr: 5.000e-05, eta: 6:09:41, time: 2.122, data_time: 0.029, memory: 18702, loss_rpn_cls: 0.0368, loss_rpn_bbox: 0.0278, s0.loss_cls: 0.2234, s0.acc: 93.0732, s0.loss_bbox: 0.2323, s0.loss_mask: 0.2188, s1.loss_cls: 0.1087, s1.acc: 93.3663, s1.loss_bbox: 0.0949, s1.loss_mask: 0.0966, s2.loss_cls: 0.0534, s2.acc: 93.2864, s2.loss_bbox: 0.0358, s2.loss_mask: 0.0432, loss: 1.1716, grad_norm: 7.9556\n",
      "2021-05-19 14:37:03,452 - mmdet - INFO - Epoch [7][700/818]\tlr: 5.000e-05, eta: 6:08:00, time: 2.072, data_time: 0.030, memory: 18702, loss_rpn_cls: 0.0311, loss_rpn_bbox: 0.0224, s0.loss_cls: 0.1956, s0.acc: 93.7432, s0.loss_bbox: 0.2083, s0.loss_mask: 0.1997, s1.loss_cls: 0.0977, s1.acc: 93.7763, s1.loss_bbox: 0.0866, s1.loss_mask: 0.0897, s2.loss_cls: 0.0490, s2.acc: 93.5886, s2.loss_bbox: 0.0340, s2.loss_mask: 0.0402, loss: 1.0544, grad_norm: 7.8673\n",
      "2021-05-19 14:38:47,314 - mmdet - INFO - Epoch [7][750/818]\tlr: 5.000e-05, eta: 6:06:19, time: 2.077, data_time: 0.031, memory: 18702, loss_rpn_cls: 0.0396, loss_rpn_bbox: 0.0290, s0.loss_cls: 0.2115, s0.acc: 93.2842, s0.loss_bbox: 0.2359, s0.loss_mask: 0.2360, s1.loss_cls: 0.1000, s1.acc: 93.5121, s1.loss_bbox: 0.0924, s1.loss_mask: 0.1035, s2.loss_cls: 0.0493, s2.acc: 93.5023, s2.loss_bbox: 0.0352, s2.loss_mask: 0.0471, loss: 1.1796, grad_norm: 7.6382\n",
      "2021-05-19 14:40:28,794 - mmdet - INFO - Epoch [7][800/818]\tlr: 5.000e-05, eta: 6:04:34, time: 2.030, data_time: 0.028, memory: 18702, loss_rpn_cls: 0.0298, loss_rpn_bbox: 0.0249, s0.loss_cls: 0.1981, s0.acc: 93.5527, s0.loss_bbox: 0.2061, s0.loss_mask: 0.2044, s1.loss_cls: 0.0982, s1.acc: 93.5079, s1.loss_bbox: 0.0870, s1.loss_mask: 0.0930, s2.loss_cls: 0.0501, s2.acc: 93.4446, s2.loss_bbox: 0.0340, s2.loss_mask: 0.0423, loss: 1.0681, grad_norm: 7.9485\n",
      "2021-05-19 14:41:06,598 - mmdet - INFO - Saving checkpoint at 7 epochs\n"
     ]
    },
    {
     "name": "stdout",
     "output_type": "stream",
     "text": [
      "[>>>>>>>>>>>>>>>>>>>>>>>>>>>>>] 655/655, 4.5 task/s, elapsed: 146s, ETA:     0s"
     ]
    },
    {
     "name": "stderr",
     "output_type": "stream",
     "text": [
      "2021-05-19 14:43:37,630 - mmdet - INFO - Evaluating bbox...\n"
     ]
    },
    {
     "name": "stdout",
     "output_type": "stream",
     "text": [
      "Loading and preparing results...\n",
      "DONE (t=0.13s)\n",
      "creating index...\n",
      "index created!\n",
      "Running per image evaluation...\n",
      "Evaluate annotation type *bbox*\n",
      "DONE (t=6.67s).\n",
      "Accumulating evaluation results...\n"
     ]
    },
    {
     "name": "stderr",
     "output_type": "stream",
     "text": [
      "2021-05-19 14:43:45,375 - mmdet - INFO - Epoch(val) [7][818]\tbbox_mAP: 0.4520, bbox_mAP_50: 0.5770, bbox_mAP_75: 0.4850, bbox_mAP_s: 0.1730, bbox_mAP_m: 0.4470, bbox_mAP_l: 0.6590, bbox_mAP_copypaste: 0.452 0.577 0.485 0.173 0.447 0.659\n"
     ]
    },
    {
     "name": "stdout",
     "output_type": "stream",
     "text": [
      "DONE (t=0.85s).\n",
      "Average Precision  (AP) @[ IoU=0.50:0.95 | area=   all | maxDets=100 ] = 0.452\n",
      "Average Precision  (AP) @[ IoU=0.50      | area=   all | maxDets=1000 ] = 0.577\n",
      "Average Precision  (AP) @[ IoU=0.75      | area=   all | maxDets=1000 ] = 0.485\n",
      "Average Precision  (AP) @[ IoU=0.50:0.95 | area= small | maxDets=1000 ] = 0.173\n",
      "Average Precision  (AP) @[ IoU=0.50:0.95 | area=medium | maxDets=1000 ] = 0.447\n",
      "Average Precision  (AP) @[ IoU=0.50:0.95 | area= large | maxDets=1000 ] = 0.659\n",
      "Average Recall     (AR) @[ IoU=0.50:0.95 | area=   all | maxDets=100 ] = 0.590\n",
      "Average Recall     (AR) @[ IoU=0.50:0.95 | area=   all | maxDets=300 ] = 0.590\n",
      "Average Recall     (AR) @[ IoU=0.50:0.95 | area=   all | maxDets=1000 ] = 0.590\n",
      "Average Recall     (AR) @[ IoU=0.50:0.95 | area= small | maxDets=1000 ] = 0.273\n",
      "Average Recall     (AR) @[ IoU=0.50:0.95 | area=medium | maxDets=1000 ] = 0.606\n",
      "Average Recall     (AR) @[ IoU=0.50:0.95 | area= large | maxDets=1000 ] = 0.819\n"
     ]
    },
    {
     "name": "stderr",
     "output_type": "stream",
     "text": [
      "2021-05-19 14:45:35,714 - mmdet - INFO - Epoch [8][50/818]\tlr: 5.000e-05, eta: 6:01:21, time: 2.206, data_time: 0.077, memory: 18702, loss_rpn_cls: 0.0320, loss_rpn_bbox: 0.0277, s0.loss_cls: 0.2103, s0.acc: 93.1494, s0.loss_bbox: 0.2228, s0.loss_mask: 0.2000, s1.loss_cls: 0.1021, s1.acc: 93.1855, s1.loss_bbox: 0.0910, s1.loss_mask: 0.0882, s2.loss_cls: 0.0516, s2.acc: 93.0626, s2.loss_bbox: 0.0352, s2.loss_mask: 0.0404, loss: 1.1013, grad_norm: 7.3192\n",
      "2021-05-19 14:47:22,072 - mmdet - INFO - Epoch [8][100/818]\tlr: 5.000e-05, eta: 5:59:46, time: 2.127, data_time: 0.028, memory: 18702, loss_rpn_cls: 0.0310, loss_rpn_bbox: 0.0256, s0.loss_cls: 0.1957, s0.acc: 93.4531, s0.loss_bbox: 0.2271, s0.loss_mask: 0.1948, s1.loss_cls: 0.0935, s1.acc: 93.8925, s1.loss_bbox: 0.0928, s1.loss_mask: 0.0875, s2.loss_cls: 0.0462, s2.acc: 93.9339, s2.loss_bbox: 0.0361, s2.loss_mask: 0.0400, loss: 1.0702, grad_norm: 7.5239\n",
      "2021-05-19 14:49:06,009 - mmdet - INFO - Epoch [8][150/818]\tlr: 5.000e-05, eta: 5:58:06, time: 2.079, data_time: 0.025, memory: 18702, loss_rpn_cls: 0.0353, loss_rpn_bbox: 0.0259, s0.loss_cls: 0.2116, s0.acc: 93.4404, s0.loss_bbox: 0.2250, s0.loss_mask: 0.2051, s1.loss_cls: 0.0996, s1.acc: 93.8341, s1.loss_bbox: 0.0930, s1.loss_mask: 0.0900, s2.loss_cls: 0.0484, s2.acc: 93.9658, s2.loss_bbox: 0.0358, s2.loss_mask: 0.0409, loss: 1.1106, grad_norm: 7.9244\n",
      "2021-05-19 14:50:49,152 - mmdet - INFO - Epoch [8][200/818]\tlr: 5.000e-05, eta: 5:56:25, time: 2.063, data_time: 0.027, memory: 18702, loss_rpn_cls: 0.0346, loss_rpn_bbox: 0.0249, s0.loss_cls: 0.1856, s0.acc: 94.0156, s0.loss_bbox: 0.2070, s0.loss_mask: 0.2052, s1.loss_cls: 0.0889, s1.acc: 94.3295, s1.loss_bbox: 0.0848, s1.loss_mask: 0.0911, s2.loss_cls: 0.0442, s2.acc: 94.3664, s2.loss_bbox: 0.0327, s2.loss_mask: 0.0419, loss: 1.0407, grad_norm: 7.4228\n",
      "2021-05-19 14:52:32,739 - mmdet - INFO - Epoch [8][250/818]\tlr: 5.000e-05, eta: 5:54:44, time: 2.072, data_time: 0.025, memory: 18702, loss_rpn_cls: 0.0306, loss_rpn_bbox: 0.0248, s0.loss_cls: 0.1739, s0.acc: 94.2920, s0.loss_bbox: 0.1943, s0.loss_mask: 0.1900, s1.loss_cls: 0.0814, s1.acc: 94.6735, s1.loss_bbox: 0.0801, s1.loss_mask: 0.0804, s2.loss_cls: 0.0404, s2.acc: 94.4965, s2.loss_bbox: 0.0322, s2.loss_mask: 0.0372, loss: 0.9653, grad_norm: 7.5690\n",
      "2021-05-19 14:54:19,361 - mmdet - INFO - Epoch [8][300/818]\tlr: 5.000e-05, eta: 5:53:09, time: 2.132, data_time: 0.030, memory: 18702, loss_rpn_cls: 0.0349, loss_rpn_bbox: 0.0261, s0.loss_cls: 0.2100, s0.acc: 93.2412, s0.loss_bbox: 0.2282, s0.loss_mask: 0.2082, s1.loss_cls: 0.0985, s1.acc: 93.5784, s1.loss_bbox: 0.0932, s1.loss_mask: 0.0925, s2.loss_cls: 0.0490, s2.acc: 93.5560, s2.loss_bbox: 0.0363, s2.loss_mask: 0.0411, loss: 1.1180, grad_norm: 7.9178\n",
      "2021-05-19 14:56:03,793 - mmdet - INFO - Epoch [8][350/818]\tlr: 5.000e-05, eta: 5:51:29, time: 2.089, data_time: 0.030, memory: 18702, loss_rpn_cls: 0.0318, loss_rpn_bbox: 0.0256, s0.loss_cls: 0.2071, s0.acc: 93.4424, s0.loss_bbox: 0.2147, s0.loss_mask: 0.2117, s1.loss_cls: 0.1048, s1.acc: 93.4478, s1.loss_bbox: 0.0866, s1.loss_mask: 0.0970, s2.loss_cls: 0.0516, s2.acc: 93.4007, s2.loss_bbox: 0.0344, s2.loss_mask: 0.0429, loss: 1.1082, grad_norm: 8.2102\n",
      "2021-05-19 14:57:46,515 - mmdet - INFO - Epoch [8][400/818]\tlr: 5.000e-05, eta: 5:49:47, time: 2.054, data_time: 0.026, memory: 18702, loss_rpn_cls: 0.0334, loss_rpn_bbox: 0.0261, s0.loss_cls: 0.1853, s0.acc: 93.9375, s0.loss_bbox: 0.2165, s0.loss_mask: 0.2044, s1.loss_cls: 0.0898, s1.acc: 94.1174, s1.loss_bbox: 0.0888, s1.loss_mask: 0.0908, s2.loss_cls: 0.0442, s2.acc: 94.1216, s2.loss_bbox: 0.0349, s2.loss_mask: 0.0409, loss: 1.0550, grad_norm: 7.8904\n",
      "2021-05-19 14:59:32,381 - mmdet - INFO - Epoch [8][450/818]\tlr: 5.000e-05, eta: 5:48:10, time: 2.117, data_time: 0.031, memory: 18702, loss_rpn_cls: 0.0462, loss_rpn_bbox: 0.0318, s0.loss_cls: 0.2202, s0.acc: 92.9609, s0.loss_bbox: 0.2441, s0.loss_mask: 0.2123, s1.loss_cls: 0.1065, s1.acc: 93.2786, s1.loss_bbox: 0.1004, s1.loss_mask: 0.0947, s2.loss_cls: 0.0526, s2.acc: 93.3520, s2.loss_bbox: 0.0386, s2.loss_mask: 0.0423, loss: 1.1896, grad_norm: 8.1178\n",
      "2021-05-19 15:01:17,511 - mmdet - INFO - Epoch [8][500/818]\tlr: 5.000e-05, eta: 5:46:32, time: 2.103, data_time: 0.029, memory: 18702, loss_rpn_cls: 0.0314, loss_rpn_bbox: 0.0273, s0.loss_cls: 0.2173, s0.acc: 93.1514, s0.loss_bbox: 0.2384, s0.loss_mask: 0.2187, s1.loss_cls: 0.1053, s1.acc: 93.2770, s1.loss_bbox: 0.0972, s1.loss_mask: 0.0953, s2.loss_cls: 0.0509, s2.acc: 93.3876, s2.loss_bbox: 0.0363, s2.loss_mask: 0.0425, loss: 1.1606, grad_norm: 7.5658\n",
      "2021-05-19 15:03:02,132 - mmdet - INFO - Epoch [8][550/818]\tlr: 5.000e-05, eta: 5:44:52, time: 2.092, data_time: 0.030, memory: 18702, loss_rpn_cls: 0.0342, loss_rpn_bbox: 0.0261, s0.loss_cls: 0.1854, s0.acc: 94.1846, s0.loss_bbox: 0.2162, s0.loss_mask: 0.2111, s1.loss_cls: 0.0858, s1.acc: 94.6826, s1.loss_bbox: 0.0868, s1.loss_mask: 0.0941, s2.loss_cls: 0.0411, s2.acc: 94.8963, s2.loss_bbox: 0.0331, s2.loss_mask: 0.0428, loss: 1.0567, grad_norm: 7.9435\n",
      "2021-05-19 15:04:47,920 - mmdet - INFO - Epoch [8][600/818]\tlr: 5.000e-05, eta: 5:43:15, time: 2.116, data_time: 0.030, memory: 18702, loss_rpn_cls: 0.0417, loss_rpn_bbox: 0.0280, s0.loss_cls: 0.2291, s0.acc: 92.8564, s0.loss_bbox: 0.2434, s0.loss_mask: 0.2216, s1.loss_cls: 0.1088, s1.acc: 93.1083, s1.loss_bbox: 0.0987, s1.loss_mask: 0.0998, s2.loss_cls: 0.0540, s2.acc: 93.1032, s2.loss_bbox: 0.0383, s2.loss_mask: 0.0455, loss: 1.2088, grad_norm: 7.7824\n",
      "2021-05-19 15:06:33,792 - mmdet - INFO - Epoch [8][650/818]\tlr: 5.000e-05, eta: 5:41:37, time: 2.117, data_time: 0.029, memory: 18702, loss_rpn_cls: 0.0324, loss_rpn_bbox: 0.0258, s0.loss_cls: 0.1877, s0.acc: 94.1953, s0.loss_bbox: 0.2130, s0.loss_mask: 0.2023, s1.loss_cls: 0.0918, s1.acc: 94.3558, s1.loss_bbox: 0.0869, s1.loss_mask: 0.0884, s2.loss_cls: 0.0456, s2.acc: 94.0256, s2.loss_bbox: 0.0351, s2.loss_mask: 0.0405, loss: 1.0497, grad_norm: 7.6898\n",
      "2021-05-19 15:08:18,054 - mmdet - INFO - Epoch [8][700/818]\tlr: 5.000e-05, eta: 5:39:57, time: 2.085, data_time: 0.029, memory: 18702, loss_rpn_cls: 0.0305, loss_rpn_bbox: 0.0260, s0.loss_cls: 0.2035, s0.acc: 93.4863, s0.loss_bbox: 0.2294, s0.loss_mask: 0.2149, s1.loss_cls: 0.0981, s1.acc: 93.6638, s1.loss_bbox: 0.0932, s1.loss_mask: 0.0962, s2.loss_cls: 0.0481, s2.acc: 93.8274, s2.loss_bbox: 0.0356, s2.loss_mask: 0.0428, loss: 1.1183, grad_norm: 7.8216\n",
      "2021-05-19 15:10:01,917 - mmdet - INFO - Epoch [8][750/818]\tlr: 5.000e-05, eta: 5:38:16, time: 2.077, data_time: 0.029, memory: 18702, loss_rpn_cls: 0.0303, loss_rpn_bbox: 0.0251, s0.loss_cls: 0.2114, s0.acc: 93.3164, s0.loss_bbox: 0.2319, s0.loss_mask: 0.2045, s1.loss_cls: 0.1003, s1.acc: 93.5926, s1.loss_bbox: 0.0918, s1.loss_mask: 0.0905, s2.loss_cls: 0.0486, s2.acc: 93.4497, s2.loss_bbox: 0.0345, s2.loss_mask: 0.0404, loss: 1.1093, grad_norm: 7.5260\n",
      "2021-05-19 15:11:45,105 - mmdet - INFO - Epoch [8][800/818]\tlr: 5.000e-05, eta: 5:36:34, time: 2.064, data_time: 0.029, memory: 18702, loss_rpn_cls: 0.0363, loss_rpn_bbox: 0.0273, s0.loss_cls: 0.2043, s0.acc: 93.1660, s0.loss_bbox: 0.2272, s0.loss_mask: 0.1994, s1.loss_cls: 0.0998, s1.acc: 93.3923, s1.loss_bbox: 0.0936, s1.loss_mask: 0.0889, s2.loss_cls: 0.0490, s2.acc: 93.3647, s2.loss_bbox: 0.0370, s2.loss_mask: 0.0404, loss: 1.1035, grad_norm: 7.4797\n",
      "2021-05-19 15:12:21,609 - mmdet - INFO - Saving checkpoint at 8 epochs\n"
     ]
    },
    {
     "name": "stdout",
     "output_type": "stream",
     "text": [
      "[>>>>>>>>>>>>>>>>>>>>>>>>>>>>>] 655/655, 4.5 task/s, elapsed: 145s, ETA:     0s"
     ]
    },
    {
     "name": "stderr",
     "output_type": "stream",
     "text": [
      "2021-05-19 15:14:51,823 - mmdet - INFO - Evaluating bbox...\n"
     ]
    },
    {
     "name": "stdout",
     "output_type": "stream",
     "text": [
      "Loading and preparing results...\n",
      "DONE (t=0.12s)\n",
      "creating index...\n",
      "index created!\n",
      "Running per image evaluation...\n",
      "Evaluate annotation type *bbox*\n",
      "DONE (t=6.58s).\n",
      "Accumulating evaluation results...\n"
     ]
    },
    {
     "name": "stderr",
     "output_type": "stream",
     "text": [
      "2021-05-19 15:14:59,434 - mmdet - INFO - Epoch(val) [8][818]\tbbox_mAP: 0.4780, bbox_mAP_50: 0.6020, bbox_mAP_75: 0.5130, bbox_mAP_s: 0.2070, bbox_mAP_m: 0.4990, bbox_mAP_l: 0.6690, bbox_mAP_copypaste: 0.478 0.602 0.513 0.207 0.499 0.669\n"
     ]
    },
    {
     "name": "stdout",
     "output_type": "stream",
     "text": [
      "DONE (t=0.82s).\n",
      "Average Precision  (AP) @[ IoU=0.50:0.95 | area=   all | maxDets=100 ] = 0.478\n",
      "Average Precision  (AP) @[ IoU=0.50      | area=   all | maxDets=1000 ] = 0.602\n",
      "Average Precision  (AP) @[ IoU=0.75      | area=   all | maxDets=1000 ] = 0.513\n",
      "Average Precision  (AP) @[ IoU=0.50:0.95 | area= small | maxDets=1000 ] = 0.207\n",
      "Average Precision  (AP) @[ IoU=0.50:0.95 | area=medium | maxDets=1000 ] = 0.499\n",
      "Average Precision  (AP) @[ IoU=0.50:0.95 | area= large | maxDets=1000 ] = 0.669\n",
      "Average Recall     (AR) @[ IoU=0.50:0.95 | area=   all | maxDets=100 ] = 0.607\n",
      "Average Recall     (AR) @[ IoU=0.50:0.95 | area=   all | maxDets=300 ] = 0.607\n",
      "Average Recall     (AR) @[ IoU=0.50:0.95 | area=   all | maxDets=1000 ] = 0.607\n",
      "Average Recall     (AR) @[ IoU=0.50:0.95 | area= small | maxDets=1000 ] = 0.315\n",
      "Average Recall     (AR) @[ IoU=0.50:0.95 | area=medium | maxDets=1000 ] = 0.631\n",
      "Average Recall     (AR) @[ IoU=0.50:0.95 | area= large | maxDets=1000 ] = 0.755\n"
     ]
    },
    {
     "name": "stderr",
     "output_type": "stream",
     "text": [
      "2021-05-19 15:16:49,474 - mmdet - INFO - Epoch [9][50/818]\tlr: 5.000e-06, eta: 5:33:31, time: 2.200, data_time: 0.079, memory: 18702, loss_rpn_cls: 0.0335, loss_rpn_bbox: 0.0281, s0.loss_cls: 0.1909, s0.acc: 93.7852, s0.loss_bbox: 0.2228, s0.loss_mask: 0.2094, s1.loss_cls: 0.0898, s1.acc: 94.1930, s1.loss_bbox: 0.0889, s1.loss_mask: 0.0925, s2.loss_cls: 0.0441, s2.acc: 94.2095, s2.loss_bbox: 0.0345, s2.loss_mask: 0.0430, loss: 1.0776, grad_norm: 7.0376\n",
      "2021-05-19 15:18:34,442 - mmdet - INFO - Epoch [9][100/818]\tlr: 5.000e-06, eta: 5:31:52, time: 2.099, data_time: 0.029, memory: 18702, loss_rpn_cls: 0.0327, loss_rpn_bbox: 0.0288, s0.loss_cls: 0.1844, s0.acc: 93.8008, s0.loss_bbox: 0.2184, s0.loss_mask: 0.1923, s1.loss_cls: 0.0882, s1.acc: 94.0766, s1.loss_bbox: 0.0901, s1.loss_mask: 0.0884, s2.loss_cls: 0.0435, s2.acc: 94.1945, s2.loss_bbox: 0.0346, s2.loss_mask: 0.0404, loss: 1.0418, grad_norm: 6.9410\n",
      "2021-05-19 15:20:18,820 - mmdet - INFO - Epoch [9][150/818]\tlr: 5.000e-06, eta: 5:30:12, time: 2.087, data_time: 0.027, memory: 18702, loss_rpn_cls: 0.0282, loss_rpn_bbox: 0.0244, s0.loss_cls: 0.1758, s0.acc: 94.3525, s0.loss_bbox: 0.2058, s0.loss_mask: 0.1964, s1.loss_cls: 0.0832, s1.acc: 94.5585, s1.loss_bbox: 0.0831, s1.loss_mask: 0.0884, s2.loss_cls: 0.0410, s2.acc: 94.5546, s2.loss_bbox: 0.0326, s2.loss_mask: 0.0403, loss: 0.9993, grad_norm: 6.5898\n",
      "2021-05-19 15:22:04,590 - mmdet - INFO - Epoch [9][200/818]\tlr: 5.000e-06, eta: 5:28:35, time: 2.115, data_time: 0.027, memory: 18702, loss_rpn_cls: 0.0313, loss_rpn_bbox: 0.0236, s0.loss_cls: 0.1730, s0.acc: 94.3330, s0.loss_bbox: 0.2172, s0.loss_mask: 0.1913, s1.loss_cls: 0.0802, s1.acc: 94.7843, s1.loss_bbox: 0.0906, s1.loss_mask: 0.0860, s2.loss_cls: 0.0389, s2.acc: 94.8081, s2.loss_bbox: 0.0359, s2.loss_mask: 0.0392, loss: 1.0072, grad_norm: 6.8112\n",
      "2021-05-19 15:23:49,150 - mmdet - INFO - Epoch [9][250/818]\tlr: 5.000e-06, eta: 5:26:55, time: 2.091, data_time: 0.026, memory: 18702, loss_rpn_cls: 0.0280, loss_rpn_bbox: 0.0240, s0.loss_cls: 0.1680, s0.acc: 94.5254, s0.loss_bbox: 0.1998, s0.loss_mask: 0.1809, s1.loss_cls: 0.0790, s1.acc: 94.8532, s1.loss_bbox: 0.0820, s1.loss_mask: 0.0819, s2.loss_cls: 0.0390, s2.acc: 94.7851, s2.loss_bbox: 0.0333, s2.loss_mask: 0.0379, loss: 0.9538, grad_norm: 6.6306\n",
      "2021-05-19 15:25:34,482 - mmdet - INFO - Epoch [9][300/818]\tlr: 5.000e-06, eta: 5:25:16, time: 2.107, data_time: 0.029, memory: 18702, loss_rpn_cls: 0.0251, loss_rpn_bbox: 0.0215, s0.loss_cls: 0.1682, s0.acc: 94.4141, s0.loss_bbox: 0.1946, s0.loss_mask: 0.1838, s1.loss_cls: 0.0798, s1.acc: 94.8618, s1.loss_bbox: 0.0826, s1.loss_mask: 0.0840, s2.loss_cls: 0.0394, s2.acc: 94.7786, s2.loss_bbox: 0.0333, s2.loss_mask: 0.0395, loss: 0.9518, grad_norm: 6.5510\n",
      "2021-05-19 15:27:19,537 - mmdet - INFO - Epoch [9][350/818]\tlr: 5.000e-06, eta: 5:23:37, time: 2.101, data_time: 0.026, memory: 18702, loss_rpn_cls: 0.0255, loss_rpn_bbox: 0.0218, s0.loss_cls: 0.1775, s0.acc: 94.1826, s0.loss_bbox: 0.2174, s0.loss_mask: 0.1905, s1.loss_cls: 0.0816, s1.acc: 94.5989, s1.loss_bbox: 0.0891, s1.loss_mask: 0.0830, s2.loss_cls: 0.0407, s2.acc: 94.3765, s2.loss_bbox: 0.0363, s2.loss_mask: 0.0382, loss: 1.0016, grad_norm: 6.8928\n",
      "2021-05-19 15:29:03,702 - mmdet - INFO - Epoch [9][400/818]\tlr: 5.000e-06, eta: 5:21:57, time: 2.083, data_time: 0.028, memory: 18702, loss_rpn_cls: 0.0297, loss_rpn_bbox: 0.0262, s0.loss_cls: 0.1846, s0.acc: 93.9365, s0.loss_bbox: 0.2215, s0.loss_mask: 0.1984, s1.loss_cls: 0.0847, s1.acc: 94.3240, s1.loss_bbox: 0.0912, s1.loss_mask: 0.0884, s2.loss_cls: 0.0421, s2.acc: 94.3961, s2.loss_bbox: 0.0364, s2.loss_mask: 0.0406, loss: 1.0439, grad_norm: 6.8924\n",
      "2021-05-19 15:30:49,290 - mmdet - INFO - Epoch [9][450/818]\tlr: 5.000e-06, eta: 5:20:18, time: 2.112, data_time: 0.030, memory: 18702, loss_rpn_cls: 0.0329, loss_rpn_bbox: 0.0275, s0.loss_cls: 0.1794, s0.acc: 94.1436, s0.loss_bbox: 0.2180, s0.loss_mask: 0.2094, s1.loss_cls: 0.0824, s1.acc: 94.6738, s1.loss_bbox: 0.0888, s1.loss_mask: 0.0918, s2.loss_cls: 0.0404, s2.acc: 94.6276, s2.loss_bbox: 0.0343, s2.loss_mask: 0.0420, loss: 1.0468, grad_norm: 7.2205\n",
      "2021-05-19 15:32:33,454 - mmdet - INFO - Epoch [9][500/818]\tlr: 5.000e-06, eta: 5:18:38, time: 2.083, data_time: 0.027, memory: 18702, loss_rpn_cls: 0.0291, loss_rpn_bbox: 0.0211, s0.loss_cls: 0.1746, s0.acc: 94.4629, s0.loss_bbox: 0.2063, s0.loss_mask: 0.1982, s1.loss_cls: 0.0815, s1.acc: 94.7648, s1.loss_bbox: 0.0853, s1.loss_mask: 0.0896, s2.loss_cls: 0.0394, s2.acc: 94.8347, s2.loss_bbox: 0.0339, s2.loss_mask: 0.0419, loss: 1.0007, grad_norm: 6.7712\n",
      "2021-05-19 15:34:19,437 - mmdet - INFO - Epoch [9][550/818]\tlr: 5.000e-06, eta: 5:17:00, time: 2.120, data_time: 0.033, memory: 18702, loss_rpn_cls: 0.0317, loss_rpn_bbox: 0.0283, s0.loss_cls: 0.1878, s0.acc: 93.9053, s0.loss_bbox: 0.2155, s0.loss_mask: 0.1906, s1.loss_cls: 0.0894, s1.acc: 94.1007, s1.loss_bbox: 0.0878, s1.loss_mask: 0.0852, s2.loss_cls: 0.0429, s2.acc: 94.2795, s2.loss_bbox: 0.0349, s2.loss_mask: 0.0393, loss: 1.0334, grad_norm: 6.9792\n",
      "2021-05-19 15:36:04,383 - mmdet - INFO - Epoch [9][600/818]\tlr: 5.000e-06, eta: 5:15:20, time: 2.099, data_time: 0.029, memory: 18702, loss_rpn_cls: 0.0316, loss_rpn_bbox: 0.0252, s0.loss_cls: 0.1790, s0.acc: 94.2305, s0.loss_bbox: 0.2170, s0.loss_mask: 0.1924, s1.loss_cls: 0.0843, s1.acc: 94.3825, s1.loss_bbox: 0.0888, s1.loss_mask: 0.0861, s2.loss_cls: 0.0411, s2.acc: 94.5565, s2.loss_bbox: 0.0351, s2.loss_mask: 0.0384, loss: 1.0191, grad_norm: 7.0494\n",
      "2021-05-19 15:37:49,456 - mmdet - INFO - Epoch [9][650/818]\tlr: 5.000e-06, eta: 5:13:40, time: 2.101, data_time: 0.025, memory: 18702, loss_rpn_cls: 0.0264, loss_rpn_bbox: 0.0217, s0.loss_cls: 0.1690, s0.acc: 94.5264, s0.loss_bbox: 0.1973, s0.loss_mask: 0.1880, s1.loss_cls: 0.0794, s1.acc: 94.9078, s1.loss_bbox: 0.0814, s1.loss_mask: 0.0846, s2.loss_cls: 0.0392, s2.acc: 94.8663, s2.loss_bbox: 0.0321, s2.loss_mask: 0.0396, loss: 0.9587, grad_norm: 6.6144\n",
      "2021-05-19 15:39:34,119 - mmdet - INFO - Epoch [9][700/818]\tlr: 5.000e-06, eta: 5:12:00, time: 2.093, data_time: 0.026, memory: 18702, loss_rpn_cls: 0.0313, loss_rpn_bbox: 0.0235, s0.loss_cls: 0.1786, s0.acc: 94.3281, s0.loss_bbox: 0.2162, s0.loss_mask: 0.1955, s1.loss_cls: 0.0817, s1.acc: 94.9167, s1.loss_bbox: 0.0877, s1.loss_mask: 0.0859, s2.loss_cls: 0.0402, s2.acc: 94.8467, s2.loss_bbox: 0.0341, s2.loss_mask: 0.0389, loss: 1.0136, grad_norm: 7.1537\n",
      "2021-05-19 15:41:17,196 - mmdet - INFO - Epoch [9][750/818]\tlr: 5.000e-06, eta: 5:10:18, time: 2.061, data_time: 0.023, memory: 18702, loss_rpn_cls: 0.0252, loss_rpn_bbox: 0.0210, s0.loss_cls: 0.1624, s0.acc: 94.8594, s0.loss_bbox: 0.1974, s0.loss_mask: 0.1828, s1.loss_cls: 0.0742, s1.acc: 95.2373, s1.loss_bbox: 0.0805, s1.loss_mask: 0.0807, s2.loss_cls: 0.0365, s2.acc: 95.2396, s2.loss_bbox: 0.0326, s2.loss_mask: 0.0372, loss: 0.9305, grad_norm: 6.5498\n",
      "2021-05-19 15:42:59,292 - mmdet - INFO - Epoch [9][800/818]\tlr: 5.000e-06, eta: 5:08:35, time: 2.042, data_time: 0.027, memory: 18702, loss_rpn_cls: 0.0328, loss_rpn_bbox: 0.0260, s0.loss_cls: 0.1822, s0.acc: 94.1602, s0.loss_bbox: 0.2164, s0.loss_mask: 0.2023, s1.loss_cls: 0.0854, s1.acc: 94.5277, s1.loss_bbox: 0.0853, s1.loss_mask: 0.0886, s2.loss_cls: 0.0417, s2.acc: 94.5269, s2.loss_bbox: 0.0335, s2.loss_mask: 0.0410, loss: 1.0352, grad_norm: 7.0198\n",
      "2021-05-19 15:43:36,006 - mmdet - INFO - Saving checkpoint at 9 epochs\n"
     ]
    },
    {
     "name": "stdout",
     "output_type": "stream",
     "text": [
      "[>>>>>>>>>>>>>>>>>>>>>>>>>>>>>] 655/655, 4.5 task/s, elapsed: 146s, ETA:     0s"
     ]
    },
    {
     "name": "stderr",
     "output_type": "stream",
     "text": [
      "2021-05-19 15:46:07,107 - mmdet - INFO - Evaluating bbox...\n"
     ]
    },
    {
     "name": "stdout",
     "output_type": "stream",
     "text": [
      "Loading and preparing results...\n",
      "DONE (t=0.63s)\n",
      "creating index...\n",
      "index created!\n",
      "Running per image evaluation...\n",
      "Evaluate annotation type *bbox*\n",
      "DONE (t=6.11s).\n",
      "Accumulating evaluation results...\n"
     ]
    },
    {
     "name": "stderr",
     "output_type": "stream",
     "text": [
      "2021-05-19 15:46:14,803 - mmdet - INFO - Epoch(val) [9][818]\tbbox_mAP: 0.5050, bbox_mAP_50: 0.6350, bbox_mAP_75: 0.5470, bbox_mAP_s: 0.2170, bbox_mAP_m: 0.5090, bbox_mAP_l: 0.6970, bbox_mAP_copypaste: 0.505 0.635 0.547 0.217 0.509 0.697\n"
     ]
    },
    {
     "name": "stdout",
     "output_type": "stream",
     "text": [
      "DONE (t=0.85s).\n",
      "Average Precision  (AP) @[ IoU=0.50:0.95 | area=   all | maxDets=100 ] = 0.505\n",
      "Average Precision  (AP) @[ IoU=0.50      | area=   all | maxDets=1000 ] = 0.635\n",
      "Average Precision  (AP) @[ IoU=0.75      | area=   all | maxDets=1000 ] = 0.547\n",
      "Average Precision  (AP) @[ IoU=0.50:0.95 | area= small | maxDets=1000 ] = 0.217\n",
      "Average Precision  (AP) @[ IoU=0.50:0.95 | area=medium | maxDets=1000 ] = 0.509\n",
      "Average Precision  (AP) @[ IoU=0.50:0.95 | area= large | maxDets=1000 ] = 0.697\n",
      "Average Recall     (AR) @[ IoU=0.50:0.95 | area=   all | maxDets=100 ] = 0.623\n",
      "Average Recall     (AR) @[ IoU=0.50:0.95 | area=   all | maxDets=300 ] = 0.623\n",
      "Average Recall     (AR) @[ IoU=0.50:0.95 | area=   all | maxDets=1000 ] = 0.623\n",
      "Average Recall     (AR) @[ IoU=0.50:0.95 | area= small | maxDets=1000 ] = 0.343\n",
      "Average Recall     (AR) @[ IoU=0.50:0.95 | area=medium | maxDets=1000 ] = 0.646\n",
      "Average Recall     (AR) @[ IoU=0.50:0.95 | area= large | maxDets=1000 ] = 0.760\n"
     ]
    },
    {
     "name": "stderr",
     "output_type": "stream",
     "text": [
      "2021-05-19 15:48:04,547 - mmdet - INFO - Epoch [10][50/818]\tlr: 5.000e-06, eta: 5:05:39, time: 2.194, data_time: 0.078, memory: 18702, loss_rpn_cls: 0.0231, loss_rpn_bbox: 0.0205, s0.loss_cls: 0.1691, s0.acc: 94.5986, s0.loss_bbox: 0.2003, s0.loss_mask: 0.1773, s1.loss_cls: 0.0762, s1.acc: 95.1105, s1.loss_bbox: 0.0837, s1.loss_mask: 0.0805, s2.loss_cls: 0.0376, s2.acc: 95.0964, s2.loss_bbox: 0.0336, s2.loss_mask: 0.0370, loss: 0.9388, grad_norm: 6.8387\n",
      "2021-05-19 15:49:48,780 - mmdet - INFO - Epoch [10][100/818]\tlr: 5.000e-06, eta: 5:03:58, time: 2.085, data_time: 0.025, memory: 18702, loss_rpn_cls: 0.0207, loss_rpn_bbox: 0.0224, s0.loss_cls: 0.1580, s0.acc: 94.9707, s0.loss_bbox: 0.2023, s0.loss_mask: 0.1857, s1.loss_cls: 0.0737, s1.acc: 95.4281, s1.loss_bbox: 0.0826, s1.loss_mask: 0.0819, s2.loss_cls: 0.0365, s2.acc: 95.2424, s2.loss_bbox: 0.0323, s2.loss_mask: 0.0371, loss: 0.9332, grad_norm: 7.5539\n",
      "2021-05-19 15:51:31,123 - mmdet - INFO - Epoch [10][150/818]\tlr: 5.000e-06, eta: 5:02:16, time: 2.047, data_time: 0.025, memory: 18702, loss_rpn_cls: 0.0289, loss_rpn_bbox: 0.0215, s0.loss_cls: 0.1482, s0.acc: 95.2637, s0.loss_bbox: 0.1834, s0.loss_mask: 0.1821, s1.loss_cls: 0.0684, s1.acc: 95.6236, s1.loss_bbox: 0.0750, s1.loss_mask: 0.0821, s2.loss_cls: 0.0336, s2.acc: 95.6990, s2.loss_bbox: 0.0296, s2.loss_mask: 0.0379, loss: 0.8907, grad_norm: 6.5459\n",
      "2021-05-19 15:53:15,248 - mmdet - INFO - Epoch [10][200/818]\tlr: 5.000e-06, eta: 5:00:35, time: 2.083, data_time: 0.029, memory: 18702, loss_rpn_cls: 0.0229, loss_rpn_bbox: 0.0218, s0.loss_cls: 0.1622, s0.acc: 94.7041, s0.loss_bbox: 0.2001, s0.loss_mask: 0.1786, s1.loss_cls: 0.0732, s1.acc: 95.2382, s1.loss_bbox: 0.0828, s1.loss_mask: 0.0800, s2.loss_cls: 0.0358, s2.acc: 95.1646, s2.loss_bbox: 0.0327, s2.loss_mask: 0.0367, loss: 0.9268, grad_norm: 6.7076\n",
      "2021-05-19 15:54:59,728 - mmdet - INFO - Epoch [10][250/818]\tlr: 5.000e-06, eta: 4:58:55, time: 2.090, data_time: 0.029, memory: 18702, loss_rpn_cls: 0.0262, loss_rpn_bbox: 0.0237, s0.loss_cls: 0.1788, s0.acc: 94.3047, s0.loss_bbox: 0.2135, s0.loss_mask: 0.1941, s1.loss_cls: 0.0831, s1.acc: 94.6826, s1.loss_bbox: 0.0889, s1.loss_mask: 0.0858, s2.loss_cls: 0.0406, s2.acc: 94.7354, s2.loss_bbox: 0.0353, s2.loss_mask: 0.0393, loss: 1.0093, grad_norm: 6.8696\n",
      "2021-05-19 15:56:45,501 - mmdet - INFO - Epoch [10][300/818]\tlr: 5.000e-06, eta: 4:57:16, time: 2.115, data_time: 0.030, memory: 18702, loss_rpn_cls: 0.0225, loss_rpn_bbox: 0.0204, s0.loss_cls: 0.1640, s0.acc: 94.7617, s0.loss_bbox: 0.2065, s0.loss_mask: 0.1934, s1.loss_cls: 0.0751, s1.acc: 95.1758, s1.loss_bbox: 0.0829, s1.loss_mask: 0.0830, s2.loss_cls: 0.0370, s2.acc: 95.3055, s2.loss_bbox: 0.0328, s2.loss_mask: 0.0380, loss: 0.9558, grad_norm: 7.1006\n",
      "2021-05-19 15:58:28,777 - mmdet - INFO - Epoch [10][350/818]\tlr: 5.000e-06, eta: 4:55:34, time: 2.066, data_time: 0.029, memory: 18702, loss_rpn_cls: 0.0245, loss_rpn_bbox: 0.0238, s0.loss_cls: 0.1676, s0.acc: 94.5791, s0.loss_bbox: 0.1999, s0.loss_mask: 0.1945, s1.loss_cls: 0.0782, s1.acc: 95.0081, s1.loss_bbox: 0.0794, s1.loss_mask: 0.0856, s2.loss_cls: 0.0388, s2.acc: 94.9189, s2.loss_bbox: 0.0312, s2.loss_mask: 0.0399, loss: 0.9633, grad_norm: 7.1081\n",
      "2021-05-19 16:00:11,047 - mmdet - INFO - Epoch [10][400/818]\tlr: 5.000e-06, eta: 4:53:52, time: 2.045, data_time: 0.027, memory: 18702, loss_rpn_cls: 0.0255, loss_rpn_bbox: 0.0207, s0.loss_cls: 0.1640, s0.acc: 94.6787, s0.loss_bbox: 0.1934, s0.loss_mask: 0.1790, s1.loss_cls: 0.0767, s1.acc: 95.1021, s1.loss_bbox: 0.0803, s1.loss_mask: 0.0800, s2.loss_cls: 0.0374, s2.acc: 95.0784, s2.loss_bbox: 0.0316, s2.loss_mask: 0.0366, loss: 0.9251, grad_norm: 6.4819\n",
      "2021-05-19 16:01:57,420 - mmdet - INFO - Epoch [10][450/818]\tlr: 5.000e-06, eta: 4:52:13, time: 2.127, data_time: 0.031, memory: 18702, loss_rpn_cls: 0.0364, loss_rpn_bbox: 0.0266, s0.loss_cls: 0.1821, s0.acc: 94.1846, s0.loss_bbox: 0.2252, s0.loss_mask: 0.1946, s1.loss_cls: 0.0836, s1.acc: 94.5486, s1.loss_bbox: 0.0926, s1.loss_mask: 0.0867, s2.loss_cls: 0.0422, s2.acc: 94.5525, s2.loss_bbox: 0.0358, s2.loss_mask: 0.0405, loss: 1.0462, grad_norm: 7.0374\n",
      "2021-05-19 16:03:41,674 - mmdet - INFO - Epoch [10][500/818]\tlr: 5.000e-06, eta: 4:50:33, time: 2.085, data_time: 0.034, memory: 18702, loss_rpn_cls: 0.0316, loss_rpn_bbox: 0.0279, s0.loss_cls: 0.1829, s0.acc: 94.0020, s0.loss_bbox: 0.2143, s0.loss_mask: 0.1942, s1.loss_cls: 0.0848, s1.acc: 94.4606, s1.loss_bbox: 0.0894, s1.loss_mask: 0.0873, s2.loss_cls: 0.0418, s2.acc: 94.4323, s2.loss_bbox: 0.0344, s2.loss_mask: 0.0397, loss: 1.0284, grad_norm: 6.9708\n",
      "2021-05-19 16:05:27,320 - mmdet - INFO - Epoch [10][550/818]\tlr: 5.000e-06, eta: 4:48:53, time: 2.113, data_time: 0.023, memory: 18702, loss_rpn_cls: 0.0264, loss_rpn_bbox: 0.0214, s0.loss_cls: 0.1522, s0.acc: 95.0596, s0.loss_bbox: 0.1977, s0.loss_mask: 0.1777, s1.loss_cls: 0.0712, s1.acc: 95.2047, s1.loss_bbox: 0.0824, s1.loss_mask: 0.0808, s2.loss_cls: 0.0353, s2.acc: 95.2989, s2.loss_bbox: 0.0337, s2.loss_mask: 0.0381, loss: 0.9169, grad_norm: 6.7695\n",
      "2021-05-19 16:07:11,940 - mmdet - INFO - Epoch [10][600/818]\tlr: 5.000e-06, eta: 4:47:13, time: 2.092, data_time: 0.029, memory: 18702, loss_rpn_cls: 0.0296, loss_rpn_bbox: 0.0268, s0.loss_cls: 0.1882, s0.acc: 93.9668, s0.loss_bbox: 0.2253, s0.loss_mask: 0.2068, s1.loss_cls: 0.0891, s1.acc: 94.3061, s1.loss_bbox: 0.0961, s1.loss_mask: 0.0929, s2.loss_cls: 0.0438, s2.acc: 94.2659, s2.loss_bbox: 0.0366, s2.loss_mask: 0.0428, loss: 1.0779, grad_norm: 7.4941\n",
      "2021-05-19 16:08:58,408 - mmdet - INFO - Epoch [10][650/818]\tlr: 5.000e-06, eta: 4:45:34, time: 2.129, data_time: 0.034, memory: 18702, loss_rpn_cls: 0.0319, loss_rpn_bbox: 0.0246, s0.loss_cls: 0.1782, s0.acc: 94.1572, s0.loss_bbox: 0.2247, s0.loss_mask: 0.2030, s1.loss_cls: 0.0823, s1.acc: 94.6724, s1.loss_bbox: 0.0923, s1.loss_mask: 0.0903, s2.loss_cls: 0.0406, s2.acc: 94.6362, s2.loss_bbox: 0.0347, s2.loss_mask: 0.0408, loss: 1.0432, grad_norm: 6.8666\n",
      "2021-05-19 16:10:43,020 - mmdet - INFO - Epoch [10][700/818]\tlr: 5.000e-06, eta: 4:43:54, time: 2.092, data_time: 0.030, memory: 18702, loss_rpn_cls: 0.0273, loss_rpn_bbox: 0.0246, s0.loss_cls: 0.1720, s0.acc: 94.3779, s0.loss_bbox: 0.2069, s0.loss_mask: 0.1878, s1.loss_cls: 0.0785, s1.acc: 94.9050, s1.loss_bbox: 0.0831, s1.loss_mask: 0.0822, s2.loss_cls: 0.0392, s2.acc: 94.8495, s2.loss_bbox: 0.0321, s2.loss_mask: 0.0372, loss: 0.9710, grad_norm: 6.6132\n",
      "2021-05-19 16:12:28,706 - mmdet - INFO - Epoch [10][750/818]\tlr: 5.000e-06, eta: 4:42:14, time: 2.114, data_time: 0.032, memory: 18702, loss_rpn_cls: 0.0320, loss_rpn_bbox: 0.0264, s0.loss_cls: 0.1944, s0.acc: 93.5723, s0.loss_bbox: 0.2332, s0.loss_mask: 0.2100, s1.loss_cls: 0.0915, s1.acc: 93.8980, s1.loss_bbox: 0.0955, s1.loss_mask: 0.0898, s2.loss_cls: 0.0454, s2.acc: 93.8037, s2.loss_bbox: 0.0374, s2.loss_mask: 0.0408, loss: 1.0965, grad_norm: 6.9557\n",
      "2021-05-19 16:14:12,025 - mmdet - INFO - Epoch [10][800/818]\tlr: 5.000e-06, eta: 4:40:32, time: 2.066, data_time: 0.029, memory: 18702, loss_rpn_cls: 0.0293, loss_rpn_bbox: 0.0245, s0.loss_cls: 0.1839, s0.acc: 94.0576, s0.loss_bbox: 0.2157, s0.loss_mask: 0.1930, s1.loss_cls: 0.0852, s1.acc: 94.3673, s1.loss_bbox: 0.0882, s1.loss_mask: 0.0851, s2.loss_cls: 0.0414, s2.acc: 94.4405, s2.loss_bbox: 0.0342, s2.loss_mask: 0.0392, loss: 1.0195, grad_norm: 7.7710\n",
      "2021-05-19 16:14:48,959 - mmdet - INFO - Saving checkpoint at 10 epochs\n"
     ]
    },
    {
     "name": "stdout",
     "output_type": "stream",
     "text": [
      "[>>>>>>>>>>>>>>>>>>>>>>>>>>>>>] 655/655, 4.5 task/s, elapsed: 145s, ETA:     0s"
     ]
    },
    {
     "name": "stderr",
     "output_type": "stream",
     "text": [
      "2021-05-19 16:17:19,210 - mmdet - INFO - Evaluating bbox...\n"
     ]
    },
    {
     "name": "stdout",
     "output_type": "stream",
     "text": [
      "Loading and preparing results...\n",
      "DONE (t=0.62s)\n",
      "creating index...\n",
      "index created!\n",
      "Running per image evaluation...\n",
      "Evaluate annotation type *bbox*\n",
      "DONE (t=6.06s).\n",
      "Accumulating evaluation results...\n"
     ]
    },
    {
     "name": "stderr",
     "output_type": "stream",
     "text": [
      "2021-05-19 16:17:26,809 - mmdet - INFO - Epoch(val) [10][818]\tbbox_mAP: 0.5160, bbox_mAP_50: 0.6410, bbox_mAP_75: 0.5510, bbox_mAP_s: 0.2190, bbox_mAP_m: 0.5200, bbox_mAP_l: 0.7060, bbox_mAP_copypaste: 0.516 0.641 0.551 0.219 0.520 0.706\n"
     ]
    },
    {
     "name": "stdout",
     "output_type": "stream",
     "text": [
      "DONE (t=0.82s).\n",
      "Average Precision  (AP) @[ IoU=0.50:0.95 | area=   all | maxDets=100 ] = 0.516\n",
      "Average Precision  (AP) @[ IoU=0.50      | area=   all | maxDets=1000 ] = 0.641\n",
      "Average Precision  (AP) @[ IoU=0.75      | area=   all | maxDets=1000 ] = 0.551\n",
      "Average Precision  (AP) @[ IoU=0.50:0.95 | area= small | maxDets=1000 ] = 0.219\n",
      "Average Precision  (AP) @[ IoU=0.50:0.95 | area=medium | maxDets=1000 ] = 0.520\n",
      "Average Precision  (AP) @[ IoU=0.50:0.95 | area= large | maxDets=1000 ] = 0.706\n",
      "Average Recall     (AR) @[ IoU=0.50:0.95 | area=   all | maxDets=100 ] = 0.624\n",
      "Average Recall     (AR) @[ IoU=0.50:0.95 | area=   all | maxDets=300 ] = 0.624\n",
      "Average Recall     (AR) @[ IoU=0.50:0.95 | area=   all | maxDets=1000 ] = 0.624\n",
      "Average Recall     (AR) @[ IoU=0.50:0.95 | area= small | maxDets=1000 ] = 0.339\n",
      "Average Recall     (AR) @[ IoU=0.50:0.95 | area=medium | maxDets=1000 ] = 0.646\n",
      "Average Recall     (AR) @[ IoU=0.50:0.95 | area= large | maxDets=1000 ] = 0.762\n"
     ]
    },
    {
     "name": "stderr",
     "output_type": "stream",
     "text": [
      "2021-05-19 16:19:16,170 - mmdet - INFO - Epoch [11][50/818]\tlr: 5.000e-06, eta: 4:37:43, time: 2.187, data_time: 0.076, memory: 18702, loss_rpn_cls: 0.0236, loss_rpn_bbox: 0.0212, s0.loss_cls: 0.1515, s0.acc: 94.8574, s0.loss_bbox: 0.2004, s0.loss_mask: 0.1809, s1.loss_cls: 0.0704, s1.acc: 95.2647, s1.loss_bbox: 0.0831, s1.loss_mask: 0.0799, s2.loss_cls: 0.0346, s2.acc: 95.2554, s2.loss_bbox: 0.0326, s2.loss_mask: 0.0359, loss: 0.9141, grad_norm: 6.7241\n",
      "2021-05-19 16:21:01,327 - mmdet - INFO - Epoch [11][100/818]\tlr: 5.000e-06, eta: 4:36:03, time: 2.103, data_time: 0.030, memory: 18702, loss_rpn_cls: 0.0264, loss_rpn_bbox: 0.0246, s0.loss_cls: 0.1682, s0.acc: 94.6709, s0.loss_bbox: 0.2024, s0.loss_mask: 0.1847, s1.loss_cls: 0.0782, s1.acc: 94.9898, s1.loss_bbox: 0.0851, s1.loss_mask: 0.0835, s2.loss_cls: 0.0387, s2.acc: 94.9183, s2.loss_bbox: 0.0345, s2.loss_mask: 0.0387, loss: 0.9650, grad_norm: 6.4127\n",
      "2021-05-19 16:22:45,557 - mmdet - INFO - Epoch [11][150/818]\tlr: 5.000e-06, eta: 4:34:22, time: 2.085, data_time: 0.026, memory: 18702, loss_rpn_cls: 0.0250, loss_rpn_bbox: 0.0245, s0.loss_cls: 0.1635, s0.acc: 94.7646, s0.loss_bbox: 0.2108, s0.loss_mask: 0.1928, s1.loss_cls: 0.0736, s1.acc: 95.3236, s1.loss_bbox: 0.0868, s1.loss_mask: 0.0850, s2.loss_cls: 0.0366, s2.acc: 95.3146, s2.loss_bbox: 0.0345, s2.loss_mask: 0.0393, loss: 0.9722, grad_norm: 6.7822\n",
      "2021-05-19 16:24:29,550 - mmdet - INFO - Epoch [11][200/818]\tlr: 5.000e-06, eta: 4:32:41, time: 2.080, data_time: 0.027, memory: 18702, loss_rpn_cls: 0.0249, loss_rpn_bbox: 0.0208, s0.loss_cls: 0.1528, s0.acc: 94.8760, s0.loss_bbox: 0.1909, s0.loss_mask: 0.1812, s1.loss_cls: 0.0709, s1.acc: 95.0838, s1.loss_bbox: 0.0791, s1.loss_mask: 0.0825, s2.loss_cls: 0.0353, s2.acc: 95.0510, s2.loss_bbox: 0.0313, s2.loss_mask: 0.0373, loss: 0.9070, grad_norm: 6.6030\n",
      "2021-05-19 16:26:15,075 - mmdet - INFO - Epoch [11][250/818]\tlr: 5.000e-06, eta: 4:31:01, time: 2.110, data_time: 0.026, memory: 18702, loss_rpn_cls: 0.0277, loss_rpn_bbox: 0.0238, s0.loss_cls: 0.1658, s0.acc: 94.6494, s0.loss_bbox: 0.2063, s0.loss_mask: 0.1839, s1.loss_cls: 0.0728, s1.acc: 95.3284, s1.loss_bbox: 0.0860, s1.loss_mask: 0.0838, s2.loss_cls: 0.0359, s2.acc: 95.4083, s2.loss_bbox: 0.0339, s2.loss_mask: 0.0381, loss: 0.9579, grad_norm: 7.7033\n",
      "2021-05-19 16:28:01,205 - mmdet - INFO - Epoch [11][300/818]\tlr: 5.000e-06, eta: 4:29:22, time: 2.123, data_time: 0.030, memory: 18702, loss_rpn_cls: 0.0289, loss_rpn_bbox: 0.0273, s0.loss_cls: 0.1739, s0.acc: 94.1826, s0.loss_bbox: 0.2224, s0.loss_mask: 0.2056, s1.loss_cls: 0.0829, s1.acc: 94.4805, s1.loss_bbox: 0.0906, s1.loss_mask: 0.0899, s2.loss_cls: 0.0414, s2.acc: 94.3012, s2.loss_bbox: 0.0347, s2.loss_mask: 0.0410, loss: 1.0387, grad_norm: 6.5376\n",
      "2021-05-19 16:29:46,112 - mmdet - INFO - Epoch [11][350/818]\tlr: 5.000e-06, eta: 4:27:42, time: 2.098, data_time: 0.036, memory: 18702, loss_rpn_cls: 0.0294, loss_rpn_bbox: 0.0237, s0.loss_cls: 0.1791, s0.acc: 94.2002, s0.loss_bbox: 0.2167, s0.loss_mask: 0.1949, s1.loss_cls: 0.0827, s1.acc: 94.6942, s1.loss_bbox: 0.0881, s1.loss_mask: 0.0889, s2.loss_cls: 0.0408, s2.acc: 94.7229, s2.loss_bbox: 0.0344, s2.loss_mask: 0.0413, loss: 1.0200, grad_norm: 8.0979\n",
      "2021-05-19 16:31:28,850 - mmdet - INFO - Epoch [11][400/818]\tlr: 5.000e-06, eta: 4:25:59, time: 2.055, data_time: 0.025, memory: 18702, loss_rpn_cls: 0.0243, loss_rpn_bbox: 0.0203, s0.loss_cls: 0.1651, s0.acc: 94.7783, s0.loss_bbox: 0.1941, s0.loss_mask: 0.1756, s1.loss_cls: 0.0746, s1.acc: 95.1454, s1.loss_bbox: 0.0785, s1.loss_mask: 0.0750, s2.loss_cls: 0.0360, s2.acc: 95.2708, s2.loss_bbox: 0.0307, s2.loss_mask: 0.0346, loss: 0.9087, grad_norm: 7.1049\n",
      "2021-05-19 16:33:13,208 - mmdet - INFO - Epoch [11][450/818]\tlr: 5.000e-06, eta: 4:24:18, time: 2.087, data_time: 0.029, memory: 18702, loss_rpn_cls: 0.0256, loss_rpn_bbox: 0.0245, s0.loss_cls: 0.1611, s0.acc: 94.7646, s0.loss_bbox: 0.1965, s0.loss_mask: 0.1810, s1.loss_cls: 0.0735, s1.acc: 95.2174, s1.loss_bbox: 0.0774, s1.loss_mask: 0.0773, s2.loss_cls: 0.0363, s2.acc: 95.2471, s2.loss_bbox: 0.0304, s2.loss_mask: 0.0357, loss: 0.9194, grad_norm: 7.8922\n",
      "2021-05-19 16:34:56,056 - mmdet - INFO - Epoch [11][500/818]\tlr: 5.000e-06, eta: 4:22:36, time: 2.057, data_time: 0.024, memory: 18702, loss_rpn_cls: 0.0230, loss_rpn_bbox: 0.0194, s0.loss_cls: 0.1478, s0.acc: 95.0410, s0.loss_bbox: 0.1763, s0.loss_mask: 0.1738, s1.loss_cls: 0.0678, s1.acc: 95.4734, s1.loss_bbox: 0.0749, s1.loss_mask: 0.0787, s2.loss_cls: 0.0337, s2.acc: 95.5042, s2.loss_bbox: 0.0306, s2.loss_mask: 0.0357, loss: 0.8617, grad_norm: 6.7398\n",
      "2021-05-19 16:36:42,420 - mmdet - INFO - Epoch [11][550/818]\tlr: 5.000e-06, eta: 4:20:57, time: 2.127, data_time: 0.032, memory: 18702, loss_rpn_cls: 0.0269, loss_rpn_bbox: 0.0273, s0.loss_cls: 0.1864, s0.acc: 93.7793, s0.loss_bbox: 0.2254, s0.loss_mask: 0.1985, s1.loss_cls: 0.0881, s1.acc: 94.0855, s1.loss_bbox: 0.0905, s1.loss_mask: 0.0876, s2.loss_cls: 0.0441, s2.acc: 94.0557, s2.loss_bbox: 0.0349, s2.loss_mask: 0.0403, loss: 1.0501, grad_norm: 6.6462\n",
      "2021-05-19 16:38:26,901 - mmdet - INFO - Epoch [11][600/818]\tlr: 5.000e-06, eta: 4:19:16, time: 2.090, data_time: 0.030, memory: 18702, loss_rpn_cls: 0.0263, loss_rpn_bbox: 0.0216, s0.loss_cls: 0.1632, s0.acc: 94.4893, s0.loss_bbox: 0.2089, s0.loss_mask: 0.1876, s1.loss_cls: 0.0750, s1.acc: 94.8862, s1.loss_bbox: 0.0866, s1.loss_mask: 0.0827, s2.loss_cls: 0.0372, s2.acc: 94.9516, s2.loss_bbox: 0.0345, s2.loss_mask: 0.0379, loss: 0.9616, grad_norm: 6.9213\n",
      "2021-05-19 16:40:14,298 - mmdet - INFO - Epoch [11][650/818]\tlr: 5.000e-06, eta: 4:17:37, time: 2.148, data_time: 0.033, memory: 18702, loss_rpn_cls: 0.0264, loss_rpn_bbox: 0.0247, s0.loss_cls: 0.1787, s0.acc: 94.2217, s0.loss_bbox: 0.2235, s0.loss_mask: 0.1910, s1.loss_cls: 0.0822, s1.acc: 94.6761, s1.loss_bbox: 0.0915, s1.loss_mask: 0.0869, s2.loss_cls: 0.0403, s2.acc: 94.7107, s2.loss_bbox: 0.0356, s2.loss_mask: 0.0403, loss: 1.0212, grad_norm: 6.6321\n",
      "2021-05-19 16:41:58,550 - mmdet - INFO - Epoch [11][700/818]\tlr: 5.000e-06, eta: 4:15:56, time: 2.085, data_time: 0.031, memory: 18702, loss_rpn_cls: 0.0331, loss_rpn_bbox: 0.0254, s0.loss_cls: 0.1832, s0.acc: 94.0518, s0.loss_bbox: 0.2156, s0.loss_mask: 0.1889, s1.loss_cls: 0.0858, s1.acc: 94.3665, s1.loss_bbox: 0.0874, s1.loss_mask: 0.0828, s2.loss_cls: 0.0420, s2.acc: 94.4773, s2.loss_bbox: 0.0341, s2.loss_mask: 0.0383, loss: 1.0167, grad_norm: 6.7931\n",
      "2021-05-19 16:43:42,784 - mmdet - INFO - Epoch [11][750/818]\tlr: 5.000e-06, eta: 4:14:14, time: 2.085, data_time: 0.029, memory: 18702, loss_rpn_cls: 0.0297, loss_rpn_bbox: 0.0239, s0.loss_cls: 0.1737, s0.acc: 94.5518, s0.loss_bbox: 0.2048, s0.loss_mask: 0.1881, s1.loss_cls: 0.0786, s1.acc: 94.9885, s1.loss_bbox: 0.0829, s1.loss_mask: 0.0838, s2.loss_cls: 0.0376, s2.acc: 95.2428, s2.loss_bbox: 0.0323, s2.loss_mask: 0.0379, loss: 0.9732, grad_norm: 6.6564\n",
      "2021-05-19 16:45:26,695 - mmdet - INFO - Epoch [11][800/818]\tlr: 5.000e-06, eta: 4:12:33, time: 2.078, data_time: 0.030, memory: 18702, loss_rpn_cls: 0.0300, loss_rpn_bbox: 0.0264, s0.loss_cls: 0.1840, s0.acc: 94.0332, s0.loss_bbox: 0.2265, s0.loss_mask: 0.2059, s1.loss_cls: 0.0852, s1.acc: 94.5185, s1.loss_bbox: 0.0921, s1.loss_mask: 0.0910, s2.loss_cls: 0.0414, s2.acc: 94.5380, s2.loss_bbox: 0.0354, s2.loss_mask: 0.0410, loss: 1.0589, grad_norm: 6.9168\n",
      "2021-05-19 16:46:03,884 - mmdet - INFO - Saving checkpoint at 11 epochs\n"
     ]
    },
    {
     "name": "stdout",
     "output_type": "stream",
     "text": [
      "[>>>>>>>>>>>>>>>>>>>>>>>>>>>>>] 655/655, 4.5 task/s, elapsed: 146s, ETA:     0s"
     ]
    },
    {
     "name": "stderr",
     "output_type": "stream",
     "text": [
      "2021-05-19 16:48:33,681 - mmdet - INFO - Evaluating bbox...\n"
     ]
    },
    {
     "name": "stdout",
     "output_type": "stream",
     "text": [
      "Loading and preparing results...\n",
      "DONE (t=0.66s)\n",
      "creating index...\n",
      "index created!\n",
      "Running per image evaluation...\n",
      "Evaluate annotation type *bbox*\n",
      "DONE (t=6.23s).\n",
      "Accumulating evaluation results...\n"
     ]
    },
    {
     "name": "stderr",
     "output_type": "stream",
     "text": [
      "2021-05-19 16:48:41,472 - mmdet - INFO - Epoch(val) [11][818]\tbbox_mAP: 0.5230, bbox_mAP_50: 0.6480, bbox_mAP_75: 0.5590, bbox_mAP_s: 0.2290, bbox_mAP_m: 0.5270, bbox_mAP_l: 0.7120, bbox_mAP_copypaste: 0.523 0.648 0.559 0.229 0.527 0.712\n"
     ]
    },
    {
     "name": "stdout",
     "output_type": "stream",
     "text": [
      "DONE (t=0.81s).\n",
      "Average Precision  (AP) @[ IoU=0.50:0.95 | area=   all | maxDets=100 ] = 0.523\n",
      "Average Precision  (AP) @[ IoU=0.50      | area=   all | maxDets=1000 ] = 0.648\n",
      "Average Precision  (AP) @[ IoU=0.75      | area=   all | maxDets=1000 ] = 0.559\n",
      "Average Precision  (AP) @[ IoU=0.50:0.95 | area= small | maxDets=1000 ] = 0.229\n",
      "Average Precision  (AP) @[ IoU=0.50:0.95 | area=medium | maxDets=1000 ] = 0.527\n",
      "Average Precision  (AP) @[ IoU=0.50:0.95 | area= large | maxDets=1000 ] = 0.712\n",
      "Average Recall     (AR) @[ IoU=0.50:0.95 | area=   all | maxDets=100 ] = 0.627\n",
      "Average Recall     (AR) @[ IoU=0.50:0.95 | area=   all | maxDets=300 ] = 0.627\n",
      "Average Recall     (AR) @[ IoU=0.50:0.95 | area=   all | maxDets=1000 ] = 0.627\n",
      "Average Recall     (AR) @[ IoU=0.50:0.95 | area= small | maxDets=1000 ] = 0.346\n",
      "Average Recall     (AR) @[ IoU=0.50:0.95 | area=medium | maxDets=1000 ] = 0.650\n",
      "Average Recall     (AR) @[ IoU=0.50:0.95 | area= large | maxDets=1000 ] = 0.764\n"
     ]
    },
    {
     "name": "stderr",
     "output_type": "stream",
     "text": [
      "2021-05-19 16:50:30,918 - mmdet - INFO - Epoch [12][50/818]\tlr: 5.000e-06, eta: 4:09:49, time: 2.189, data_time: 0.077, memory: 18702, loss_rpn_cls: 0.0251, loss_rpn_bbox: 0.0225, s0.loss_cls: 0.1617, s0.acc: 94.7646, s0.loss_bbox: 0.1964, s0.loss_mask: 0.1898, s1.loss_cls: 0.0763, s1.acc: 95.0424, s1.loss_bbox: 0.0820, s1.loss_mask: 0.0869, s2.loss_cls: 0.0375, s2.acc: 94.9521, s2.loss_bbox: 0.0326, s2.loss_mask: 0.0398, loss: 0.9507, grad_norm: 7.0280\n",
      "2021-05-19 16:52:16,855 - mmdet - INFO - Epoch [12][100/818]\tlr: 5.000e-06, eta: 4:08:09, time: 2.119, data_time: 0.030, memory: 18702, loss_rpn_cls: 0.0294, loss_rpn_bbox: 0.0258, s0.loss_cls: 0.1836, s0.acc: 94.0625, s0.loss_bbox: 0.2151, s0.loss_mask: 0.1872, s1.loss_cls: 0.0846, s1.acc: 94.4812, s1.loss_bbox: 0.0899, s1.loss_mask: 0.0831, s2.loss_cls: 0.0414, s2.acc: 94.4024, s2.loss_bbox: 0.0355, s2.loss_mask: 0.0381, loss: 1.0135, grad_norm: 6.9171\n",
      "2021-05-19 16:54:02,248 - mmdet - INFO - Epoch [12][150/818]\tlr: 5.000e-06, eta: 4:06:29, time: 2.108, data_time: 0.031, memory: 18702, loss_rpn_cls: 0.0266, loss_rpn_bbox: 0.0255, s0.loss_cls: 0.1731, s0.acc: 94.2939, s0.loss_bbox: 0.2103, s0.loss_mask: 0.1846, s1.loss_cls: 0.0810, s1.acc: 94.7774, s1.loss_bbox: 0.0868, s1.loss_mask: 0.0837, s2.loss_cls: 0.0394, s2.acc: 94.8665, s2.loss_bbox: 0.0349, s2.loss_mask: 0.0387, loss: 0.9845, grad_norm: 6.9937\n",
      "2021-05-19 16:55:46,328 - mmdet - INFO - Epoch [12][200/818]\tlr: 5.000e-06, eta: 4:04:47, time: 2.082, data_time: 0.030, memory: 18702, loss_rpn_cls: 0.0286, loss_rpn_bbox: 0.0240, s0.loss_cls: 0.1705, s0.acc: 94.3926, s0.loss_bbox: 0.2164, s0.loss_mask: 0.1921, s1.loss_cls: 0.0793, s1.acc: 94.7858, s1.loss_bbox: 0.0892, s1.loss_mask: 0.0842, s2.loss_cls: 0.0381, s2.acc: 94.9160, s2.loss_bbox: 0.0341, s2.loss_mask: 0.0385, loss: 0.9950, grad_norm: 6.9314\n",
      "2021-05-19 16:57:30,649 - mmdet - INFO - Epoch [12][250/818]\tlr: 5.000e-06, eta: 4:03:06, time: 2.086, data_time: 0.029, memory: 18702, loss_rpn_cls: 0.0236, loss_rpn_bbox: 0.0197, s0.loss_cls: 0.1561, s0.acc: 94.8857, s0.loss_bbox: 0.1882, s0.loss_mask: 0.1804, s1.loss_cls: 0.0708, s1.acc: 95.3707, s1.loss_bbox: 0.0774, s1.loss_mask: 0.0795, s2.loss_cls: 0.0357, s2.acc: 95.1716, s2.loss_bbox: 0.0308, s2.loss_mask: 0.0365, loss: 0.8986, grad_norm: 6.6230\n",
      "2021-05-19 16:59:15,179 - mmdet - INFO - Epoch [12][300/818]\tlr: 5.000e-06, eta: 4:01:25, time: 2.091, data_time: 0.028, memory: 18702, loss_rpn_cls: 0.0272, loss_rpn_bbox: 0.0216, s0.loss_cls: 0.1533, s0.acc: 95.1104, s0.loss_bbox: 0.1902, s0.loss_mask: 0.1914, s1.loss_cls: 0.0673, s1.acc: 95.6987, s1.loss_bbox: 0.0782, s1.loss_mask: 0.0845, s2.loss_cls: 0.0335, s2.acc: 95.5517, s2.loss_bbox: 0.0306, s2.loss_mask: 0.0389, loss: 0.9166, grad_norm: 6.9902\n",
      "2021-05-19 17:00:58,798 - mmdet - INFO - Epoch [12][350/818]\tlr: 5.000e-06, eta: 3:59:43, time: 2.072, data_time: 0.028, memory: 18702, loss_rpn_cls: 0.0238, loss_rpn_bbox: 0.0196, s0.loss_cls: 0.1539, s0.acc: 94.8145, s0.loss_bbox: 0.1921, s0.loss_mask: 0.1703, s1.loss_cls: 0.0714, s1.acc: 95.3247, s1.loss_bbox: 0.0779, s1.loss_mask: 0.0736, s2.loss_cls: 0.0356, s2.acc: 95.3516, s2.loss_bbox: 0.0313, s2.loss_mask: 0.0343, loss: 0.8837, grad_norm: 7.0049\n",
      "2021-05-19 17:02:41,189 - mmdet - INFO - Epoch [12][400/818]\tlr: 5.000e-06, eta: 3:58:01, time: 2.048, data_time: 0.032, memory: 18702, loss_rpn_cls: 0.0241, loss_rpn_bbox: 0.0247, s0.loss_cls: 0.1597, s0.acc: 94.7148, s0.loss_bbox: 0.2044, s0.loss_mask: 0.1952, s1.loss_cls: 0.0738, s1.acc: 95.0325, s1.loss_bbox: 0.0826, s1.loss_mask: 0.0871, s2.loss_cls: 0.0364, s2.acc: 95.1487, s2.loss_bbox: 0.0323, s2.loss_mask: 0.0402, loss: 0.9605, grad_norm: 6.6223\n",
      "2021-05-19 17:04:26,934 - mmdet - INFO - Epoch [12][450/818]\tlr: 5.000e-06, eta: 3:56:20, time: 2.115, data_time: 0.031, memory: 18702, loss_rpn_cls: 0.0253, loss_rpn_bbox: 0.0227, s0.loss_cls: 0.1604, s0.acc: 94.6299, s0.loss_bbox: 0.2086, s0.loss_mask: 0.2011, s1.loss_cls: 0.0742, s1.acc: 94.9229, s1.loss_bbox: 0.0851, s1.loss_mask: 0.0890, s2.loss_cls: 0.0372, s2.acc: 94.7412, s2.loss_bbox: 0.0332, s2.loss_mask: 0.0406, loss: 0.9773, grad_norm: 6.5570\n",
      "2021-05-19 17:06:11,132 - mmdet - INFO - Epoch [12][500/818]\tlr: 5.000e-06, eta: 3:54:39, time: 2.084, data_time: 0.032, memory: 18702, loss_rpn_cls: 0.0258, loss_rpn_bbox: 0.0235, s0.loss_cls: 0.1568, s0.acc: 94.8232, s0.loss_bbox: 0.1986, s0.loss_mask: 0.1843, s1.loss_cls: 0.0737, s1.acc: 95.1003, s1.loss_bbox: 0.0802, s1.loss_mask: 0.0828, s2.loss_cls: 0.0366, s2.acc: 95.0297, s2.loss_bbox: 0.0318, s2.loss_mask: 0.0377, loss: 0.9318, grad_norm: 6.8174\n",
      "2021-05-19 17:07:55,788 - mmdet - INFO - Epoch [12][550/818]\tlr: 5.000e-06, eta: 3:52:58, time: 2.093, data_time: 0.030, memory: 18702, loss_rpn_cls: 0.0297, loss_rpn_bbox: 0.0259, s0.loss_cls: 0.1605, s0.acc: 94.6611, s0.loss_bbox: 0.2062, s0.loss_mask: 0.1947, s1.loss_cls: 0.0753, s1.acc: 95.0231, s1.loss_bbox: 0.0835, s1.loss_mask: 0.0854, s2.loss_cls: 0.0369, s2.acc: 95.1200, s2.loss_bbox: 0.0317, s2.loss_mask: 0.0385, loss: 0.9683, grad_norm: 6.8210\n",
      "2021-05-19 17:09:41,486 - mmdet - INFO - Epoch [12][600/818]\tlr: 5.000e-06, eta: 3:51:18, time: 2.114, data_time: 0.031, memory: 18702, loss_rpn_cls: 0.0240, loss_rpn_bbox: 0.0212, s0.loss_cls: 0.1746, s0.acc: 94.3535, s0.loss_bbox: 0.2151, s0.loss_mask: 0.1831, s1.loss_cls: 0.0818, s1.acc: 94.7547, s1.loss_bbox: 0.0884, s1.loss_mask: 0.0814, s2.loss_cls: 0.0392, s2.acc: 95.0110, s2.loss_bbox: 0.0350, s2.loss_mask: 0.0371, loss: 0.9808, grad_norm: 7.3830\n",
      "2021-05-19 17:11:27,317 - mmdet - INFO - Epoch [12][650/818]\tlr: 5.000e-06, eta: 3:49:37, time: 2.117, data_time: 0.032, memory: 18702, loss_rpn_cls: 0.0275, loss_rpn_bbox: 0.0222, s0.loss_cls: 0.1705, s0.acc: 94.4707, s0.loss_bbox: 0.2104, s0.loss_mask: 0.1862, s1.loss_cls: 0.0778, s1.acc: 94.9722, s1.loss_bbox: 0.0865, s1.loss_mask: 0.0806, s2.loss_cls: 0.0387, s2.acc: 94.8401, s2.loss_bbox: 0.0339, s2.loss_mask: 0.0371, loss: 0.9716, grad_norm: 7.0925\n",
      "2021-05-19 17:13:10,552 - mmdet - INFO - Epoch [12][700/818]\tlr: 5.000e-06, eta: 3:47:55, time: 2.065, data_time: 0.028, memory: 18702, loss_rpn_cls: 0.0247, loss_rpn_bbox: 0.0173, s0.loss_cls: 0.1452, s0.acc: 95.3359, s0.loss_bbox: 0.1882, s0.loss_mask: 0.1720, s1.loss_cls: 0.0636, s1.acc: 95.7852, s1.loss_bbox: 0.0768, s1.loss_mask: 0.0755, s2.loss_cls: 0.0307, s2.acc: 95.9860, s2.loss_bbox: 0.0311, s2.loss_mask: 0.0351, loss: 0.8602, grad_norm: 6.4404\n",
      "2021-05-19 17:14:55,520 - mmdet - INFO - Epoch [12][750/818]\tlr: 5.000e-06, eta: 3:46:14, time: 2.099, data_time: 0.033, memory: 18702, loss_rpn_cls: 0.0292, loss_rpn_bbox: 0.0252, s0.loss_cls: 0.1735, s0.acc: 94.3408, s0.loss_bbox: 0.2179, s0.loss_mask: 0.1935, s1.loss_cls: 0.0805, s1.acc: 94.6407, s1.loss_bbox: 0.0915, s1.loss_mask: 0.0864, s2.loss_cls: 0.0407, s2.acc: 94.5957, s2.loss_bbox: 0.0367, s2.loss_mask: 0.0395, loss: 1.0147, grad_norm: 7.1461\n",
      "2021-05-19 17:16:39,261 - mmdet - INFO - Epoch [12][800/818]\tlr: 5.000e-06, eta: 3:44:32, time: 2.075, data_time: 0.032, memory: 18702, loss_rpn_cls: 0.0288, loss_rpn_bbox: 0.0245, s0.loss_cls: 0.1782, s0.acc: 94.2383, s0.loss_bbox: 0.2223, s0.loss_mask: 0.1861, s1.loss_cls: 0.0814, s1.acc: 94.7551, s1.loss_bbox: 0.0909, s1.loss_mask: 0.0824, s2.loss_cls: 0.0404, s2.acc: 94.6226, s2.loss_bbox: 0.0359, s2.loss_mask: 0.0377, loss: 1.0087, grad_norm: 7.3988\n",
      "2021-05-19 17:17:16,062 - mmdet - INFO - Saving checkpoint at 12 epochs\n"
     ]
    },
    {
     "name": "stdout",
     "output_type": "stream",
     "text": [
      "[>>>>>>>>>>>>>>>>>>>>>>>>>>>>>] 655/655, 4.5 task/s, elapsed: 145s, ETA:     0s"
     ]
    },
    {
     "name": "stderr",
     "output_type": "stream",
     "text": [
      "2021-05-19 17:19:46,059 - mmdet - INFO - Evaluating bbox...\n"
     ]
    },
    {
     "name": "stdout",
     "output_type": "stream",
     "text": [
      "Loading and preparing results...\n",
      "DONE (t=0.12s)\n",
      "creating index...\n",
      "index created!\n",
      "Running per image evaluation...\n",
      "Evaluate annotation type *bbox*\n",
      "DONE (t=6.78s).\n",
      "Accumulating evaluation results...\n"
     ]
    },
    {
     "name": "stderr",
     "output_type": "stream",
     "text": [
      "2021-05-19 17:19:53,900 - mmdet - INFO - Epoch(val) [12][818]\tbbox_mAP: 0.5260, bbox_mAP_50: 0.6510, bbox_mAP_75: 0.5650, bbox_mAP_s: 0.2270, bbox_mAP_m: 0.5290, bbox_mAP_l: 0.7160, bbox_mAP_copypaste: 0.526 0.651 0.565 0.227 0.529 0.716\n"
     ]
    },
    {
     "name": "stdout",
     "output_type": "stream",
     "text": [
      "DONE (t=0.84s).\n",
      "Average Precision  (AP) @[ IoU=0.50:0.95 | area=   all | maxDets=100 ] = 0.526\n",
      "Average Precision  (AP) @[ IoU=0.50      | area=   all | maxDets=1000 ] = 0.651\n",
      "Average Precision  (AP) @[ IoU=0.75      | area=   all | maxDets=1000 ] = 0.565\n",
      "Average Precision  (AP) @[ IoU=0.50:0.95 | area= small | maxDets=1000 ] = 0.227\n",
      "Average Precision  (AP) @[ IoU=0.50:0.95 | area=medium | maxDets=1000 ] = 0.529\n",
      "Average Precision  (AP) @[ IoU=0.50:0.95 | area= large | maxDets=1000 ] = 0.716\n",
      "Average Recall     (AR) @[ IoU=0.50:0.95 | area=   all | maxDets=100 ] = 0.627\n",
      "Average Recall     (AR) @[ IoU=0.50:0.95 | area=   all | maxDets=300 ] = 0.627\n",
      "Average Recall     (AR) @[ IoU=0.50:0.95 | area=   all | maxDets=1000 ] = 0.627\n",
      "Average Recall     (AR) @[ IoU=0.50:0.95 | area= small | maxDets=1000 ] = 0.350\n",
      "Average Recall     (AR) @[ IoU=0.50:0.95 | area=medium | maxDets=1000 ] = 0.647\n",
      "Average Recall     (AR) @[ IoU=0.50:0.95 | area= large | maxDets=1000 ] = 0.764\n"
     ]
    },
    {
     "name": "stderr",
     "output_type": "stream",
     "text": [
      "2021-05-19 17:21:43,441 - mmdet - INFO - Epoch [13][50/818]\tlr: 5.000e-07, eta: 3:41:53, time: 2.190, data_time: 0.079, memory: 18702, loss_rpn_cls: 0.0226, loss_rpn_bbox: 0.0224, s0.loss_cls: 0.1634, s0.acc: 94.5439, s0.loss_bbox: 0.2156, s0.loss_mask: 0.1964, s1.loss_cls: 0.0767, s1.acc: 94.9460, s1.loss_bbox: 0.0874, s1.loss_mask: 0.0858, s2.loss_cls: 0.0372, s2.acc: 94.9574, s2.loss_bbox: 0.0346, s2.loss_mask: 0.0394, loss: 0.9815, grad_norm: 7.1103\n",
      "2021-05-19 17:23:27,243 - mmdet - INFO - Epoch [13][100/818]\tlr: 5.000e-07, eta: 3:40:11, time: 2.076, data_time: 0.027, memory: 18702, loss_rpn_cls: 0.0228, loss_rpn_bbox: 0.0200, s0.loss_cls: 0.1486, s0.acc: 95.1953, s0.loss_bbox: 0.1857, s0.loss_mask: 0.1754, s1.loss_cls: 0.0694, s1.acc: 95.4128, s1.loss_bbox: 0.0769, s1.loss_mask: 0.0780, s2.loss_cls: 0.0335, s2.acc: 95.4312, s2.loss_bbox: 0.0315, s2.loss_mask: 0.0364, loss: 0.8783, grad_norm: 7.4622\n",
      "2021-05-19 17:25:12,031 - mmdet - INFO - Epoch [13][150/818]\tlr: 5.000e-07, eta: 3:38:30, time: 2.096, data_time: 0.032, memory: 18702, loss_rpn_cls: 0.0264, loss_rpn_bbox: 0.0234, s0.loss_cls: 0.1676, s0.acc: 94.4346, s0.loss_bbox: 0.2063, s0.loss_mask: 0.1824, s1.loss_cls: 0.0775, s1.acc: 94.8852, s1.loss_bbox: 0.0850, s1.loss_mask: 0.0823, s2.loss_cls: 0.0375, s2.acc: 94.9231, s2.loss_bbox: 0.0333, s2.loss_mask: 0.0378, loss: 0.9596, grad_norm: 6.6082\n",
      "2021-05-19 17:26:56,043 - mmdet - INFO - Epoch [13][200/818]\tlr: 5.000e-07, eta: 3:36:48, time: 2.080, data_time: 0.025, memory: 18702, loss_rpn_cls: 0.0250, loss_rpn_bbox: 0.0219, s0.loss_cls: 0.1501, s0.acc: 95.1787, s0.loss_bbox: 0.1910, s0.loss_mask: 0.1701, s1.loss_cls: 0.0678, s1.acc: 95.7417, s1.loss_bbox: 0.0778, s1.loss_mask: 0.0755, s2.loss_cls: 0.0333, s2.acc: 95.7219, s2.loss_bbox: 0.0307, s2.loss_mask: 0.0345, loss: 0.8776, grad_norm: 6.6006\n",
      "2021-05-19 17:28:41,176 - mmdet - INFO - Epoch [13][250/818]\tlr: 5.000e-07, eta: 3:35:07, time: 2.103, data_time: 0.027, memory: 18702, loss_rpn_cls: 0.0298, loss_rpn_bbox: 0.0250, s0.loss_cls: 0.1626, s0.acc: 94.6895, s0.loss_bbox: 0.2139, s0.loss_mask: 0.1972, s1.loss_cls: 0.0756, s1.acc: 95.0335, s1.loss_bbox: 0.0865, s1.loss_mask: 0.0865, s2.loss_cls: 0.0372, s2.acc: 94.9915, s2.loss_bbox: 0.0336, s2.loss_mask: 0.0393, loss: 0.9871, grad_norm: 6.8148\n",
      "2021-05-19 17:30:26,249 - mmdet - INFO - Epoch [13][300/818]\tlr: 5.000e-07, eta: 3:33:26, time: 2.101, data_time: 0.027, memory: 18702, loss_rpn_cls: 0.0230, loss_rpn_bbox: 0.0231, s0.loss_cls: 0.1598, s0.acc: 94.7979, s0.loss_bbox: 0.2007, s0.loss_mask: 0.1859, s1.loss_cls: 0.0731, s1.acc: 95.3023, s1.loss_bbox: 0.0825, s1.loss_mask: 0.0818, s2.loss_cls: 0.0359, s2.acc: 95.4755, s2.loss_bbox: 0.0320, s2.loss_mask: 0.0379, loss: 0.9357, grad_norm: 7.3368\n",
      "2021-05-19 17:32:11,100 - mmdet - INFO - Epoch [13][350/818]\tlr: 5.000e-07, eta: 3:31:45, time: 2.097, data_time: 0.032, memory: 18702, loss_rpn_cls: 0.0287, loss_rpn_bbox: 0.0279, s0.loss_cls: 0.1781, s0.acc: 94.2480, s0.loss_bbox: 0.2266, s0.loss_mask: 0.1888, s1.loss_cls: 0.0834, s1.acc: 94.6358, s1.loss_bbox: 0.0931, s1.loss_mask: 0.0843, s2.loss_cls: 0.0408, s2.acc: 94.6887, s2.loss_bbox: 0.0362, s2.loss_mask: 0.0388, loss: 1.0267, grad_norm: 6.5369\n",
      "2021-05-19 17:33:55,732 - mmdet - INFO - Epoch [13][400/818]\tlr: 5.000e-07, eta: 3:30:04, time: 2.093, data_time: 0.030, memory: 18702, loss_rpn_cls: 0.0318, loss_rpn_bbox: 0.0245, s0.loss_cls: 0.1776, s0.acc: 94.3379, s0.loss_bbox: 0.2215, s0.loss_mask: 0.1874, s1.loss_cls: 0.0803, s1.acc: 94.8901, s1.loss_bbox: 0.0912, s1.loss_mask: 0.0809, s2.loss_cls: 0.0397, s2.acc: 94.7878, s2.loss_bbox: 0.0369, s2.loss_mask: 0.0374, loss: 1.0092, grad_norm: 6.6419\n",
      "2021-05-19 17:35:41,351 - mmdet - INFO - Epoch [13][450/818]\tlr: 5.000e-07, eta: 3:28:23, time: 2.112, data_time: 0.030, memory: 18702, loss_rpn_cls: 0.0260, loss_rpn_bbox: 0.0220, s0.loss_cls: 0.1586, s0.acc: 94.6777, s0.loss_bbox: 0.1974, s0.loss_mask: 0.1814, s1.loss_cls: 0.0763, s1.acc: 94.8284, s1.loss_bbox: 0.0818, s1.loss_mask: 0.0812, s2.loss_cls: 0.0383, s2.acc: 94.8606, s2.loss_bbox: 0.0328, s2.loss_mask: 0.0380, loss: 0.9338, grad_norm: 6.8900\n",
      "2021-05-19 17:37:25,583 - mmdet - INFO - Epoch [13][500/818]\tlr: 5.000e-07, eta: 3:26:42, time: 2.085, data_time: 0.026, memory: 18702, loss_rpn_cls: 0.0253, loss_rpn_bbox: 0.0229, s0.loss_cls: 0.1601, s0.acc: 94.8164, s0.loss_bbox: 0.1980, s0.loss_mask: 0.1787, s1.loss_cls: 0.0704, s1.acc: 95.5523, s1.loss_bbox: 0.0813, s1.loss_mask: 0.0814, s2.loss_cls: 0.0352, s2.acc: 95.4371, s2.loss_bbox: 0.0327, s2.loss_mask: 0.0378, loss: 0.9238, grad_norm: 6.6511\n",
      "2021-05-19 17:39:08,525 - mmdet - INFO - Epoch [13][550/818]\tlr: 5.000e-07, eta: 3:24:59, time: 2.059, data_time: 0.023, memory: 18702, loss_rpn_cls: 0.0205, loss_rpn_bbox: 0.0183, s0.loss_cls: 0.1400, s0.acc: 95.5029, s0.loss_bbox: 0.1816, s0.loss_mask: 0.1773, s1.loss_cls: 0.0649, s1.acc: 95.8789, s1.loss_bbox: 0.0761, s1.loss_mask: 0.0799, s2.loss_cls: 0.0316, s2.acc: 95.8824, s2.loss_bbox: 0.0308, s2.loss_mask: 0.0365, loss: 0.8577, grad_norm: 6.6997\n",
      "2021-05-19 17:40:52,882 - mmdet - INFO - Epoch [13][600/818]\tlr: 5.000e-07, eta: 3:23:18, time: 2.087, data_time: 0.028, memory: 18702, loss_rpn_cls: 0.0285, loss_rpn_bbox: 0.0222, s0.loss_cls: 0.1653, s0.acc: 94.7139, s0.loss_bbox: 0.2038, s0.loss_mask: 0.1873, s1.loss_cls: 0.0752, s1.acc: 95.1301, s1.loss_bbox: 0.0842, s1.loss_mask: 0.0827, s2.loss_cls: 0.0362, s2.acc: 95.1555, s2.loss_bbox: 0.0329, s2.loss_mask: 0.0383, loss: 0.9566, grad_norm: 6.4124\n",
      "2021-05-19 17:42:38,905 - mmdet - INFO - Epoch [13][650/818]\tlr: 5.000e-07, eta: 3:21:37, time: 2.120, data_time: 0.028, memory: 18702, loss_rpn_cls: 0.0276, loss_rpn_bbox: 0.0233, s0.loss_cls: 0.1626, s0.acc: 94.5654, s0.loss_bbox: 0.2142, s0.loss_mask: 0.1992, s1.loss_cls: 0.0740, s1.acc: 95.1186, s1.loss_bbox: 0.0856, s1.loss_mask: 0.0882, s2.loss_cls: 0.0359, s2.acc: 95.1784, s2.loss_bbox: 0.0335, s2.loss_mask: 0.0405, loss: 0.9847, grad_norm: 7.2324\n",
      "2021-05-19 17:44:22,716 - mmdet - INFO - Epoch [13][700/818]\tlr: 5.000e-07, eta: 3:19:55, time: 2.076, data_time: 0.028, memory: 18702, loss_rpn_cls: 0.0280, loss_rpn_bbox: 0.0244, s0.loss_cls: 0.1811, s0.acc: 94.1094, s0.loss_bbox: 0.2168, s0.loss_mask: 0.2010, s1.loss_cls: 0.0819, s1.acc: 94.6207, s1.loss_bbox: 0.0887, s1.loss_mask: 0.0898, s2.loss_cls: 0.0405, s2.acc: 94.6720, s2.loss_bbox: 0.0347, s2.loss_mask: 0.0412, loss: 1.0281, grad_norm: 6.8077\n",
      "2021-05-19 17:46:04,644 - mmdet - INFO - Epoch [13][750/818]\tlr: 5.000e-07, eta: 3:18:12, time: 2.039, data_time: 0.023, memory: 18702, loss_rpn_cls: 0.0217, loss_rpn_bbox: 0.0199, s0.loss_cls: 0.1456, s0.acc: 95.3545, s0.loss_bbox: 0.1769, s0.loss_mask: 0.1625, s1.loss_cls: 0.0647, s1.acc: 95.8773, s1.loss_bbox: 0.0740, s1.loss_mask: 0.0735, s2.loss_cls: 0.0324, s2.acc: 95.7469, s2.loss_bbox: 0.0294, s2.loss_mask: 0.0342, loss: 0.8347, grad_norm: 7.1202\n",
      "2021-05-19 17:47:48,947 - mmdet - INFO - Epoch [13][800/818]\tlr: 5.000e-07, eta: 3:16:30, time: 2.086, data_time: 0.028, memory: 18702, loss_rpn_cls: 0.0293, loss_rpn_bbox: 0.0265, s0.loss_cls: 0.1639, s0.acc: 94.5596, s0.loss_bbox: 0.2175, s0.loss_mask: 0.1862, s1.loss_cls: 0.0751, s1.acc: 95.1802, s1.loss_bbox: 0.0913, s1.loss_mask: 0.0831, s2.loss_cls: 0.0371, s2.acc: 95.1709, s2.loss_bbox: 0.0364, s2.loss_mask: 0.0378, loss: 0.9845, grad_norm: 6.8685\n",
      "2021-05-19 17:48:26,784 - mmdet - INFO - Saving checkpoint at 13 epochs\n"
     ]
    },
    {
     "name": "stdout",
     "output_type": "stream",
     "text": [
      "[>>>>>>>>>>>>>>>>>>>>>>>>>>>>>] 655/655, 4.5 task/s, elapsed: 144s, ETA:     0s"
     ]
    },
    {
     "name": "stderr",
     "output_type": "stream",
     "text": [
      "2021-05-19 17:50:55,672 - mmdet - INFO - Evaluating bbox...\n"
     ]
    },
    {
     "name": "stdout",
     "output_type": "stream",
     "text": [
      "Loading and preparing results...\n",
      "DONE (t=0.12s)\n",
      "creating index...\n",
      "index created!\n",
      "Running per image evaluation...\n",
      "Evaluate annotation type *bbox*\n",
      "DONE (t=6.68s).\n",
      "Accumulating evaluation results...\n"
     ]
    },
    {
     "name": "stderr",
     "output_type": "stream",
     "text": [
      "2021-05-19 17:51:03,463 - mmdet - INFO - Epoch(val) [13][818]\tbbox_mAP: 0.5280, bbox_mAP_50: 0.6520, bbox_mAP_75: 0.5660, bbox_mAP_s: 0.2270, bbox_mAP_m: 0.5320, bbox_mAP_l: 0.7170, bbox_mAP_copypaste: 0.528 0.652 0.566 0.227 0.532 0.717\n"
     ]
    },
    {
     "name": "stdout",
     "output_type": "stream",
     "text": [
      "DONE (t=0.89s).\n",
      "Average Precision  (AP) @[ IoU=0.50:0.95 | area=   all | maxDets=100 ] = 0.528\n",
      "Average Precision  (AP) @[ IoU=0.50      | area=   all | maxDets=1000 ] = 0.652\n",
      "Average Precision  (AP) @[ IoU=0.75      | area=   all | maxDets=1000 ] = 0.566\n",
      "Average Precision  (AP) @[ IoU=0.50:0.95 | area= small | maxDets=1000 ] = 0.227\n",
      "Average Precision  (AP) @[ IoU=0.50:0.95 | area=medium | maxDets=1000 ] = 0.532\n",
      "Average Precision  (AP) @[ IoU=0.50:0.95 | area= large | maxDets=1000 ] = 0.717\n",
      "Average Recall     (AR) @[ IoU=0.50:0.95 | area=   all | maxDets=100 ] = 0.629\n",
      "Average Recall     (AR) @[ IoU=0.50:0.95 | area=   all | maxDets=300 ] = 0.629\n",
      "Average Recall     (AR) @[ IoU=0.50:0.95 | area=   all | maxDets=1000 ] = 0.629\n",
      "Average Recall     (AR) @[ IoU=0.50:0.95 | area= small | maxDets=1000 ] = 0.348\n",
      "Average Recall     (AR) @[ IoU=0.50:0.95 | area=medium | maxDets=1000 ] = 0.652\n",
      "Average Recall     (AR) @[ IoU=0.50:0.95 | area= large | maxDets=1000 ] = 0.766\n"
     ]
    },
    {
     "name": "stderr",
     "output_type": "stream",
     "text": [
      "2021-05-19 17:52:52,883 - mmdet - INFO - Epoch [14][50/818]\tlr: 5.000e-07, eta: 3:13:55, time: 2.188, data_time: 0.081, memory: 18702, loss_rpn_cls: 0.0228, loss_rpn_bbox: 0.0265, s0.loss_cls: 0.1594, s0.acc: 94.7422, s0.loss_bbox: 0.2032, s0.loss_mask: 0.1810, s1.loss_cls: 0.0727, s1.acc: 95.2122, s1.loss_bbox: 0.0837, s1.loss_mask: 0.0816, s2.loss_cls: 0.0351, s2.acc: 95.3839, s2.loss_bbox: 0.0328, s2.loss_mask: 0.0375, loss: 0.9361, grad_norm: 6.5546\n",
      "2021-05-19 17:54:37,993 - mmdet - INFO - Epoch [14][100/818]\tlr: 5.000e-07, eta: 3:12:13, time: 2.102, data_time: 0.030, memory: 18702, loss_rpn_cls: 0.0241, loss_rpn_bbox: 0.0192, s0.loss_cls: 0.1487, s0.acc: 95.2461, s0.loss_bbox: 0.1945, s0.loss_mask: 0.1780, s1.loss_cls: 0.0678, s1.acc: 95.7576, s1.loss_bbox: 0.0822, s1.loss_mask: 0.0791, s2.loss_cls: 0.0331, s2.acc: 95.6300, s2.loss_bbox: 0.0331, s2.loss_mask: 0.0359, loss: 0.8956, grad_norm: 6.8935\n",
      "2021-05-19 17:56:20,708 - mmdet - INFO - Epoch [14][150/818]\tlr: 5.000e-07, eta: 3:10:31, time: 2.054, data_time: 0.033, memory: 18702, loss_rpn_cls: 0.0244, loss_rpn_bbox: 0.0216, s0.loss_cls: 0.1562, s0.acc: 94.9180, s0.loss_bbox: 0.1941, s0.loss_mask: 0.1880, s1.loss_cls: 0.0718, s1.acc: 95.4385, s1.loss_bbox: 0.0805, s1.loss_mask: 0.0829, s2.loss_cls: 0.0353, s2.acc: 95.3999, s2.loss_bbox: 0.0313, s2.loss_mask: 0.0377, loss: 0.9238, grad_norm: 6.7170\n",
      "2021-05-19 17:58:06,179 - mmdet - INFO - Epoch [14][200/818]\tlr: 5.000e-07, eta: 3:08:50, time: 2.109, data_time: 0.031, memory: 18702, loss_rpn_cls: 0.0247, loss_rpn_bbox: 0.0238, s0.loss_cls: 0.1704, s0.acc: 94.4189, s0.loss_bbox: 0.2099, s0.loss_mask: 0.1838, s1.loss_cls: 0.0784, s1.acc: 94.9737, s1.loss_bbox: 0.0870, s1.loss_mask: 0.0799, s2.loss_cls: 0.0394, s2.acc: 94.8086, s2.loss_bbox: 0.0345, s2.loss_mask: 0.0370, loss: 0.9689, grad_norm: 6.8382\n",
      "2021-05-19 17:59:49,385 - mmdet - INFO - Epoch [14][250/818]\tlr: 5.000e-07, eta: 3:07:08, time: 2.064, data_time: 0.029, memory: 18702, loss_rpn_cls: 0.0254, loss_rpn_bbox: 0.0206, s0.loss_cls: 0.1480, s0.acc: 94.9961, s0.loss_bbox: 0.1858, s0.loss_mask: 0.1774, s1.loss_cls: 0.0671, s1.acc: 95.5671, s1.loss_bbox: 0.0774, s1.loss_mask: 0.0778, s2.loss_cls: 0.0336, s2.acc: 95.5825, s2.loss_bbox: 0.0304, s2.loss_mask: 0.0353, loss: 0.8789, grad_norm: 6.6203\n",
      "2021-05-19 18:01:35,728 - mmdet - INFO - Epoch [14][300/818]\tlr: 5.000e-07, eta: 3:05:27, time: 2.127, data_time: 0.035, memory: 18702, loss_rpn_cls: 0.0290, loss_rpn_bbox: 0.0256, s0.loss_cls: 0.1644, s0.acc: 94.6338, s0.loss_bbox: 0.2140, s0.loss_mask: 0.1877, s1.loss_cls: 0.0740, s1.acc: 95.0683, s1.loss_bbox: 0.0872, s1.loss_mask: 0.0821, s2.loss_cls: 0.0367, s2.acc: 95.0711, s2.loss_bbox: 0.0344, s2.loss_mask: 0.0381, loss: 0.9732, grad_norm: 7.1050\n",
      "2021-05-19 18:03:20,170 - mmdet - INFO - Epoch [14][350/818]\tlr: 5.000e-07, eta: 3:03:46, time: 2.089, data_time: 0.031, memory: 18702, loss_rpn_cls: 0.0316, loss_rpn_bbox: 0.0261, s0.loss_cls: 0.1824, s0.acc: 94.1729, s0.loss_bbox: 0.2209, s0.loss_mask: 0.1972, s1.loss_cls: 0.0848, s1.acc: 94.5800, s1.loss_bbox: 0.0906, s1.loss_mask: 0.0895, s2.loss_cls: 0.0414, s2.acc: 94.7031, s2.loss_bbox: 0.0354, s2.loss_mask: 0.0412, loss: 1.0412, grad_norm: 7.2181\n",
      "2021-05-19 18:05:02,406 - mmdet - INFO - Epoch [14][400/818]\tlr: 5.000e-07, eta: 3:02:03, time: 2.045, data_time: 0.030, memory: 18702, loss_rpn_cls: 0.0277, loss_rpn_bbox: 0.0214, s0.loss_cls: 0.1636, s0.acc: 94.6504, s0.loss_bbox: 0.1938, s0.loss_mask: 0.1862, s1.loss_cls: 0.0753, s1.acc: 95.1561, s1.loss_bbox: 0.0793, s1.loss_mask: 0.0815, s2.loss_cls: 0.0366, s2.acc: 95.3491, s2.loss_bbox: 0.0317, s2.loss_mask: 0.0367, loss: 0.9339, grad_norm: 6.6137\n",
      "2021-05-19 18:06:48,750 - mmdet - INFO - Epoch [14][450/818]\tlr: 5.000e-07, eta: 3:00:22, time: 2.127, data_time: 0.031, memory: 18702, loss_rpn_cls: 0.0244, loss_rpn_bbox: 0.0204, s0.loss_cls: 0.1550, s0.acc: 94.8955, s0.loss_bbox: 0.2076, s0.loss_mask: 0.1854, s1.loss_cls: 0.0704, s1.acc: 95.4154, s1.loss_bbox: 0.0857, s1.loss_mask: 0.0819, s2.loss_cls: 0.0353, s2.acc: 95.3634, s2.loss_bbox: 0.0332, s2.loss_mask: 0.0369, loss: 0.9363, grad_norm: 6.5849\n",
      "2021-05-19 18:08:32,220 - mmdet - INFO - Epoch [14][500/818]\tlr: 5.000e-07, eta: 2:58:40, time: 2.069, data_time: 0.027, memory: 18702, loss_rpn_cls: 0.0220, loss_rpn_bbox: 0.0209, s0.loss_cls: 0.1551, s0.acc: 94.8672, s0.loss_bbox: 0.1923, s0.loss_mask: 0.1751, s1.loss_cls: 0.0722, s1.acc: 95.2035, s1.loss_bbox: 0.0804, s1.loss_mask: 0.0774, s2.loss_cls: 0.0359, s2.acc: 95.1365, s2.loss_bbox: 0.0313, s2.loss_mask: 0.0353, loss: 0.8980, grad_norm: 7.1636\n",
      "2021-05-19 18:10:17,896 - mmdet - INFO - Epoch [14][550/818]\tlr: 5.000e-07, eta: 2:56:59, time: 2.114, data_time: 0.030, memory: 18702, loss_rpn_cls: 0.0269, loss_rpn_bbox: 0.0247, s0.loss_cls: 0.1770, s0.acc: 94.2764, s0.loss_bbox: 0.2151, s0.loss_mask: 0.1885, s1.loss_cls: 0.0812, s1.acc: 94.7972, s1.loss_bbox: 0.0875, s1.loss_mask: 0.0837, s2.loss_cls: 0.0395, s2.acc: 94.9456, s2.loss_bbox: 0.0350, s2.loss_mask: 0.0388, loss: 0.9979, grad_norm: 6.8787\n",
      "2021-05-19 18:12:02,930 - mmdet - INFO - Epoch [14][600/818]\tlr: 5.000e-07, eta: 2:55:17, time: 2.101, data_time: 0.033, memory: 18702, loss_rpn_cls: 0.0306, loss_rpn_bbox: 0.0258, s0.loss_cls: 0.1550, s0.acc: 94.9180, s0.loss_bbox: 0.2067, s0.loss_mask: 0.1856, s1.loss_cls: 0.0726, s1.acc: 95.3156, s1.loss_bbox: 0.0873, s1.loss_mask: 0.0814, s2.loss_cls: 0.0361, s2.acc: 95.2667, s2.loss_bbox: 0.0348, s2.loss_mask: 0.0378, loss: 0.9536, grad_norm: 6.8815\n",
      "2021-05-19 18:13:48,369 - mmdet - INFO - Epoch [14][650/818]\tlr: 5.000e-07, eta: 2:53:36, time: 2.109, data_time: 0.029, memory: 18702, loss_rpn_cls: 0.0244, loss_rpn_bbox: 0.0208, s0.loss_cls: 0.1558, s0.acc: 94.8662, s0.loss_bbox: 0.2035, s0.loss_mask: 0.1871, s1.loss_cls: 0.0696, s1.acc: 95.3146, s1.loss_bbox: 0.0808, s1.loss_mask: 0.0820, s2.loss_cls: 0.0339, s2.acc: 95.4221, s2.loss_bbox: 0.0312, s2.loss_mask: 0.0370, loss: 0.9261, grad_norm: 6.2729\n",
      "2021-05-19 18:15:33,118 - mmdet - INFO - Epoch [14][700/818]\tlr: 5.000e-07, eta: 2:51:54, time: 2.095, data_time: 0.033, memory: 18702, loss_rpn_cls: 0.0266, loss_rpn_bbox: 0.0248, s0.loss_cls: 0.1835, s0.acc: 94.1494, s0.loss_bbox: 0.2276, s0.loss_mask: 0.1993, s1.loss_cls: 0.0849, s1.acc: 94.6346, s1.loss_bbox: 0.0919, s1.loss_mask: 0.0886, s2.loss_cls: 0.0412, s2.acc: 94.5383, s2.loss_bbox: 0.0353, s2.loss_mask: 0.0403, loss: 1.0440, grad_norm: 7.2950\n",
      "2021-05-19 18:17:16,982 - mmdet - INFO - Epoch [14][750/818]\tlr: 5.000e-07, eta: 2:50:12, time: 2.077, data_time: 0.030, memory: 18702, loss_rpn_cls: 0.0290, loss_rpn_bbox: 0.0228, s0.loss_cls: 0.1684, s0.acc: 94.5322, s0.loss_bbox: 0.2087, s0.loss_mask: 0.1882, s1.loss_cls: 0.0764, s1.acc: 94.9797, s1.loss_bbox: 0.0870, s1.loss_mask: 0.0843, s2.loss_cls: 0.0378, s2.acc: 94.9727, s2.loss_bbox: 0.0352, s2.loss_mask: 0.0386, loss: 0.9764, grad_norm: 7.2833\n",
      "2021-05-19 18:18:58,787 - mmdet - INFO - Epoch [14][800/818]\tlr: 5.000e-07, eta: 2:48:29, time: 2.036, data_time: 0.029, memory: 18704, loss_rpn_cls: 0.0242, loss_rpn_bbox: 0.0222, s0.loss_cls: 0.1514, s0.acc: 94.9697, s0.loss_bbox: 0.1988, s0.loss_mask: 0.1896, s1.loss_cls: 0.0686, s1.acc: 95.3571, s1.loss_bbox: 0.0807, s1.loss_mask: 0.0831, s2.loss_cls: 0.0338, s2.acc: 95.4226, s2.loss_bbox: 0.0320, s2.loss_mask: 0.0379, loss: 0.9221, grad_norm: 6.6956\n",
      "2021-05-19 18:19:36,064 - mmdet - INFO - Saving checkpoint at 14 epochs\n"
     ]
    },
    {
     "name": "stdout",
     "output_type": "stream",
     "text": [
      "[>>>>>>>>>>>>>>>>>>>>>>>>>>>>>] 655/655, 4.6 task/s, elapsed: 143s, ETA:     0s"
     ]
    },
    {
     "name": "stderr",
     "output_type": "stream",
     "text": [
      "2021-05-19 18:22:04,251 - mmdet - INFO - Evaluating bbox...\n"
     ]
    },
    {
     "name": "stdout",
     "output_type": "stream",
     "text": [
      "Loading and preparing results...\n",
      "DONE (t=0.12s)\n",
      "creating index...\n",
      "index created!\n",
      "Running per image evaluation...\n",
      "Evaluate annotation type *bbox*\n",
      "DONE (t=6.68s).\n",
      "Accumulating evaluation results...\n"
     ]
    },
    {
     "name": "stderr",
     "output_type": "stream",
     "text": [
      "2021-05-19 18:22:11,996 - mmdet - INFO - Epoch(val) [14][818]\tbbox_mAP: 0.5290, bbox_mAP_50: 0.6530, bbox_mAP_75: 0.5660, bbox_mAP_s: 0.2320, bbox_mAP_m: 0.5330, bbox_mAP_l: 0.7170, bbox_mAP_copypaste: 0.529 0.653 0.566 0.232 0.533 0.717\n"
     ]
    },
    {
     "name": "stdout",
     "output_type": "stream",
     "text": [
      "DONE (t=0.85s).\n",
      "Average Precision  (AP) @[ IoU=0.50:0.95 | area=   all | maxDets=100 ] = 0.529\n",
      "Average Precision  (AP) @[ IoU=0.50      | area=   all | maxDets=1000 ] = 0.653\n",
      "Average Precision  (AP) @[ IoU=0.75      | area=   all | maxDets=1000 ] = 0.566\n",
      "Average Precision  (AP) @[ IoU=0.50:0.95 | area= small | maxDets=1000 ] = 0.232\n",
      "Average Precision  (AP) @[ IoU=0.50:0.95 | area=medium | maxDets=1000 ] = 0.533\n",
      "Average Precision  (AP) @[ IoU=0.50:0.95 | area= large | maxDets=1000 ] = 0.717\n",
      "Average Recall     (AR) @[ IoU=0.50:0.95 | area=   all | maxDets=100 ] = 0.631\n",
      "Average Recall     (AR) @[ IoU=0.50:0.95 | area=   all | maxDets=300 ] = 0.631\n",
      "Average Recall     (AR) @[ IoU=0.50:0.95 | area=   all | maxDets=1000 ] = 0.631\n",
      "Average Recall     (AR) @[ IoU=0.50:0.95 | area= small | maxDets=1000 ] = 0.349\n",
      "Average Recall     (AR) @[ IoU=0.50:0.95 | area=medium | maxDets=1000 ] = 0.655\n",
      "Average Recall     (AR) @[ IoU=0.50:0.95 | area= large | maxDets=1000 ] = 0.765\n"
     ]
    },
    {
     "name": "stderr",
     "output_type": "stream",
     "text": [
      "2021-05-19 18:24:00,122 - mmdet - INFO - Epoch [15][50/818]\tlr: 5.000e-07, eta: 2:45:57, time: 2.162, data_time: 0.078, memory: 18704, loss_rpn_cls: 0.0221, loss_rpn_bbox: 0.0206, s0.loss_cls: 0.1432, s0.acc: 95.1396, s0.loss_bbox: 0.1948, s0.loss_mask: 0.1866, s1.loss_cls: 0.0650, s1.acc: 95.5128, s1.loss_bbox: 0.0783, s1.loss_mask: 0.0816, s2.loss_cls: 0.0323, s2.acc: 95.5108, s2.loss_bbox: 0.0306, s2.loss_mask: 0.0372, loss: 0.8923, grad_norm: 6.5873\n",
      "2021-05-19 18:25:45,293 - mmdet - INFO - Epoch [15][100/818]\tlr: 5.000e-07, eta: 2:44:15, time: 2.103, data_time: 0.030, memory: 18704, loss_rpn_cls: 0.0316, loss_rpn_bbox: 0.0254, s0.loss_cls: 0.1710, s0.acc: 94.4785, s0.loss_bbox: 0.2168, s0.loss_mask: 0.1942, s1.loss_cls: 0.0755, s1.acc: 95.1557, s1.loss_bbox: 0.0891, s1.loss_mask: 0.0890, s2.loss_cls: 0.0382, s2.acc: 94.8679, s2.loss_bbox: 0.0347, s2.loss_mask: 0.0417, loss: 1.0070, grad_norm: 6.7191\n",
      "2021-05-19 18:27:29,169 - mmdet - INFO - Epoch [15][150/818]\tlr: 5.000e-07, eta: 2:42:33, time: 2.077, data_time: 0.030, memory: 18704, loss_rpn_cls: 0.0301, loss_rpn_bbox: 0.0233, s0.loss_cls: 0.1671, s0.acc: 94.5254, s0.loss_bbox: 0.2089, s0.loss_mask: 0.1893, s1.loss_cls: 0.0767, s1.acc: 95.0090, s1.loss_bbox: 0.0854, s1.loss_mask: 0.0848, s2.loss_cls: 0.0368, s2.acc: 95.0910, s2.loss_bbox: 0.0334, s2.loss_mask: 0.0382, loss: 0.9741, grad_norm: 6.8225\n",
      "2021-05-19 18:29:13,821 - mmdet - INFO - Epoch [15][200/818]\tlr: 5.000e-07, eta: 2:40:52, time: 2.093, data_time: 0.031, memory: 18704, loss_rpn_cls: 0.0261, loss_rpn_bbox: 0.0228, s0.loss_cls: 0.1731, s0.acc: 94.3750, s0.loss_bbox: 0.2113, s0.loss_mask: 0.1945, s1.loss_cls: 0.0801, s1.acc: 94.8556, s1.loss_bbox: 0.0855, s1.loss_mask: 0.0852, s2.loss_cls: 0.0401, s2.acc: 94.9147, s2.loss_bbox: 0.0335, s2.loss_mask: 0.0385, loss: 0.9905, grad_norm: 7.0028\n",
      "2021-05-19 18:30:56,928 - mmdet - INFO - Epoch [15][250/818]\tlr: 5.000e-07, eta: 2:39:09, time: 2.062, data_time: 0.029, memory: 18704, loss_rpn_cls: 0.0242, loss_rpn_bbox: 0.0229, s0.loss_cls: 0.1381, s0.acc: 95.5684, s0.loss_bbox: 0.1878, s0.loss_mask: 0.1761, s1.loss_cls: 0.0622, s1.acc: 96.0122, s1.loss_bbox: 0.0773, s1.loss_mask: 0.0792, s2.loss_cls: 0.0302, s2.acc: 96.0022, s2.loss_bbox: 0.0310, s2.loss_mask: 0.0369, loss: 0.8658, grad_norm: 6.7513\n",
      "2021-05-19 18:32:44,121 - mmdet - INFO - Epoch [15][300/818]\tlr: 5.000e-07, eta: 2:37:29, time: 2.144, data_time: 0.036, memory: 18704, loss_rpn_cls: 0.0297, loss_rpn_bbox: 0.0226, s0.loss_cls: 0.1820, s0.acc: 94.1484, s0.loss_bbox: 0.2090, s0.loss_mask: 0.1772, s1.loss_cls: 0.0832, s1.acc: 94.6522, s1.loss_bbox: 0.0857, s1.loss_mask: 0.0778, s2.loss_cls: 0.0409, s2.acc: 94.5636, s2.loss_bbox: 0.0348, s2.loss_mask: 0.0359, loss: 0.9790, grad_norm: 6.9902\n",
      "2021-05-19 18:34:27,236 - mmdet - INFO - Epoch [15][350/818]\tlr: 5.000e-07, eta: 2:35:46, time: 2.062, data_time: 0.029, memory: 18704, loss_rpn_cls: 0.0245, loss_rpn_bbox: 0.0225, s0.loss_cls: 0.1458, s0.acc: 95.1279, s0.loss_bbox: 0.1911, s0.loss_mask: 0.1731, s1.loss_cls: 0.0684, s1.acc: 95.2964, s1.loss_bbox: 0.0800, s1.loss_mask: 0.0772, s2.loss_cls: 0.0340, s2.acc: 95.4153, s2.loss_bbox: 0.0319, s2.loss_mask: 0.0357, loss: 0.8841, grad_norm: 6.3106\n",
      "2021-05-19 18:36:11,466 - mmdet - INFO - Epoch [15][400/818]\tlr: 5.000e-07, eta: 2:34:04, time: 2.085, data_time: 0.034, memory: 18704, loss_rpn_cls: 0.0270, loss_rpn_bbox: 0.0256, s0.loss_cls: 0.1772, s0.acc: 94.3662, s0.loss_bbox: 0.2172, s0.loss_mask: 0.1884, s1.loss_cls: 0.0820, s1.acc: 94.7958, s1.loss_bbox: 0.0884, s1.loss_mask: 0.0830, s2.loss_cls: 0.0402, s2.acc: 94.8333, s2.loss_bbox: 0.0345, s2.loss_mask: 0.0374, loss: 1.0008, grad_norm: 6.6322\n",
      "2021-05-19 18:37:55,192 - mmdet - INFO - Epoch [15][450/818]\tlr: 5.000e-07, eta: 2:32:22, time: 2.075, data_time: 0.030, memory: 18704, loss_rpn_cls: 0.0238, loss_rpn_bbox: 0.0219, s0.loss_cls: 0.1441, s0.acc: 95.3164, s0.loss_bbox: 0.1764, s0.loss_mask: 0.1771, s1.loss_cls: 0.0661, s1.acc: 95.6493, s1.loss_bbox: 0.0716, s1.loss_mask: 0.0776, s2.loss_cls: 0.0321, s2.acc: 95.7052, s2.loss_bbox: 0.0286, s2.loss_mask: 0.0358, loss: 0.8552, grad_norm: 6.4562\n",
      "2021-05-19 18:39:39,787 - mmdet - INFO - Epoch [15][500/818]\tlr: 5.000e-07, eta: 2:30:41, time: 2.092, data_time: 0.030, memory: 18704, loss_rpn_cls: 0.0272, loss_rpn_bbox: 0.0224, s0.loss_cls: 0.1534, s0.acc: 94.8818, s0.loss_bbox: 0.1957, s0.loss_mask: 0.1833, s1.loss_cls: 0.0718, s1.acc: 95.2793, s1.loss_bbox: 0.0803, s1.loss_mask: 0.0810, s2.loss_cls: 0.0357, s2.acc: 95.1465, s2.loss_bbox: 0.0319, s2.loss_mask: 0.0373, loss: 0.9199, grad_norm: 7.0492\n",
      "2021-05-19 18:41:25,054 - mmdet - INFO - Epoch [15][550/818]\tlr: 5.000e-07, eta: 2:28:59, time: 2.105, data_time: 0.027, memory: 18704, loss_rpn_cls: 0.0220, loss_rpn_bbox: 0.0196, s0.loss_cls: 0.1596, s0.acc: 94.8896, s0.loss_bbox: 0.1996, s0.loss_mask: 0.1806, s1.loss_cls: 0.0729, s1.acc: 95.4001, s1.loss_bbox: 0.0812, s1.loss_mask: 0.0807, s2.loss_cls: 0.0360, s2.acc: 95.4831, s2.loss_bbox: 0.0329, s2.loss_mask: 0.0371, loss: 0.9222, grad_norm: 7.0026\n",
      "2021-05-19 18:43:09,773 - mmdet - INFO - Epoch [15][600/818]\tlr: 5.000e-07, eta: 2:27:17, time: 2.094, data_time: 0.029, memory: 18704, loss_rpn_cls: 0.0227, loss_rpn_bbox: 0.0203, s0.loss_cls: 0.1499, s0.acc: 95.1094, s0.loss_bbox: 0.1950, s0.loss_mask: 0.1677, s1.loss_cls: 0.0659, s1.acc: 95.7855, s1.loss_bbox: 0.0803, s1.loss_mask: 0.0756, s2.loss_cls: 0.0330, s2.acc: 95.6443, s2.loss_bbox: 0.0327, s2.loss_mask: 0.0354, loss: 0.8785, grad_norm: 6.5742\n",
      "2021-05-19 18:44:56,139 - mmdet - INFO - Epoch [15][650/818]\tlr: 5.000e-07, eta: 2:25:36, time: 2.127, data_time: 0.030, memory: 18704, loss_rpn_cls: 0.0287, loss_rpn_bbox: 0.0267, s0.loss_cls: 0.1636, s0.acc: 94.5771, s0.loss_bbox: 0.2130, s0.loss_mask: 0.1984, s1.loss_cls: 0.0758, s1.acc: 94.9448, s1.loss_bbox: 0.0849, s1.loss_mask: 0.0871, s2.loss_cls: 0.0371, s2.acc: 95.0629, s2.loss_bbox: 0.0329, s2.loss_mask: 0.0389, loss: 0.9871, grad_norm: 7.0151\n",
      "2021-05-19 18:46:40,959 - mmdet - INFO - Epoch [15][700/818]\tlr: 5.000e-07, eta: 2:23:54, time: 2.096, data_time: 0.028, memory: 18704, loss_rpn_cls: 0.0261, loss_rpn_bbox: 0.0217, s0.loss_cls: 0.1624, s0.acc: 94.5381, s0.loss_bbox: 0.2065, s0.loss_mask: 0.1870, s1.loss_cls: 0.0760, s1.acc: 94.9756, s1.loss_bbox: 0.0866, s1.loss_mask: 0.0820, s2.loss_cls: 0.0378, s2.acc: 94.9811, s2.loss_bbox: 0.0347, s2.loss_mask: 0.0383, loss: 0.9590, grad_norm: 6.6979\n",
      "2021-05-19 18:48:25,585 - mmdet - INFO - Epoch [15][750/818]\tlr: 5.000e-07, eta: 2:22:12, time: 2.093, data_time: 0.027, memory: 18704, loss_rpn_cls: 0.0277, loss_rpn_bbox: 0.0231, s0.loss_cls: 0.1710, s0.acc: 94.2568, s0.loss_bbox: 0.2309, s0.loss_mask: 0.2059, s1.loss_cls: 0.0780, s1.acc: 94.6223, s1.loss_bbox: 0.0925, s1.loss_mask: 0.0898, s2.loss_cls: 0.0382, s2.acc: 94.7972, s2.loss_bbox: 0.0366, s2.loss_mask: 0.0409, loss: 1.0345, grad_norm: 6.8409\n",
      "2021-05-19 18:50:07,706 - mmdet - INFO - Epoch [15][800/818]\tlr: 5.000e-07, eta: 2:20:30, time: 2.042, data_time: 0.023, memory: 18704, loss_rpn_cls: 0.0237, loss_rpn_bbox: 0.0175, s0.loss_cls: 0.1492, s0.acc: 95.2812, s0.loss_bbox: 0.1891, s0.loss_mask: 0.1842, s1.loss_cls: 0.0689, s1.acc: 95.7389, s1.loss_bbox: 0.0793, s1.loss_mask: 0.0814, s2.loss_cls: 0.0339, s2.acc: 95.7880, s2.loss_bbox: 0.0318, s2.loss_mask: 0.0376, loss: 0.8967, grad_norm: 7.0415\n",
      "2021-05-19 18:50:45,128 - mmdet - INFO - Saving checkpoint at 15 epochs\n"
     ]
    },
    {
     "name": "stdout",
     "output_type": "stream",
     "text": [
      "[>>>>>>>>>>>>>>>>>>>>>>>>>>>>>] 655/655, 4.5 task/s, elapsed: 145s, ETA:     0s"
     ]
    },
    {
     "name": "stderr",
     "output_type": "stream",
     "text": [
      "2021-05-19 18:53:14,627 - mmdet - INFO - Evaluating bbox...\n"
     ]
    },
    {
     "name": "stdout",
     "output_type": "stream",
     "text": [
      "Loading and preparing results...\n",
      "DONE (t=0.12s)\n",
      "creating index...\n",
      "index created!\n",
      "Running per image evaluation...\n",
      "Evaluate annotation type *bbox*\n",
      "DONE (t=6.12s).\n",
      "Accumulating evaluation results...\n"
     ]
    },
    {
     "name": "stderr",
     "output_type": "stream",
     "text": [
      "2021-05-19 18:53:21,765 - mmdet - INFO - Epoch(val) [15][818]\tbbox_mAP: 0.5280, bbox_mAP_50: 0.6530, bbox_mAP_75: 0.5670, bbox_mAP_s: 0.2320, bbox_mAP_m: 0.5300, bbox_mAP_l: 0.7170, bbox_mAP_copypaste: 0.528 0.653 0.567 0.232 0.530 0.717\n"
     ]
    },
    {
     "name": "stdout",
     "output_type": "stream",
     "text": [
      "DONE (t=0.81s).\n",
      "Average Precision  (AP) @[ IoU=0.50:0.95 | area=   all | maxDets=100 ] = 0.528\n",
      "Average Precision  (AP) @[ IoU=0.50      | area=   all | maxDets=1000 ] = 0.653\n",
      "Average Precision  (AP) @[ IoU=0.75      | area=   all | maxDets=1000 ] = 0.567\n",
      "Average Precision  (AP) @[ IoU=0.50:0.95 | area= small | maxDets=1000 ] = 0.232\n",
      "Average Precision  (AP) @[ IoU=0.50:0.95 | area=medium | maxDets=1000 ] = 0.530\n",
      "Average Precision  (AP) @[ IoU=0.50:0.95 | area= large | maxDets=1000 ] = 0.717\n",
      "Average Recall     (AR) @[ IoU=0.50:0.95 | area=   all | maxDets=100 ] = 0.628\n",
      "Average Recall     (AR) @[ IoU=0.50:0.95 | area=   all | maxDets=300 ] = 0.628\n",
      "Average Recall     (AR) @[ IoU=0.50:0.95 | area=   all | maxDets=1000 ] = 0.628\n",
      "Average Recall     (AR) @[ IoU=0.50:0.95 | area= small | maxDets=1000 ] = 0.351\n",
      "Average Recall     (AR) @[ IoU=0.50:0.95 | area=medium | maxDets=1000 ] = 0.650\n",
      "Average Recall     (AR) @[ IoU=0.50:0.95 | area= large | maxDets=1000 ] = 0.766\n"
     ]
    },
    {
     "name": "stderr",
     "output_type": "stream",
     "text": [
      "2021-05-19 18:55:12,252 - mmdet - INFO - Epoch [16][50/818]\tlr: 5.000e-07, eta: 2:18:00, time: 2.209, data_time: 0.079, memory: 18704, loss_rpn_cls: 0.0295, loss_rpn_bbox: 0.0231, s0.loss_cls: 0.1795, s0.acc: 94.2188, s0.loss_bbox: 0.2197, s0.loss_mask: 0.1919, s1.loss_cls: 0.0832, s1.acc: 94.6887, s1.loss_bbox: 0.0912, s1.loss_mask: 0.0852, s2.loss_cls: 0.0411, s2.acc: 94.5676, s2.loss_bbox: 0.0368, s2.loss_mask: 0.0395, loss: 1.0206, grad_norm: 7.3983\n",
      "2021-05-19 18:56:58,207 - mmdet - INFO - Epoch [16][100/818]\tlr: 5.000e-07, eta: 2:16:19, time: 2.119, data_time: 0.029, memory: 18704, loss_rpn_cls: 0.0261, loss_rpn_bbox: 0.0222, s0.loss_cls: 0.1654, s0.acc: 94.5898, s0.loss_bbox: 0.2084, s0.loss_mask: 0.1784, s1.loss_cls: 0.0746, s1.acc: 95.1121, s1.loss_bbox: 0.0865, s1.loss_mask: 0.0793, s2.loss_cls: 0.0360, s2.acc: 95.2424, s2.loss_bbox: 0.0351, s2.loss_mask: 0.0371, loss: 0.9492, grad_norm: 6.7311\n",
      "2021-05-19 18:58:43,370 - mmdet - INFO - Epoch [16][150/818]\tlr: 5.000e-07, eta: 2:14:37, time: 2.103, data_time: 0.034, memory: 18704, loss_rpn_cls: 0.0296, loss_rpn_bbox: 0.0261, s0.loss_cls: 0.1645, s0.acc: 94.5684, s0.loss_bbox: 0.2025, s0.loss_mask: 0.1746, s1.loss_cls: 0.0745, s1.acc: 95.1457, s1.loss_bbox: 0.0831, s1.loss_mask: 0.0780, s2.loss_cls: 0.0372, s2.acc: 95.1621, s2.loss_bbox: 0.0330, s2.loss_mask: 0.0364, loss: 0.9395, grad_norm: 6.4672\n",
      "2021-05-19 19:00:26,452 - mmdet - INFO - Epoch [16][200/818]\tlr: 5.000e-07, eta: 2:12:55, time: 2.062, data_time: 0.028, memory: 18704, loss_rpn_cls: 0.0260, loss_rpn_bbox: 0.0216, s0.loss_cls: 0.1448, s0.acc: 95.0127, s0.loss_bbox: 0.1883, s0.loss_mask: 0.1747, s1.loss_cls: 0.0664, s1.acc: 95.4484, s1.loss_bbox: 0.0781, s1.loss_mask: 0.0792, s2.loss_cls: 0.0328, s2.acc: 95.4529, s2.loss_bbox: 0.0299, s2.loss_mask: 0.0363, loss: 0.8780, grad_norm: 6.5687\n",
      "2021-05-19 19:02:12,328 - mmdet - INFO - Epoch [16][250/818]\tlr: 5.000e-07, eta: 2:11:14, time: 2.118, data_time: 0.031, memory: 18704, loss_rpn_cls: 0.0287, loss_rpn_bbox: 0.0251, s0.loss_cls: 0.1654, s0.acc: 94.5693, s0.loss_bbox: 0.2157, s0.loss_mask: 0.1909, s1.loss_cls: 0.0760, s1.acc: 95.0364, s1.loss_bbox: 0.0900, s1.loss_mask: 0.0863, s2.loss_cls: 0.0370, s2.acc: 94.9740, s2.loss_bbox: 0.0345, s2.loss_mask: 0.0393, loss: 0.9890, grad_norm: 6.8648\n",
      "2021-05-19 19:03:58,476 - mmdet - INFO - Epoch [16][300/818]\tlr: 5.000e-07, eta: 2:09:32, time: 2.123, data_time: 0.030, memory: 18704, loss_rpn_cls: 0.0238, loss_rpn_bbox: 0.0242, s0.loss_cls: 0.1660, s0.acc: 94.7031, s0.loss_bbox: 0.2092, s0.loss_mask: 0.1837, s1.loss_cls: 0.0766, s1.acc: 95.1588, s1.loss_bbox: 0.0852, s1.loss_mask: 0.0833, s2.loss_cls: 0.0370, s2.acc: 95.0897, s2.loss_bbox: 0.0342, s2.loss_mask: 0.0383, loss: 0.9614, grad_norm: 6.8627\n",
      "2021-05-19 19:05:41,814 - mmdet - INFO - Epoch [16][350/818]\tlr: 5.000e-07, eta: 2:07:50, time: 2.067, data_time: 0.028, memory: 18704, loss_rpn_cls: 0.0249, loss_rpn_bbox: 0.0207, s0.loss_cls: 0.1431, s0.acc: 95.2324, s0.loss_bbox: 0.1907, s0.loss_mask: 0.1812, s1.loss_cls: 0.0652, s1.acc: 95.6672, s1.loss_bbox: 0.0787, s1.loss_mask: 0.0790, s2.loss_cls: 0.0337, s2.acc: 95.4127, s2.loss_bbox: 0.0315, s2.loss_mask: 0.0357, loss: 0.8845, grad_norm: 7.1532\n",
      "2021-05-19 19:07:25,402 - mmdet - INFO - Epoch [16][400/818]\tlr: 5.000e-07, eta: 2:06:08, time: 2.072, data_time: 0.028, memory: 18704, loss_rpn_cls: 0.0237, loss_rpn_bbox: 0.0221, s0.loss_cls: 0.1592, s0.acc: 94.9707, s0.loss_bbox: 0.2015, s0.loss_mask: 0.1827, s1.loss_cls: 0.0705, s1.acc: 95.5841, s1.loss_bbox: 0.0801, s1.loss_mask: 0.0764, s2.loss_cls: 0.0349, s2.acc: 95.6127, s2.loss_bbox: 0.0323, s2.loss_mask: 0.0351, loss: 0.9184, grad_norm: 6.7708\n",
      "2021-05-19 19:09:11,703 - mmdet - INFO - Epoch [16][450/818]\tlr: 5.000e-07, eta: 2:04:26, time: 2.126, data_time: 0.031, memory: 18704, loss_rpn_cls: 0.0281, loss_rpn_bbox: 0.0237, s0.loss_cls: 0.1643, s0.acc: 94.5674, s0.loss_bbox: 0.2094, s0.loss_mask: 0.1949, s1.loss_cls: 0.0757, s1.acc: 95.0688, s1.loss_bbox: 0.0865, s1.loss_mask: 0.0857, s2.loss_cls: 0.0367, s2.acc: 95.0939, s2.loss_bbox: 0.0338, s2.loss_mask: 0.0383, loss: 0.9772, grad_norm: 6.7752\n",
      "2021-05-19 19:10:56,008 - mmdet - INFO - Epoch [16][500/818]\tlr: 5.000e-07, eta: 2:02:44, time: 2.086, data_time: 0.027, memory: 18704, loss_rpn_cls: 0.0283, loss_rpn_bbox: 0.0218, s0.loss_cls: 0.1665, s0.acc: 94.8037, s0.loss_bbox: 0.1959, s0.loss_mask: 0.1877, s1.loss_cls: 0.0756, s1.acc: 95.1957, s1.loss_bbox: 0.0803, s1.loss_mask: 0.0822, s2.loss_cls: 0.0371, s2.acc: 95.3412, s2.loss_bbox: 0.0324, s2.loss_mask: 0.0376, loss: 0.9452, grad_norm: 6.7914\n",
      "2021-05-19 19:12:41,582 - mmdet - INFO - Epoch [16][550/818]\tlr: 5.000e-07, eta: 2:01:02, time: 2.111, data_time: 0.031, memory: 18704, loss_rpn_cls: 0.0251, loss_rpn_bbox: 0.0243, s0.loss_cls: 0.1610, s0.acc: 94.7061, s0.loss_bbox: 0.2142, s0.loss_mask: 0.1961, s1.loss_cls: 0.0723, s1.acc: 95.1909, s1.loss_bbox: 0.0882, s1.loss_mask: 0.0858, s2.loss_cls: 0.0353, s2.acc: 95.3552, s2.loss_bbox: 0.0348, s2.loss_mask: 0.0389, loss: 0.9759, grad_norm: 6.7604\n",
      "2021-05-19 19:14:26,044 - mmdet - INFO - Epoch [16][600/818]\tlr: 5.000e-07, eta: 1:59:20, time: 2.089, data_time: 0.031, memory: 18704, loss_rpn_cls: 0.0257, loss_rpn_bbox: 0.0237, s0.loss_cls: 0.1640, s0.acc: 94.5889, s0.loss_bbox: 0.2011, s0.loss_mask: 0.1849, s1.loss_cls: 0.0751, s1.acc: 95.0831, s1.loss_bbox: 0.0832, s1.loss_mask: 0.0826, s2.loss_cls: 0.0362, s2.acc: 95.2369, s2.loss_bbox: 0.0333, s2.loss_mask: 0.0375, loss: 0.9472, grad_norm: 6.6347\n",
      "2021-05-19 19:16:11,251 - mmdet - INFO - Epoch [16][650/818]\tlr: 5.000e-07, eta: 1:57:38, time: 2.104, data_time: 0.027, memory: 18704, loss_rpn_cls: 0.0234, loss_rpn_bbox: 0.0220, s0.loss_cls: 0.1498, s0.acc: 95.0879, s0.loss_bbox: 0.1958, s0.loss_mask: 0.1782, s1.loss_cls: 0.0689, s1.acc: 95.4999, s1.loss_bbox: 0.0803, s1.loss_mask: 0.0782, s2.loss_cls: 0.0332, s2.acc: 95.6078, s2.loss_bbox: 0.0312, s2.loss_mask: 0.0361, loss: 0.8971, grad_norm: 6.7079\n",
      "2021-05-19 19:17:54,796 - mmdet - INFO - Epoch [16][700/818]\tlr: 5.000e-07, eta: 1:55:56, time: 2.071, data_time: 0.030, memory: 18704, loss_rpn_cls: 0.0245, loss_rpn_bbox: 0.0212, s0.loss_cls: 0.1608, s0.acc: 94.7725, s0.loss_bbox: 0.1968, s0.loss_mask: 0.1875, s1.loss_cls: 0.0733, s1.acc: 95.1798, s1.loss_bbox: 0.0800, s1.loss_mask: 0.0813, s2.loss_cls: 0.0362, s2.acc: 95.1226, s2.loss_bbox: 0.0321, s2.loss_mask: 0.0375, loss: 0.9312, grad_norm: 7.6420\n",
      "2021-05-19 19:19:38,660 - mmdet - INFO - Epoch [16][750/818]\tlr: 5.000e-07, eta: 1:54:14, time: 2.077, data_time: 0.029, memory: 18704, loss_rpn_cls: 0.0224, loss_rpn_bbox: 0.0222, s0.loss_cls: 0.1521, s0.acc: 94.8740, s0.loss_bbox: 0.2031, s0.loss_mask: 0.1810, s1.loss_cls: 0.0698, s1.acc: 95.2811, s1.loss_bbox: 0.0811, s1.loss_mask: 0.0773, s2.loss_cls: 0.0340, s2.acc: 95.2772, s2.loss_bbox: 0.0325, s2.loss_mask: 0.0357, loss: 0.9112, grad_norm: 6.5638\n",
      "2021-05-19 19:21:22,444 - mmdet - INFO - Epoch [16][800/818]\tlr: 5.000e-07, eta: 1:52:31, time: 2.076, data_time: 0.028, memory: 18704, loss_rpn_cls: 0.0233, loss_rpn_bbox: 0.0229, s0.loss_cls: 0.1541, s0.acc: 94.8857, s0.loss_bbox: 0.2074, s0.loss_mask: 0.1843, s1.loss_cls: 0.0711, s1.acc: 95.3027, s1.loss_bbox: 0.0854, s1.loss_mask: 0.0824, s2.loss_cls: 0.0355, s2.acc: 95.2880, s2.loss_bbox: 0.0336, s2.loss_mask: 0.0378, loss: 0.9379, grad_norm: 6.6516\n",
      "2021-05-19 19:21:59,993 - mmdet - INFO - Saving checkpoint at 16 epochs\n"
     ]
    },
    {
     "name": "stdout",
     "output_type": "stream",
     "text": [
      "[>>>>>>>>>>>>>>>>>>>>>>>>>>>>>] 655/655, 4.5 task/s, elapsed: 144s, ETA:     0s"
     ]
    },
    {
     "name": "stderr",
     "output_type": "stream",
     "text": [
      "2021-05-19 19:24:29,223 - mmdet - INFO - Evaluating bbox...\n"
     ]
    },
    {
     "name": "stdout",
     "output_type": "stream",
     "text": [
      "Loading and preparing results...\n",
      "DONE (t=0.13s)\n",
      "creating index...\n",
      "index created!\n",
      "Running per image evaluation...\n",
      "Evaluate annotation type *bbox*\n",
      "DONE (t=6.81s).\n",
      "Accumulating evaluation results...\n"
     ]
    },
    {
     "name": "stderr",
     "output_type": "stream",
     "text": [
      "2021-05-19 19:24:37,074 - mmdet - INFO - Epoch(val) [16][818]\tbbox_mAP: 0.5290, bbox_mAP_50: 0.6540, bbox_mAP_75: 0.5660, bbox_mAP_s: 0.2350, bbox_mAP_m: 0.5320, bbox_mAP_l: 0.7190, bbox_mAP_copypaste: 0.529 0.654 0.566 0.235 0.532 0.719\n"
     ]
    },
    {
     "name": "stdout",
     "output_type": "stream",
     "text": [
      "DONE (t=0.82s).\n",
      "Average Precision  (AP) @[ IoU=0.50:0.95 | area=   all | maxDets=100 ] = 0.529\n",
      "Average Precision  (AP) @[ IoU=0.50      | area=   all | maxDets=1000 ] = 0.654\n",
      "Average Precision  (AP) @[ IoU=0.75      | area=   all | maxDets=1000 ] = 0.566\n",
      "Average Precision  (AP) @[ IoU=0.50:0.95 | area= small | maxDets=1000 ] = 0.235\n",
      "Average Precision  (AP) @[ IoU=0.50:0.95 | area=medium | maxDets=1000 ] = 0.532\n",
      "Average Precision  (AP) @[ IoU=0.50:0.95 | area= large | maxDets=1000 ] = 0.719\n",
      "Average Recall     (AR) @[ IoU=0.50:0.95 | area=   all | maxDets=100 ] = 0.631\n",
      "Average Recall     (AR) @[ IoU=0.50:0.95 | area=   all | maxDets=300 ] = 0.631\n",
      "Average Recall     (AR) @[ IoU=0.50:0.95 | area=   all | maxDets=1000 ] = 0.631\n",
      "Average Recall     (AR) @[ IoU=0.50:0.95 | area= small | maxDets=1000 ] = 0.351\n",
      "Average Recall     (AR) @[ IoU=0.50:0.95 | area=medium | maxDets=1000 ] = 0.655\n",
      "Average Recall     (AR) @[ IoU=0.50:0.95 | area= large | maxDets=1000 ] = 0.767\n"
     ]
    },
    {
     "name": "stderr",
     "output_type": "stream",
     "text": [
      "2021-05-19 19:26:25,713 - mmdet - INFO - Epoch [17][50/818]\tlr: 5.000e-08, eta: 1:50:04, time: 2.172, data_time: 0.078, memory: 18704, loss_rpn_cls: 0.0240, loss_rpn_bbox: 0.0203, s0.loss_cls: 0.1599, s0.acc: 94.8584, s0.loss_bbox: 0.1974, s0.loss_mask: 0.1825, s1.loss_cls: 0.0728, s1.acc: 95.3790, s1.loss_bbox: 0.0803, s1.loss_mask: 0.0807, s2.loss_cls: 0.0363, s2.acc: 95.2662, s2.loss_bbox: 0.0316, s2.loss_mask: 0.0369, loss: 0.9228, grad_norm: 6.7781\n",
      "2021-05-19 19:28:10,553 - mmdet - INFO - Epoch [17][100/818]\tlr: 5.000e-08, eta: 1:48:22, time: 2.097, data_time: 0.028, memory: 18704, loss_rpn_cls: 0.0242, loss_rpn_bbox: 0.0223, s0.loss_cls: 0.1566, s0.acc: 94.8311, s0.loss_bbox: 0.2017, s0.loss_mask: 0.1748, s1.loss_cls: 0.0715, s1.acc: 95.2539, s1.loss_bbox: 0.0827, s1.loss_mask: 0.0782, s2.loss_cls: 0.0348, s2.acc: 95.2676, s2.loss_bbox: 0.0326, s2.loss_mask: 0.0360, loss: 0.9153, grad_norm: 6.6985\n",
      "2021-05-19 19:29:53,657 - mmdet - INFO - Epoch [17][150/818]\tlr: 5.000e-08, eta: 1:46:40, time: 2.062, data_time: 0.030, memory: 18704, loss_rpn_cls: 0.0252, loss_rpn_bbox: 0.0209, s0.loss_cls: 0.1412, s0.acc: 95.2607, s0.loss_bbox: 0.1858, s0.loss_mask: 0.1728, s1.loss_cls: 0.0646, s1.acc: 95.6952, s1.loss_bbox: 0.0775, s1.loss_mask: 0.0755, s2.loss_cls: 0.0326, s2.acc: 95.5460, s2.loss_bbox: 0.0315, s2.loss_mask: 0.0351, loss: 0.8628, grad_norm: 6.4413\n",
      "2021-05-19 19:31:39,054 - mmdet - INFO - Epoch [17][200/818]\tlr: 5.000e-08, eta: 1:44:58, time: 2.108, data_time: 0.037, memory: 18704, loss_rpn_cls: 0.0272, loss_rpn_bbox: 0.0234, s0.loss_cls: 0.1770, s0.acc: 94.1855, s0.loss_bbox: 0.2105, s0.loss_mask: 0.1843, s1.loss_cls: 0.0804, s1.acc: 94.7978, s1.loss_bbox: 0.0879, s1.loss_mask: 0.0829, s2.loss_cls: 0.0400, s2.acc: 94.8437, s2.loss_bbox: 0.0349, s2.loss_mask: 0.0385, loss: 0.9870, grad_norm: 6.8009\n",
      "2021-05-19 19:33:25,064 - mmdet - INFO - Epoch [17][250/818]\tlr: 5.000e-08, eta: 1:43:16, time: 2.120, data_time: 0.031, memory: 18704, loss_rpn_cls: 0.0280, loss_rpn_bbox: 0.0253, s0.loss_cls: 0.1708, s0.acc: 94.3223, s0.loss_bbox: 0.2140, s0.loss_mask: 0.1886, s1.loss_cls: 0.0806, s1.acc: 94.7093, s1.loss_bbox: 0.0897, s1.loss_mask: 0.0852, s2.loss_cls: 0.0406, s2.acc: 94.5195, s2.loss_bbox: 0.0357, s2.loss_mask: 0.0396, loss: 0.9982, grad_norm: 6.9515\n",
      "2021-05-19 19:35:10,235 - mmdet - INFO - Epoch [17][300/818]\tlr: 5.000e-08, eta: 1:41:34, time: 2.103, data_time: 0.031, memory: 18704, loss_rpn_cls: 0.0255, loss_rpn_bbox: 0.0235, s0.loss_cls: 0.1585, s0.acc: 94.7959, s0.loss_bbox: 0.2022, s0.loss_mask: 0.1984, s1.loss_cls: 0.0727, s1.acc: 95.1850, s1.loss_bbox: 0.0812, s1.loss_mask: 0.0869, s2.loss_cls: 0.0362, s2.acc: 95.2176, s2.loss_bbox: 0.0306, s2.loss_mask: 0.0386, loss: 0.9542, grad_norm: 7.0059\n",
      "2021-05-19 19:36:55,299 - mmdet - INFO - Epoch [17][350/818]\tlr: 5.000e-08, eta: 1:39:52, time: 2.101, data_time: 0.033, memory: 18704, loss_rpn_cls: 0.0282, loss_rpn_bbox: 0.0243, s0.loss_cls: 0.1786, s0.acc: 94.0127, s0.loss_bbox: 0.2237, s0.loss_mask: 0.1981, s1.loss_cls: 0.0812, s1.acc: 94.4871, s1.loss_bbox: 0.0908, s1.loss_mask: 0.0878, s2.loss_cls: 0.0399, s2.acc: 94.4648, s2.loss_bbox: 0.0353, s2.loss_mask: 0.0404, loss: 1.0283, grad_norm: 6.8040\n",
      "2021-05-19 19:38:38,268 - mmdet - INFO - Epoch [17][400/818]\tlr: 5.000e-08, eta: 1:38:10, time: 2.059, data_time: 0.025, memory: 18704, loss_rpn_cls: 0.0240, loss_rpn_bbox: 0.0215, s0.loss_cls: 0.1628, s0.acc: 94.7217, s0.loss_bbox: 0.2095, s0.loss_mask: 0.1946, s1.loss_cls: 0.0737, s1.acc: 95.1656, s1.loss_bbox: 0.0860, s1.loss_mask: 0.0858, s2.loss_cls: 0.0366, s2.acc: 95.1747, s2.loss_bbox: 0.0335, s2.loss_mask: 0.0396, loss: 0.9676, grad_norm: 6.7742\n",
      "2021-05-19 19:40:24,419 - mmdet - INFO - Epoch [17][450/818]\tlr: 5.000e-08, eta: 1:36:28, time: 2.123, data_time: 0.031, memory: 18704, loss_rpn_cls: 0.0254, loss_rpn_bbox: 0.0226, s0.loss_cls: 0.1620, s0.acc: 94.5791, s0.loss_bbox: 0.2074, s0.loss_mask: 0.1854, s1.loss_cls: 0.0751, s1.acc: 94.8959, s1.loss_bbox: 0.0846, s1.loss_mask: 0.0837, s2.loss_cls: 0.0370, s2.acc: 94.9236, s2.loss_bbox: 0.0340, s2.loss_mask: 0.0382, loss: 0.9554, grad_norm: 7.2577\n",
      "2021-05-19 19:42:09,538 - mmdet - INFO - Epoch [17][500/818]\tlr: 5.000e-08, eta: 1:34:46, time: 2.102, data_time: 0.035, memory: 18704, loss_rpn_cls: 0.0290, loss_rpn_bbox: 0.0280, s0.loss_cls: 0.1728, s0.acc: 94.3125, s0.loss_bbox: 0.2163, s0.loss_mask: 0.1927, s1.loss_cls: 0.0783, s1.acc: 94.9750, s1.loss_bbox: 0.0878, s1.loss_mask: 0.0838, s2.loss_cls: 0.0386, s2.acc: 94.9337, s2.loss_bbox: 0.0343, s2.loss_mask: 0.0386, loss: 1.0001, grad_norm: 7.3306\n",
      "2021-05-19 19:44:20,342 - mmdet - INFO - Epoch [17][550/818]\tlr: 5.000e-08, eta: 1:33:09, time: 2.616, data_time: 0.035, memory: 18704, loss_rpn_cls: 0.0231, loss_rpn_bbox: 0.0211, s0.loss_cls: 0.1563, s0.acc: 94.9355, s0.loss_bbox: 0.1970, s0.loss_mask: 0.1853, s1.loss_cls: 0.0718, s1.acc: 95.3170, s1.loss_bbox: 0.0811, s1.loss_mask: 0.0834, s2.loss_cls: 0.0348, s2.acc: 95.4443, s2.loss_bbox: 0.0321, s2.loss_mask: 0.0392, loss: 0.9252, grad_norm: 6.9564\n",
      "2021-05-19 19:47:11,166 - mmdet - INFO - Epoch [17][600/818]\tlr: 5.000e-08, eta: 1:31:40, time: 3.416, data_time: 0.027, memory: 18704, loss_rpn_cls: 0.0203, loss_rpn_bbox: 0.0171, s0.loss_cls: 0.1329, s0.acc: 95.6465, s0.loss_bbox: 0.1769, s0.loss_mask: 0.1600, s1.loss_cls: 0.0615, s1.acc: 96.0261, s1.loss_bbox: 0.0753, s1.loss_mask: 0.0711, s2.loss_cls: 0.0305, s2.acc: 95.9759, s2.loss_bbox: 0.0309, s2.loss_mask: 0.0325, loss: 0.8090, grad_norm: 6.4486\n",
      "2021-05-19 19:49:59,083 - mmdet - INFO - Epoch [17][650/818]\tlr: 5.000e-08, eta: 1:30:09, time: 3.359, data_time: 0.031, memory: 18704, loss_rpn_cls: 0.0217, loss_rpn_bbox: 0.0221, s0.loss_cls: 0.1602, s0.acc: 94.8047, s0.loss_bbox: 0.2077, s0.loss_mask: 0.1850, s1.loss_cls: 0.0716, s1.acc: 95.3451, s1.loss_bbox: 0.0847, s1.loss_mask: 0.0819, s2.loss_cls: 0.0360, s2.acc: 95.2669, s2.loss_bbox: 0.0329, s2.loss_mask: 0.0384, loss: 0.9421, grad_norm: 6.9107\n",
      "2021-05-19 19:51:42,790 - mmdet - INFO - Epoch [17][700/818]\tlr: 5.000e-08, eta: 1:28:26, time: 2.074, data_time: 0.030, memory: 18704, loss_rpn_cls: 0.0241, loss_rpn_bbox: 0.0220, s0.loss_cls: 0.1620, s0.acc: 94.7402, s0.loss_bbox: 0.2007, s0.loss_mask: 0.1770, s1.loss_cls: 0.0733, s1.acc: 95.3306, s1.loss_bbox: 0.0803, s1.loss_mask: 0.0782, s2.loss_cls: 0.0358, s2.acc: 95.4587, s2.loss_bbox: 0.0316, s2.loss_mask: 0.0363, loss: 0.9215, grad_norm: 7.0681\n",
      "2021-05-19 19:53:26,016 - mmdet - INFO - Epoch [17][750/818]\tlr: 5.000e-08, eta: 1:26:43, time: 2.065, data_time: 0.030, memory: 18704, loss_rpn_cls: 0.0261, loss_rpn_bbox: 0.0230, s0.loss_cls: 0.1548, s0.acc: 94.8184, s0.loss_bbox: 0.2017, s0.loss_mask: 0.1902, s1.loss_cls: 0.0702, s1.acc: 95.3810, s1.loss_bbox: 0.0836, s1.loss_mask: 0.0846, s2.loss_cls: 0.0349, s2.acc: 95.3575, s2.loss_bbox: 0.0327, s2.loss_mask: 0.0388, loss: 0.9406, grad_norm: 6.8426\n",
      "2021-05-19 19:55:09,953 - mmdet - INFO - Epoch [17][800/818]\tlr: 5.000e-08, eta: 1:25:00, time: 2.079, data_time: 0.034, memory: 18704, loss_rpn_cls: 0.0279, loss_rpn_bbox: 0.0270, s0.loss_cls: 0.1696, s0.acc: 94.3428, s0.loss_bbox: 0.2224, s0.loss_mask: 0.1849, s1.loss_cls: 0.0781, s1.acc: 94.8084, s1.loss_bbox: 0.0926, s1.loss_mask: 0.0819, s2.loss_cls: 0.0395, s2.acc: 94.6523, s2.loss_bbox: 0.0369, s2.loss_mask: 0.0376, loss: 0.9985, grad_norm: 6.8532\n",
      "2021-05-19 19:55:46,670 - mmdet - INFO - Saving checkpoint at 17 epochs\n"
     ]
    },
    {
     "name": "stdout",
     "output_type": "stream",
     "text": [
      "[>>>>>>>>>>>>>>>>>>>>>>>>>>>>>] 655/655, 4.6 task/s, elapsed: 144s, ETA:     0s"
     ]
    },
    {
     "name": "stderr",
     "output_type": "stream",
     "text": [
      "2021-05-19 19:58:15,031 - mmdet - INFO - Evaluating bbox...\n"
     ]
    },
    {
     "name": "stdout",
     "output_type": "stream",
     "text": [
      "Loading and preparing results...\n",
      "DONE (t=0.12s)\n",
      "creating index...\n",
      "index created!\n",
      "Running per image evaluation...\n",
      "Evaluate annotation type *bbox*\n",
      "DONE (t=6.11s).\n",
      "Accumulating evaluation results...\n"
     ]
    },
    {
     "name": "stderr",
     "output_type": "stream",
     "text": [
      "2021-05-19 19:58:22,159 - mmdet - INFO - Epoch(val) [17][818]\tbbox_mAP: 0.5300, bbox_mAP_50: 0.6550, bbox_mAP_75: 0.5680, bbox_mAP_s: 0.2350, bbox_mAP_m: 0.5330, bbox_mAP_l: 0.7180, bbox_mAP_copypaste: 0.530 0.655 0.568 0.235 0.533 0.718\n"
     ]
    },
    {
     "name": "stdout",
     "output_type": "stream",
     "text": [
      "DONE (t=0.81s).\n",
      "Average Precision  (AP) @[ IoU=0.50:0.95 | area=   all | maxDets=100 ] = 0.530\n",
      "Average Precision  (AP) @[ IoU=0.50      | area=   all | maxDets=1000 ] = 0.655\n",
      "Average Precision  (AP) @[ IoU=0.75      | area=   all | maxDets=1000 ] = 0.568\n",
      "Average Precision  (AP) @[ IoU=0.50:0.95 | area= small | maxDets=1000 ] = 0.235\n",
      "Average Precision  (AP) @[ IoU=0.50:0.95 | area=medium | maxDets=1000 ] = 0.533\n",
      "Average Precision  (AP) @[ IoU=0.50:0.95 | area= large | maxDets=1000 ] = 0.718\n",
      "Average Recall     (AR) @[ IoU=0.50:0.95 | area=   all | maxDets=100 ] = 0.629\n",
      "Average Recall     (AR) @[ IoU=0.50:0.95 | area=   all | maxDets=300 ] = 0.629\n",
      "Average Recall     (AR) @[ IoU=0.50:0.95 | area=   all | maxDets=1000 ] = 0.629\n",
      "Average Recall     (AR) @[ IoU=0.50:0.95 | area= small | maxDets=1000 ] = 0.351\n",
      "Average Recall     (AR) @[ IoU=0.50:0.95 | area=medium | maxDets=1000 ] = 0.651\n",
      "Average Recall     (AR) @[ IoU=0.50:0.95 | area= large | maxDets=1000 ] = 0.766\n"
     ]
    },
    {
     "name": "stderr",
     "output_type": "stream",
     "text": [
      "2021-05-19 20:00:10,578 - mmdet - INFO - Epoch [18][50/818]\tlr: 5.000e-08, eta: 1:22:34, time: 2.168, data_time: 0.081, memory: 18704, loss_rpn_cls: 0.0300, loss_rpn_bbox: 0.0234, s0.loss_cls: 0.1555, s0.acc: 94.9941, s0.loss_bbox: 0.2064, s0.loss_mask: 0.1905, s1.loss_cls: 0.0722, s1.acc: 95.3556, s1.loss_bbox: 0.0835, s1.loss_mask: 0.0812, s2.loss_cls: 0.0352, s2.acc: 95.4522, s2.loss_bbox: 0.0323, s2.loss_mask: 0.0367, loss: 0.9469, grad_norm: 6.4798\n",
      "2021-05-19 20:01:56,085 - mmdet - INFO - Epoch [18][100/818]\tlr: 5.000e-08, eta: 1:20:52, time: 2.110, data_time: 0.028, memory: 18704, loss_rpn_cls: 0.0269, loss_rpn_bbox: 0.0245, s0.loss_cls: 0.1652, s0.acc: 94.6650, s0.loss_bbox: 0.2198, s0.loss_mask: 0.1910, s1.loss_cls: 0.0727, s1.acc: 95.3211, s1.loss_bbox: 0.0887, s1.loss_mask: 0.0817, s2.loss_cls: 0.0358, s2.acc: 95.2981, s2.loss_bbox: 0.0358, s2.loss_mask: 0.0378, loss: 0.9800, grad_norm: 6.7066\n",
      "2021-05-19 20:03:40,049 - mmdet - INFO - Epoch [18][150/818]\tlr: 5.000e-08, eta: 1:19:09, time: 2.079, data_time: 0.026, memory: 18704, loss_rpn_cls: 0.0220, loss_rpn_bbox: 0.0210, s0.loss_cls: 0.1588, s0.acc: 94.9258, s0.loss_bbox: 0.1934, s0.loss_mask: 0.1778, s1.loss_cls: 0.0736, s1.acc: 95.3270, s1.loss_bbox: 0.0796, s1.loss_mask: 0.0801, s2.loss_cls: 0.0368, s2.acc: 95.2844, s2.loss_bbox: 0.0323, s2.loss_mask: 0.0377, loss: 0.9130, grad_norm: 6.6165\n",
      "2021-05-19 20:05:24,211 - mmdet - INFO - Epoch [18][200/818]\tlr: 5.000e-08, eta: 1:17:26, time: 2.083, data_time: 0.028, memory: 18704, loss_rpn_cls: 0.0231, loss_rpn_bbox: 0.0239, s0.loss_cls: 0.1573, s0.acc: 94.8818, s0.loss_bbox: 0.2074, s0.loss_mask: 0.1900, s1.loss_cls: 0.0729, s1.acc: 95.3507, s1.loss_bbox: 0.0855, s1.loss_mask: 0.0839, s2.loss_cls: 0.0363, s2.acc: 95.0929, s2.loss_bbox: 0.0340, s2.loss_mask: 0.0384, loss: 0.9527, grad_norm: 7.2859\n",
      "2021-05-19 20:07:08,835 - mmdet - INFO - Epoch [18][250/818]\tlr: 5.000e-08, eta: 1:15:43, time: 2.092, data_time: 0.031, memory: 18704, loss_rpn_cls: 0.0244, loss_rpn_bbox: 0.0213, s0.loss_cls: 0.1548, s0.acc: 94.7832, s0.loss_bbox: 0.2068, s0.loss_mask: 0.1919, s1.loss_cls: 0.0702, s1.acc: 95.3677, s1.loss_bbox: 0.0855, s1.loss_mask: 0.0831, s2.loss_cls: 0.0349, s2.acc: 95.3089, s2.loss_bbox: 0.0337, s2.loss_mask: 0.0388, loss: 0.9455, grad_norm: 6.8795\n",
      "2021-05-19 20:08:54,765 - mmdet - INFO - Epoch [18][300/818]\tlr: 5.000e-08, eta: 1:14:00, time: 2.119, data_time: 0.034, memory: 18704, loss_rpn_cls: 0.0258, loss_rpn_bbox: 0.0222, s0.loss_cls: 0.1608, s0.acc: 94.7520, s0.loss_bbox: 0.2098, s0.loss_mask: 0.1871, s1.loss_cls: 0.0728, s1.acc: 95.3317, s1.loss_bbox: 0.0866, s1.loss_mask: 0.0830, s2.loss_cls: 0.0364, s2.acc: 95.1755, s2.loss_bbox: 0.0344, s2.loss_mask: 0.0383, loss: 0.9574, grad_norm: 6.3803\n",
      "2021-05-19 20:10:37,727 - mmdet - INFO - Epoch [18][350/818]\tlr: 5.000e-08, eta: 1:12:17, time: 2.059, data_time: 0.031, memory: 18704, loss_rpn_cls: 0.0255, loss_rpn_bbox: 0.0240, s0.loss_cls: 0.1440, s0.acc: 95.2412, s0.loss_bbox: 0.1958, s0.loss_mask: 0.1835, s1.loss_cls: 0.0653, s1.acc: 95.5978, s1.loss_bbox: 0.0798, s1.loss_mask: 0.0806, s2.loss_cls: 0.0323, s2.acc: 95.5975, s2.loss_bbox: 0.0306, s2.loss_mask: 0.0371, loss: 0.8986, grad_norm: 6.5320\n",
      "2021-05-19 20:12:20,900 - mmdet - INFO - Epoch [18][400/818]\tlr: 5.000e-08, eta: 1:10:34, time: 2.063, data_time: 0.030, memory: 18704, loss_rpn_cls: 0.0253, loss_rpn_bbox: 0.0238, s0.loss_cls: 0.1702, s0.acc: 94.5010, s0.loss_bbox: 0.2138, s0.loss_mask: 0.1872, s1.loss_cls: 0.0780, s1.acc: 94.9499, s1.loss_bbox: 0.0880, s1.loss_mask: 0.0831, s2.loss_cls: 0.0384, s2.acc: 94.8886, s2.loss_bbox: 0.0346, s2.loss_mask: 0.0377, loss: 0.9800, grad_norm: 7.5201\n",
      "2021-05-19 20:14:06,985 - mmdet - INFO - Epoch [18][450/818]\tlr: 5.000e-08, eta: 1:08:52, time: 2.122, data_time: 0.033, memory: 18704, loss_rpn_cls: 0.0267, loss_rpn_bbox: 0.0233, s0.loss_cls: 0.1585, s0.acc: 94.8047, s0.loss_bbox: 0.2013, s0.loss_mask: 0.1740, s1.loss_cls: 0.0722, s1.acc: 95.3394, s1.loss_bbox: 0.0831, s1.loss_mask: 0.0767, s2.loss_cls: 0.0350, s2.acc: 95.4736, s2.loss_bbox: 0.0328, s2.loss_mask: 0.0354, loss: 0.9192, grad_norm: 6.9361\n",
      "2021-05-19 20:15:51,810 - mmdet - INFO - Epoch [18][500/818]\tlr: 5.000e-08, eta: 1:07:09, time: 2.096, data_time: 0.032, memory: 18704, loss_rpn_cls: 0.0247, loss_rpn_bbox: 0.0234, s0.loss_cls: 0.1566, s0.acc: 94.8887, s0.loss_bbox: 0.2049, s0.loss_mask: 0.1958, s1.loss_cls: 0.0710, s1.acc: 95.4178, s1.loss_bbox: 0.0829, s1.loss_mask: 0.0859, s2.loss_cls: 0.0344, s2.acc: 95.5025, s2.loss_bbox: 0.0327, s2.loss_mask: 0.0393, loss: 0.9517, grad_norm: 6.8442\n",
      "2021-05-19 20:17:37,110 - mmdet - INFO - Epoch [18][550/818]\tlr: 5.000e-08, eta: 1:05:26, time: 2.106, data_time: 0.029, memory: 18704, loss_rpn_cls: 0.0240, loss_rpn_bbox: 0.0202, s0.loss_cls: 0.1660, s0.acc: 94.6201, s0.loss_bbox: 0.2045, s0.loss_mask: 0.1853, s1.loss_cls: 0.0763, s1.acc: 95.2030, s1.loss_bbox: 0.0829, s1.loss_mask: 0.0801, s2.loss_cls: 0.0365, s2.acc: 95.1072, s2.loss_bbox: 0.0331, s2.loss_mask: 0.0362, loss: 0.9451, grad_norm: 6.7082\n",
      "2021-05-19 20:19:21,543 - mmdet - INFO - Epoch [18][600/818]\tlr: 5.000e-08, eta: 1:03:43, time: 2.089, data_time: 0.032, memory: 18704, loss_rpn_cls: 0.0282, loss_rpn_bbox: 0.0234, s0.loss_cls: 0.1524, s0.acc: 94.9199, s0.loss_bbox: 0.1991, s0.loss_mask: 0.1865, s1.loss_cls: 0.0692, s1.acc: 95.2988, s1.loss_bbox: 0.0834, s1.loss_mask: 0.0847, s2.loss_cls: 0.0338, s2.acc: 95.4057, s2.loss_bbox: 0.0326, s2.loss_mask: 0.0388, loss: 0.9320, grad_norm: 7.0598\n",
      "2021-05-19 20:21:07,219 - mmdet - INFO - Epoch [18][650/818]\tlr: 5.000e-08, eta: 1:02:00, time: 2.114, data_time: 0.031, memory: 18704, loss_rpn_cls: 0.0247, loss_rpn_bbox: 0.0246, s0.loss_cls: 0.1593, s0.acc: 94.7012, s0.loss_bbox: 0.2016, s0.loss_mask: 0.1859, s1.loss_cls: 0.0712, s1.acc: 95.2889, s1.loss_bbox: 0.0821, s1.loss_mask: 0.0825, s2.loss_cls: 0.0343, s2.acc: 95.5016, s2.loss_bbox: 0.0319, s2.loss_mask: 0.0374, loss: 0.9354, grad_norm: 7.3485\n",
      "2021-05-19 20:22:51,129 - mmdet - INFO - Epoch [18][700/818]\tlr: 5.000e-08, eta: 1:00:17, time: 2.078, data_time: 0.031, memory: 18704, loss_rpn_cls: 0.0274, loss_rpn_bbox: 0.0230, s0.loss_cls: 0.1653, s0.acc: 94.6357, s0.loss_bbox: 0.1978, s0.loss_mask: 0.1798, s1.loss_cls: 0.0747, s1.acc: 95.1377, s1.loss_bbox: 0.0802, s1.loss_mask: 0.0788, s2.loss_cls: 0.0364, s2.acc: 95.2455, s2.loss_bbox: 0.0320, s2.loss_mask: 0.0366, loss: 0.9320, grad_norm: 6.6447\n",
      "2021-05-19 20:24:34,930 - mmdet - INFO - Epoch [18][750/818]\tlr: 5.000e-08, eta: 0:58:34, time: 2.076, data_time: 0.027, memory: 18704, loss_rpn_cls: 0.0296, loss_rpn_bbox: 0.0204, s0.loss_cls: 0.1573, s0.acc: 94.9043, s0.loss_bbox: 0.1958, s0.loss_mask: 0.1806, s1.loss_cls: 0.0699, s1.acc: 95.4582, s1.loss_bbox: 0.0808, s1.loss_mask: 0.0793, s2.loss_cls: 0.0347, s2.acc: 95.4103, s2.loss_bbox: 0.0319, s2.loss_mask: 0.0366, loss: 0.9170, grad_norm: 6.8992\n",
      "2021-05-19 20:26:17,868 - mmdet - INFO - Epoch [18][800/818]\tlr: 5.000e-08, eta: 0:56:51, time: 2.059, data_time: 0.034, memory: 18704, loss_rpn_cls: 0.0280, loss_rpn_bbox: 0.0255, s0.loss_cls: 0.1602, s0.acc: 94.7207, s0.loss_bbox: 0.2095, s0.loss_mask: 0.1945, s1.loss_cls: 0.0742, s1.acc: 95.0217, s1.loss_bbox: 0.0872, s1.loss_mask: 0.0876, s2.loss_cls: 0.0366, s2.acc: 95.0588, s2.loss_bbox: 0.0341, s2.loss_mask: 0.0398, loss: 0.9771, grad_norm: 6.4511\n",
      "2021-05-19 20:26:54,978 - mmdet - INFO - Saving checkpoint at 18 epochs\n"
     ]
    },
    {
     "name": "stdout",
     "output_type": "stream",
     "text": [
      "[>>>>>>>>>>>>>>>>>>>>>>>>>>>>>] 655/655, 4.5 task/s, elapsed: 144s, ETA:     0s"
     ]
    },
    {
     "name": "stderr",
     "output_type": "stream",
     "text": [
      "2021-05-19 20:29:24,588 - mmdet - INFO - Evaluating bbox...\n"
     ]
    },
    {
     "name": "stdout",
     "output_type": "stream",
     "text": [
      "Loading and preparing results...\n",
      "DONE (t=0.12s)\n",
      "creating index...\n",
      "index created!\n",
      "Running per image evaluation...\n",
      "Evaluate annotation type *bbox*\n",
      "DONE (t=6.65s).\n",
      "Accumulating evaluation results...\n"
     ]
    },
    {
     "name": "stderr",
     "output_type": "stream",
     "text": [
      "2021-05-19 20:29:32,269 - mmdet - INFO - Epoch(val) [18][818]\tbbox_mAP: 0.5290, bbox_mAP_50: 0.6540, bbox_mAP_75: 0.5660, bbox_mAP_s: 0.2350, bbox_mAP_m: 0.5320, bbox_mAP_l: 0.7180, bbox_mAP_copypaste: 0.529 0.654 0.566 0.235 0.532 0.718\n"
     ]
    },
    {
     "name": "stdout",
     "output_type": "stream",
     "text": [
      "DONE (t=0.82s).\n",
      "Average Precision  (AP) @[ IoU=0.50:0.95 | area=   all | maxDets=100 ] = 0.529\n",
      "Average Precision  (AP) @[ IoU=0.50      | area=   all | maxDets=1000 ] = 0.654\n",
      "Average Precision  (AP) @[ IoU=0.75      | area=   all | maxDets=1000 ] = 0.566\n",
      "Average Precision  (AP) @[ IoU=0.50:0.95 | area= small | maxDets=1000 ] = 0.235\n",
      "Average Precision  (AP) @[ IoU=0.50:0.95 | area=medium | maxDets=1000 ] = 0.532\n",
      "Average Precision  (AP) @[ IoU=0.50:0.95 | area= large | maxDets=1000 ] = 0.718\n",
      "Average Recall     (AR) @[ IoU=0.50:0.95 | area=   all | maxDets=100 ] = 0.628\n",
      "Average Recall     (AR) @[ IoU=0.50:0.95 | area=   all | maxDets=300 ] = 0.628\n",
      "Average Recall     (AR) @[ IoU=0.50:0.95 | area=   all | maxDets=1000 ] = 0.628\n",
      "Average Recall     (AR) @[ IoU=0.50:0.95 | area= small | maxDets=1000 ] = 0.352\n",
      "Average Recall     (AR) @[ IoU=0.50:0.95 | area=medium | maxDets=1000 ] = 0.649\n",
      "Average Recall     (AR) @[ IoU=0.50:0.95 | area= large | maxDets=1000 ] = 0.766\n"
     ]
    },
    {
     "name": "stderr",
     "output_type": "stream",
     "text": [
      "2021-05-19 20:31:21,834 - mmdet - INFO - Epoch [19][50/818]\tlr: 5.000e-08, eta: 0:54:27, time: 2.191, data_time: 0.078, memory: 18704, loss_rpn_cls: 0.0305, loss_rpn_bbox: 0.0232, s0.loss_cls: 0.1641, s0.acc: 94.6855, s0.loss_bbox: 0.2042, s0.loss_mask: 0.1923, s1.loss_cls: 0.0749, s1.acc: 95.2171, s1.loss_bbox: 0.0852, s1.loss_mask: 0.0868, s2.loss_cls: 0.0374, s2.acc: 95.1308, s2.loss_bbox: 0.0333, s2.loss_mask: 0.0394, loss: 0.9712, grad_norm: 6.7573\n",
      "2021-05-19 20:33:06,216 - mmdet - INFO - Epoch [19][100/818]\tlr: 5.000e-08, eta: 0:52:44, time: 2.088, data_time: 0.030, memory: 18704, loss_rpn_cls: 0.0243, loss_rpn_bbox: 0.0266, s0.loss_cls: 0.1577, s0.acc: 94.8174, s0.loss_bbox: 0.1962, s0.loss_mask: 0.1788, s1.loss_cls: 0.0727, s1.acc: 95.2434, s1.loss_bbox: 0.0820, s1.loss_mask: 0.0813, s2.loss_cls: 0.0356, s2.acc: 95.2745, s2.loss_bbox: 0.0326, s2.loss_mask: 0.0375, loss: 0.9251, grad_norm: 7.0164\n",
      "2021-05-19 20:34:50,790 - mmdet - INFO - Epoch [19][150/818]\tlr: 5.000e-08, eta: 0:51:02, time: 2.091, data_time: 0.033, memory: 18704, loss_rpn_cls: 0.0288, loss_rpn_bbox: 0.0258, s0.loss_cls: 0.1593, s0.acc: 94.7578, s0.loss_bbox: 0.1993, s0.loss_mask: 0.1839, s1.loss_cls: 0.0739, s1.acc: 95.1646, s1.loss_bbox: 0.0825, s1.loss_mask: 0.0807, s2.loss_cls: 0.0374, s2.acc: 95.0549, s2.loss_bbox: 0.0329, s2.loss_mask: 0.0372, loss: 0.9416, grad_norm: 6.5138\n",
      "2021-05-19 20:36:35,849 - mmdet - INFO - Epoch [19][200/818]\tlr: 5.000e-08, eta: 0:49:19, time: 2.101, data_time: 0.028, memory: 18704, loss_rpn_cls: 0.0274, loss_rpn_bbox: 0.0286, s0.loss_cls: 0.1697, s0.acc: 94.4512, s0.loss_bbox: 0.2129, s0.loss_mask: 0.1879, s1.loss_cls: 0.0789, s1.acc: 94.7670, s1.loss_bbox: 0.0871, s1.loss_mask: 0.0853, s2.loss_cls: 0.0394, s2.acc: 94.8082, s2.loss_bbox: 0.0356, s2.loss_mask: 0.0397, loss: 0.9924, grad_norm: 7.0470\n",
      "2021-05-19 20:38:19,988 - mmdet - INFO - Epoch [19][250/818]\tlr: 5.000e-08, eta: 0:47:36, time: 2.083, data_time: 0.026, memory: 18704, loss_rpn_cls: 0.0226, loss_rpn_bbox: 0.0214, s0.loss_cls: 0.1511, s0.acc: 95.0459, s0.loss_bbox: 0.2009, s0.loss_mask: 0.1893, s1.loss_cls: 0.0697, s1.acc: 95.3735, s1.loss_bbox: 0.0823, s1.loss_mask: 0.0838, s2.loss_cls: 0.0346, s2.acc: 95.2828, s2.loss_bbox: 0.0324, s2.loss_mask: 0.0386, loss: 0.9267, grad_norm: 6.9618\n",
      "2021-05-19 20:40:05,131 - mmdet - INFO - Epoch [19][300/818]\tlr: 5.000e-08, eta: 0:45:53, time: 2.103, data_time: 0.032, memory: 18704, loss_rpn_cls: 0.0269, loss_rpn_bbox: 0.0205, s0.loss_cls: 0.1485, s0.acc: 95.1406, s0.loss_bbox: 0.1979, s0.loss_mask: 0.1809, s1.loss_cls: 0.0663, s1.acc: 95.5990, s1.loss_bbox: 0.0801, s1.loss_mask: 0.0790, s2.loss_cls: 0.0325, s2.acc: 95.7529, s2.loss_bbox: 0.0314, s2.loss_mask: 0.0364, loss: 0.9002, grad_norm: 6.1247\n",
      "2021-05-19 20:41:50,729 - mmdet - INFO - Epoch [19][350/818]\tlr: 5.000e-08, eta: 0:44:10, time: 2.112, data_time: 0.032, memory: 18704, loss_rpn_cls: 0.0304, loss_rpn_bbox: 0.0277, s0.loss_cls: 0.1696, s0.acc: 94.3604, s0.loss_bbox: 0.2287, s0.loss_mask: 0.1969, s1.loss_cls: 0.0792, s1.acc: 94.6856, s1.loss_bbox: 0.0949, s1.loss_mask: 0.0880, s2.loss_cls: 0.0390, s2.acc: 94.7396, s2.loss_bbox: 0.0374, s2.loss_mask: 0.0407, loss: 1.0325, grad_norm: 6.9097\n",
      "2021-05-19 20:43:33,252 - mmdet - INFO - Epoch [19][400/818]\tlr: 5.000e-08, eta: 0:42:27, time: 2.050, data_time: 0.025, memory: 18704, loss_rpn_cls: 0.0207, loss_rpn_bbox: 0.0179, s0.loss_cls: 0.1431, s0.acc: 95.4668, s0.loss_bbox: 0.1774, s0.loss_mask: 0.1635, s1.loss_cls: 0.0647, s1.acc: 95.8254, s1.loss_bbox: 0.0740, s1.loss_mask: 0.0720, s2.loss_cls: 0.0318, s2.acc: 95.8975, s2.loss_bbox: 0.0301, s2.loss_mask: 0.0333, loss: 0.8286, grad_norm: 6.8279\n",
      "2021-05-19 20:45:17,645 - mmdet - INFO - Epoch [19][450/818]\tlr: 5.000e-08, eta: 0:40:44, time: 2.088, data_time: 0.029, memory: 18704, loss_rpn_cls: 0.0222, loss_rpn_bbox: 0.0204, s0.loss_cls: 0.1428, s0.acc: 95.3408, s0.loss_bbox: 0.1787, s0.loss_mask: 0.1660, s1.loss_cls: 0.0659, s1.acc: 95.7365, s1.loss_bbox: 0.0738, s1.loss_mask: 0.0739, s2.loss_cls: 0.0318, s2.acc: 95.8471, s2.loss_bbox: 0.0299, s2.loss_mask: 0.0341, loss: 0.8396, grad_norm: 6.8037\n",
      "2021-05-19 20:47:03,454 - mmdet - INFO - Epoch [19][500/818]\tlr: 5.000e-08, eta: 0:39:01, time: 2.116, data_time: 0.037, memory: 18704, loss_rpn_cls: 0.0262, loss_rpn_bbox: 0.0235, s0.loss_cls: 0.1685, s0.acc: 94.4727, s0.loss_bbox: 0.2168, s0.loss_mask: 0.1899, s1.loss_cls: 0.0771, s1.acc: 94.9621, s1.loss_bbox: 0.0874, s1.loss_mask: 0.0830, s2.loss_cls: 0.0377, s2.acc: 94.9104, s2.loss_bbox: 0.0343, s2.loss_mask: 0.0376, loss: 0.9820, grad_norm: 7.0730\n",
      "2021-05-19 20:48:47,752 - mmdet - INFO - Epoch [19][550/818]\tlr: 5.000e-08, eta: 0:37:18, time: 2.086, data_time: 0.032, memory: 18704, loss_rpn_cls: 0.0229, loss_rpn_bbox: 0.0205, s0.loss_cls: 0.1535, s0.acc: 95.0498, s0.loss_bbox: 0.1870, s0.loss_mask: 0.1794, s1.loss_cls: 0.0706, s1.acc: 95.5032, s1.loss_bbox: 0.0766, s1.loss_mask: 0.0807, s2.loss_cls: 0.0352, s2.acc: 95.3608, s2.loss_bbox: 0.0310, s2.loss_mask: 0.0371, loss: 0.8945, grad_norm: 6.8356\n",
      "2021-05-19 20:50:33,660 - mmdet - INFO - Epoch [19][600/818]\tlr: 5.000e-08, eta: 0:35:35, time: 2.118, data_time: 0.033, memory: 18704, loss_rpn_cls: 0.0267, loss_rpn_bbox: 0.0235, s0.loss_cls: 0.1628, s0.acc: 94.6006, s0.loss_bbox: 0.2145, s0.loss_mask: 0.1886, s1.loss_cls: 0.0748, s1.acc: 95.1908, s1.loss_bbox: 0.0880, s1.loss_mask: 0.0833, s2.loss_cls: 0.0359, s2.acc: 95.2968, s2.loss_bbox: 0.0353, s2.loss_mask: 0.0381, loss: 0.9718, grad_norm: 6.8050\n",
      "2021-05-19 20:52:20,117 - mmdet - INFO - Epoch [19][650/818]\tlr: 5.000e-08, eta: 0:33:53, time: 2.129, data_time: 0.046, memory: 18704, loss_rpn_cls: 0.0271, loss_rpn_bbox: 0.0241, s0.loss_cls: 0.1681, s0.acc: 94.4189, s0.loss_bbox: 0.2134, s0.loss_mask: 0.1894, s1.loss_cls: 0.0796, s1.acc: 94.8982, s1.loss_bbox: 0.0872, s1.loss_mask: 0.0837, s2.loss_cls: 0.0392, s2.acc: 94.6434, s2.loss_bbox: 0.0337, s2.loss_mask: 0.0386, loss: 0.9842, grad_norm: 6.8034\n",
      "2021-05-19 20:54:03,400 - mmdet - INFO - Epoch [19][700/818]\tlr: 5.000e-08, eta: 0:32:09, time: 2.066, data_time: 0.029, memory: 18704, loss_rpn_cls: 0.0285, loss_rpn_bbox: 0.0230, s0.loss_cls: 0.1514, s0.acc: 94.8906, s0.loss_bbox: 0.2003, s0.loss_mask: 0.1825, s1.loss_cls: 0.0681, s1.acc: 95.3929, s1.loss_bbox: 0.0815, s1.loss_mask: 0.0790, s2.loss_cls: 0.0336, s2.acc: 95.4165, s2.loss_bbox: 0.0317, s2.loss_mask: 0.0357, loss: 0.9153, grad_norm: 6.6073\n",
      "2021-05-19 20:55:47,258 - mmdet - INFO - Epoch [19][750/818]\tlr: 5.000e-08, eta: 0:30:26, time: 2.077, data_time: 0.027, memory: 18704, loss_rpn_cls: 0.0256, loss_rpn_bbox: 0.0230, s0.loss_cls: 0.1584, s0.acc: 94.8506, s0.loss_bbox: 0.2055, s0.loss_mask: 0.1906, s1.loss_cls: 0.0741, s1.acc: 95.2811, s1.loss_bbox: 0.0847, s1.loss_mask: 0.0834, s2.loss_cls: 0.0371, s2.acc: 95.2419, s2.loss_bbox: 0.0342, s2.loss_mask: 0.0379, loss: 0.9544, grad_norm: 7.0022\n",
      "2021-05-19 20:57:30,431 - mmdet - INFO - Epoch [19][800/818]\tlr: 5.000e-08, eta: 0:28:43, time: 2.063, data_time: 0.029, memory: 18704, loss_rpn_cls: 0.0292, loss_rpn_bbox: 0.0216, s0.loss_cls: 0.1730, s0.acc: 94.3516, s0.loss_bbox: 0.2167, s0.loss_mask: 0.1898, s1.loss_cls: 0.0781, s1.acc: 94.7978, s1.loss_bbox: 0.0896, s1.loss_mask: 0.0831, s2.loss_cls: 0.0398, s2.acc: 94.7168, s2.loss_bbox: 0.0342, s2.loss_mask: 0.0374, loss: 0.9924, grad_norm: 7.0526\n",
      "2021-05-19 20:58:07,185 - mmdet - INFO - Saving checkpoint at 19 epochs\n"
     ]
    },
    {
     "name": "stdout",
     "output_type": "stream",
     "text": [
      "[>>>>>>>>>>>>>>>>>>>>>>>>>>>>>] 655/655, 4.6 task/s, elapsed: 143s, ETA:     0s"
     ]
    },
    {
     "name": "stderr",
     "output_type": "stream",
     "text": [
      "2021-05-19 21:00:34,294 - mmdet - INFO - Evaluating bbox...\n"
     ]
    },
    {
     "name": "stdout",
     "output_type": "stream",
     "text": [
      "Loading and preparing results...\n",
      "DONE (t=0.66s)\n",
      "creating index...\n",
      "index created!\n",
      "Running per image evaluation...\n",
      "Evaluate annotation type *bbox*\n",
      "DONE (t=6.10s).\n",
      "Accumulating evaluation results...\n"
     ]
    },
    {
     "name": "stderr",
     "output_type": "stream",
     "text": [
      "2021-05-19 21:00:41,955 - mmdet - INFO - Epoch(val) [19][818]\tbbox_mAP: 0.5290, bbox_mAP_50: 0.6540, bbox_mAP_75: 0.5670, bbox_mAP_s: 0.2320, bbox_mAP_m: 0.5330, bbox_mAP_l: 0.7190, bbox_mAP_copypaste: 0.529 0.654 0.567 0.232 0.533 0.719\n"
     ]
    },
    {
     "name": "stdout",
     "output_type": "stream",
     "text": [
      "DONE (t=0.81s).\n",
      "Average Precision  (AP) @[ IoU=0.50:0.95 | area=   all | maxDets=100 ] = 0.529\n",
      "Average Precision  (AP) @[ IoU=0.50      | area=   all | maxDets=1000 ] = 0.654\n",
      "Average Precision  (AP) @[ IoU=0.75      | area=   all | maxDets=1000 ] = 0.567\n",
      "Average Precision  (AP) @[ IoU=0.50:0.95 | area= small | maxDets=1000 ] = 0.232\n",
      "Average Precision  (AP) @[ IoU=0.50:0.95 | area=medium | maxDets=1000 ] = 0.533\n",
      "Average Precision  (AP) @[ IoU=0.50:0.95 | area= large | maxDets=1000 ] = 0.719\n",
      "Average Recall     (AR) @[ IoU=0.50:0.95 | area=   all | maxDets=100 ] = 0.632\n",
      "Average Recall     (AR) @[ IoU=0.50:0.95 | area=   all | maxDets=300 ] = 0.632\n",
      "Average Recall     (AR) @[ IoU=0.50:0.95 | area=   all | maxDets=1000 ] = 0.632\n",
      "Average Recall     (AR) @[ IoU=0.50:0.95 | area= small | maxDets=1000 ] = 0.351\n",
      "Average Recall     (AR) @[ IoU=0.50:0.95 | area=medium | maxDets=1000 ] = 0.656\n",
      "Average Recall     (AR) @[ IoU=0.50:0.95 | area= large | maxDets=1000 ] = 0.767\n"
     ]
    },
    {
     "name": "stderr",
     "output_type": "stream",
     "text": [
      "2021-05-19 21:02:32,362 - mmdet - INFO - Epoch [20][50/818]\tlr: 5.000e-08, eta: 0:26:22, time: 2.208, data_time: 0.087, memory: 18704, loss_rpn_cls: 0.0265, loss_rpn_bbox: 0.0248, s0.loss_cls: 0.1671, s0.acc: 94.4287, s0.loss_bbox: 0.2113, s0.loss_mask: 0.1910, s1.loss_cls: 0.0759, s1.acc: 94.9992, s1.loss_bbox: 0.0882, s1.loss_mask: 0.0832, s2.loss_cls: 0.0376, s2.acc: 94.9309, s2.loss_bbox: 0.0352, s2.loss_mask: 0.0378, loss: 0.9785, grad_norm: 7.2146\n",
      "2021-05-19 21:04:18,410 - mmdet - INFO - Epoch [20][100/818]\tlr: 5.000e-08, eta: 0:24:39, time: 2.121, data_time: 0.043, memory: 18704, loss_rpn_cls: 0.0348, loss_rpn_bbox: 0.0291, s0.loss_cls: 0.1779, s0.acc: 94.1895, s0.loss_bbox: 0.2250, s0.loss_mask: 0.2005, s1.loss_cls: 0.0804, s1.acc: 94.7628, s1.loss_bbox: 0.0898, s1.loss_mask: 0.0868, s2.loss_cls: 0.0397, s2.acc: 94.8311, s2.loss_bbox: 0.0347, s2.loss_mask: 0.0392, loss: 1.0379, grad_norm: 6.9436\n",
      "2021-05-19 21:06:01,596 - mmdet - INFO - Epoch [20][150/818]\tlr: 5.000e-08, eta: 0:22:56, time: 2.064, data_time: 0.029, memory: 18704, loss_rpn_cls: 0.0239, loss_rpn_bbox: 0.0222, s0.loss_cls: 0.1584, s0.acc: 94.9209, s0.loss_bbox: 0.1859, s0.loss_mask: 0.1803, s1.loss_cls: 0.0724, s1.acc: 95.3007, s1.loss_bbox: 0.0775, s1.loss_mask: 0.0798, s2.loss_cls: 0.0359, s2.acc: 95.2496, s2.loss_bbox: 0.0312, s2.loss_mask: 0.0371, loss: 0.9047, grad_norm: 6.6616\n",
      "2021-05-19 21:07:47,239 - mmdet - INFO - Epoch [20][200/818]\tlr: 5.000e-08, eta: 0:21:13, time: 2.113, data_time: 0.039, memory: 18704, loss_rpn_cls: 0.0287, loss_rpn_bbox: 0.0226, s0.loss_cls: 0.1624, s0.acc: 94.8438, s0.loss_bbox: 0.2101, s0.loss_mask: 0.1870, s1.loss_cls: 0.0754, s1.acc: 95.3322, s1.loss_bbox: 0.0850, s1.loss_mask: 0.0819, s2.loss_cls: 0.0367, s2.acc: 95.3208, s2.loss_bbox: 0.0335, s2.loss_mask: 0.0377, loss: 0.9611, grad_norm: 7.1705\n",
      "2021-05-19 21:09:31,062 - mmdet - INFO - Epoch [20][250/818]\tlr: 5.000e-08, eta: 0:19:30, time: 2.076, data_time: 0.028, memory: 18704, loss_rpn_cls: 0.0229, loss_rpn_bbox: 0.0213, s0.loss_cls: 0.1526, s0.acc: 95.0801, s0.loss_bbox: 0.1971, s0.loss_mask: 0.1863, s1.loss_cls: 0.0670, s1.acc: 95.8247, s1.loss_bbox: 0.0810, s1.loss_mask: 0.0811, s2.loss_cls: 0.0329, s2.acc: 95.8090, s2.loss_bbox: 0.0325, s2.loss_mask: 0.0377, loss: 0.9125, grad_norm: 7.9540\n",
      "2021-05-19 21:11:16,063 - mmdet - INFO - Epoch [20][300/818]\tlr: 5.000e-08, eta: 0:17:47, time: 2.100, data_time: 0.034, memory: 18704, loss_rpn_cls: 0.0238, loss_rpn_bbox: 0.0185, s0.loss_cls: 0.1452, s0.acc: 95.3955, s0.loss_bbox: 0.1804, s0.loss_mask: 0.1719, s1.loss_cls: 0.0658, s1.acc: 95.9430, s1.loss_bbox: 0.0752, s1.loss_mask: 0.0764, s2.loss_cls: 0.0322, s2.acc: 95.9447, s2.loss_bbox: 0.0296, s2.loss_mask: 0.0349, loss: 0.8539, grad_norm: 6.8571\n",
      "2021-05-19 21:12:58,759 - mmdet - INFO - Epoch [20][350/818]\tlr: 5.000e-08, eta: 0:16:04, time: 2.054, data_time: 0.027, memory: 18704, loss_rpn_cls: 0.0232, loss_rpn_bbox: 0.0192, s0.loss_cls: 0.1289, s0.acc: 95.8428, s0.loss_bbox: 0.1710, s0.loss_mask: 0.1655, s1.loss_cls: 0.0566, s1.acc: 96.2853, s1.loss_bbox: 0.0702, s1.loss_mask: 0.0742, s2.loss_cls: 0.0277, s2.acc: 96.2748, s2.loss_bbox: 0.0286, s2.loss_mask: 0.0342, loss: 0.7994, grad_norm: 6.5085\n",
      "2021-05-19 21:14:42,636 - mmdet - INFO - Epoch [20][400/818]\tlr: 5.000e-08, eta: 0:14:21, time: 2.078, data_time: 0.033, memory: 18704, loss_rpn_cls: 0.0288, loss_rpn_bbox: 0.0239, s0.loss_cls: 0.1730, s0.acc: 94.2314, s0.loss_bbox: 0.2108, s0.loss_mask: 0.1862, s1.loss_cls: 0.0794, s1.acc: 94.8269, s1.loss_bbox: 0.0874, s1.loss_mask: 0.0828, s2.loss_cls: 0.0389, s2.acc: 94.9596, s2.loss_bbox: 0.0352, s2.loss_mask: 0.0381, loss: 0.9845, grad_norm: 6.8748\n",
      "2021-05-19 21:16:27,065 - mmdet - INFO - Epoch [20][450/818]\tlr: 5.000e-08, eta: 0:12:38, time: 2.089, data_time: 0.026, memory: 18704, loss_rpn_cls: 0.0296, loss_rpn_bbox: 0.0212, s0.loss_cls: 0.1631, s0.acc: 94.7646, s0.loss_bbox: 0.1993, s0.loss_mask: 0.1977, s1.loss_cls: 0.0748, s1.acc: 95.1294, s1.loss_bbox: 0.0801, s1.loss_mask: 0.0881, s2.loss_cls: 0.0364, s2.acc: 95.2278, s2.loss_bbox: 0.0315, s2.loss_mask: 0.0403, loss: 0.9621, grad_norm: 6.8288\n",
      "2021-05-19 21:18:12,816 - mmdet - INFO - Epoch [20][500/818]\tlr: 5.000e-08, eta: 0:10:55, time: 2.115, data_time: 0.035, memory: 18704, loss_rpn_cls: 0.0276, loss_rpn_bbox: 0.0250, s0.loss_cls: 0.1609, s0.acc: 94.7002, s0.loss_bbox: 0.2105, s0.loss_mask: 0.1884, s1.loss_cls: 0.0738, s1.acc: 95.0952, s1.loss_bbox: 0.0878, s1.loss_mask: 0.0843, s2.loss_cls: 0.0365, s2.acc: 95.1883, s2.loss_bbox: 0.0349, s2.loss_mask: 0.0389, loss: 0.9687, grad_norm: 6.6982\n",
      "2021-05-19 21:19:59,765 - mmdet - INFO - Epoch [20][550/818]\tlr: 5.000e-08, eta: 0:09:12, time: 2.139, data_time: 0.031, memory: 18704, loss_rpn_cls: 0.0265, loss_rpn_bbox: 0.0231, s0.loss_cls: 0.1710, s0.acc: 94.5117, s0.loss_bbox: 0.2211, s0.loss_mask: 0.1893, s1.loss_cls: 0.0784, s1.acc: 95.0210, s1.loss_bbox: 0.0942, s1.loss_mask: 0.0845, s2.loss_cls: 0.0396, s2.acc: 94.7549, s2.loss_bbox: 0.0370, s2.loss_mask: 0.0385, loss: 1.0032, grad_norm: 7.0866\n",
      "2021-05-19 21:21:44,303 - mmdet - INFO - Epoch [20][600/818]\tlr: 5.000e-08, eta: 0:07:29, time: 2.091, data_time: 0.039, memory: 18704, loss_rpn_cls: 0.0256, loss_rpn_bbox: 0.0238, s0.loss_cls: 0.1602, s0.acc: 94.7148, s0.loss_bbox: 0.2097, s0.loss_mask: 0.1953, s1.loss_cls: 0.0743, s1.acc: 95.0965, s1.loss_bbox: 0.0864, s1.loss_mask: 0.0888, s2.loss_cls: 0.0366, s2.acc: 94.8720, s2.loss_bbox: 0.0332, s2.loss_mask: 0.0402, loss: 0.9742, grad_norm: 6.7276\n",
      "2021-05-19 21:23:30,761 - mmdet - INFO - Epoch [20][650/818]\tlr: 5.000e-08, eta: 0:05:46, time: 2.129, data_time: 0.041, memory: 18704, loss_rpn_cls: 0.0277, loss_rpn_bbox: 0.0275, s0.loss_cls: 0.1624, s0.acc: 94.6016, s0.loss_bbox: 0.2143, s0.loss_mask: 0.1902, s1.loss_cls: 0.0743, s1.acc: 95.0797, s1.loss_bbox: 0.0880, s1.loss_mask: 0.0855, s2.loss_cls: 0.0365, s2.acc: 94.9228, s2.loss_bbox: 0.0351, s2.loss_mask: 0.0398, loss: 0.9812, grad_norm: 7.0561\n",
      "2021-05-19 21:25:15,286 - mmdet - INFO - Epoch [20][700/818]\tlr: 5.000e-08, eta: 0:04:03, time: 2.091, data_time: 0.033, memory: 18704, loss_rpn_cls: 0.0212, loss_rpn_bbox: 0.0203, s0.loss_cls: 0.1408, s0.acc: 95.3613, s0.loss_bbox: 0.1928, s0.loss_mask: 0.1671, s1.loss_cls: 0.0641, s1.acc: 95.8346, s1.loss_bbox: 0.0802, s1.loss_mask: 0.0758, s2.loss_cls: 0.0320, s2.acc: 95.7196, s2.loss_bbox: 0.0325, s2.loss_mask: 0.0354, loss: 0.8622, grad_norm: 6.5489\n",
      "2021-05-19 21:26:59,399 - mmdet - INFO - Epoch [20][750/818]\tlr: 5.000e-08, eta: 0:02:20, time: 2.082, data_time: 0.036, memory: 18704, loss_rpn_cls: 0.0287, loss_rpn_bbox: 0.0232, s0.loss_cls: 0.1611, s0.acc: 94.7666, s0.loss_bbox: 0.2093, s0.loss_mask: 0.1825, s1.loss_cls: 0.0720, s1.acc: 95.4175, s1.loss_bbox: 0.0875, s1.loss_mask: 0.0819, s2.loss_cls: 0.0351, s2.acc: 95.3008, s2.loss_bbox: 0.0346, s2.loss_mask: 0.0379, loss: 0.9540, grad_norm: 6.5968\n",
      "2021-05-19 21:28:41,364 - mmdet - INFO - Epoch [20][800/818]\tlr: 5.000e-08, eta: 0:00:37, time: 2.039, data_time: 0.029, memory: 18704, loss_rpn_cls: 0.0269, loss_rpn_bbox: 0.0240, s0.loss_cls: 0.1612, s0.acc: 94.7617, s0.loss_bbox: 0.1925, s0.loss_mask: 0.1880, s1.loss_cls: 0.0754, s1.acc: 95.1539, s1.loss_bbox: 0.0785, s1.loss_mask: 0.0819, s2.loss_cls: 0.0371, s2.acc: 95.0551, s2.loss_bbox: 0.0309, s2.loss_mask: 0.0379, loss: 0.9342, grad_norm: 6.7896\n",
      "2021-05-19 21:29:18,405 - mmdet - INFO - Saving checkpoint at 20 epochs\n"
     ]
    },
    {
     "name": "stdout",
     "output_type": "stream",
     "text": [
      "[>>>>>>>>>>>>>>>>>>>>>>>>>>>>>] 655/655, 4.5 task/s, elapsed: 145s, ETA:     0s"
     ]
    },
    {
     "name": "stderr",
     "output_type": "stream",
     "text": [
      "2021-05-19 21:31:48,733 - mmdet - INFO - Evaluating bbox...\n"
     ]
    },
    {
     "name": "stdout",
     "output_type": "stream",
     "text": [
      "Loading and preparing results...\n",
      "DONE (t=0.12s)\n",
      "creating index...\n",
      "index created!\n",
      "Running per image evaluation...\n",
      "Evaluate annotation type *bbox*\n",
      "DONE (t=6.75s).\n",
      "Accumulating evaluation results...\n"
     ]
    },
    {
     "name": "stderr",
     "output_type": "stream",
     "text": [
      "2021-05-19 21:31:56,517 - mmdet - INFO - Epoch(val) [20][818]\tbbox_mAP: 0.5290, bbox_mAP_50: 0.6530, bbox_mAP_75: 0.5670, bbox_mAP_s: 0.2320, bbox_mAP_m: 0.5330, bbox_mAP_l: 0.7190, bbox_mAP_copypaste: 0.529 0.653 0.567 0.232 0.533 0.719\n"
     ]
    },
    {
     "name": "stdout",
     "output_type": "stream",
     "text": [
      "DONE (t=0.81s).\n",
      "Average Precision  (AP) @[ IoU=0.50:0.95 | area=   all | maxDets=100 ] = 0.529\n",
      "Average Precision  (AP) @[ IoU=0.50      | area=   all | maxDets=1000 ] = 0.653\n",
      "Average Precision  (AP) @[ IoU=0.75      | area=   all | maxDets=1000 ] = 0.567\n",
      "Average Precision  (AP) @[ IoU=0.50:0.95 | area= small | maxDets=1000 ] = 0.232\n",
      "Average Precision  (AP) @[ IoU=0.50:0.95 | area=medium | maxDets=1000 ] = 0.533\n",
      "Average Precision  (AP) @[ IoU=0.50:0.95 | area= large | maxDets=1000 ] = 0.719\n",
      "Average Recall     (AR) @[ IoU=0.50:0.95 | area=   all | maxDets=100 ] = 0.630\n",
      "Average Recall     (AR) @[ IoU=0.50:0.95 | area=   all | maxDets=300 ] = 0.630\n",
      "Average Recall     (AR) @[ IoU=0.50:0.95 | area=   all | maxDets=1000 ] = 0.630\n",
      "Average Recall     (AR) @[ IoU=0.50:0.95 | area= small | maxDets=1000 ] = 0.349\n",
      "Average Recall     (AR) @[ IoU=0.50:0.95 | area=medium | maxDets=1000 ] = 0.653\n",
      "Average Recall     (AR) @[ IoU=0.50:0.95 | area= large | maxDets=1000 ] = 0.766\n"
     ]
    },
    {
     "data": {
      "text/html": [
       "<br/>Waiting for W&B process to finish, PID 4042<br/>Program ended successfully."
      ],
      "text/plain": [
       "<IPython.core.display.HTML object>"
      ]
     },
     "metadata": {},
     "output_type": "display_data"
    },
    {
     "data": {
      "application/vnd.jupyter.widget-view+json": {
       "model_id": "",
       "version_major": 2,
       "version_minor": 0
      },
      "text/plain": [
       "VBox(children=(Label(value=' 0.00MB of 0.00MB uploaded (0.00MB deduped)\\r'), FloatProgress(value=1.0, max=1.0)…"
      ]
     },
     "metadata": {},
     "output_type": "display_data"
    },
    {
     "data": {
      "text/html": [
       "Find user logs for this run at: <code>/opt/ml/code/mmdetection_trash/wandb/run-20210519_110426-1qmok38d/logs/debug.log</code>"
      ],
      "text/plain": [
       "<IPython.core.display.HTML object>"
      ]
     },
     "metadata": {},
     "output_type": "display_data"
    },
    {
     "data": {
      "text/html": [
       "Find internal logs for this run at: <code>/opt/ml/code/mmdetection_trash/wandb/run-20210519_110426-1qmok38d/logs/debug-internal.log</code>"
      ],
      "text/plain": [
       "<IPython.core.display.HTML object>"
      ]
     },
     "metadata": {},
     "output_type": "display_data"
    },
    {
     "data": {
      "text/html": [
       "<h3>Run summary:</h3><br/><style>\n",
       "    table.wandb td:nth-child(1) { padding: 0 10px; text-align: right }\n",
       "    </style><table class=\"wandb\">\n",
       "<tr><td>train/loss_rpn_cls</td><td>0.02686</td></tr><tr><td>train/loss_rpn_bbox</td><td>0.024</td></tr><tr><td>train/s0.loss_cls</td><td>0.16116</td></tr><tr><td>train/s0.acc</td><td>94.76172</td></tr><tr><td>train/s0.loss_bbox</td><td>0.19249</td></tr><tr><td>train/s0.loss_mask</td><td>0.18804</td></tr><tr><td>train/s1.loss_cls</td><td>0.07537</td></tr><tr><td>train/s1.acc</td><td>95.15385</td></tr><tr><td>train/s1.loss_bbox</td><td>0.07847</td></tr><tr><td>train/s1.loss_mask</td><td>0.08188</td></tr><tr><td>train/s2.loss_cls</td><td>0.03711</td></tr><tr><td>train/s2.acc</td><td>95.05506</td></tr><tr><td>train/s2.loss_bbox</td><td>0.03093</td></tr><tr><td>train/s2.loss_mask</td><td>0.03789</td></tr><tr><td>train/loss</td><td>0.93421</td></tr><tr><td>train/grad_norm</td><td>6.78956</td></tr><tr><td>learning_rate</td><td>0.0</td></tr><tr><td>momentum</td><td>0.9</td></tr><tr><td>_runtime</td><td>37650</td></tr><tr><td>_timestamp</td><td>1621459916</td></tr><tr><td>_step</td><td>16361</td></tr><tr><td>val/bbox_mAP</td><td>0.529</td></tr><tr><td>val/bbox_mAP_50</td><td>0.653</td></tr><tr><td>val/bbox_mAP_75</td><td>0.567</td></tr><tr><td>val/bbox_mAP_s</td><td>0.232</td></tr><tr><td>val/bbox_mAP_m</td><td>0.533</td></tr><tr><td>val/bbox_mAP_l</td><td>0.719</td></tr></table>"
      ],
      "text/plain": [
       "<IPython.core.display.HTML object>"
      ]
     },
     "metadata": {},
     "output_type": "display_data"
    },
    {
     "data": {
      "text/html": [
       "<h3>Run history:</h3><br/><style>\n",
       "    table.wandb td:nth-child(1) { padding: 0 10px; text-align: right }\n",
       "    </style><table class=\"wandb\">\n",
       "<tr><td>train/loss_rpn_cls</td><td>█▅▄▃▄▄▃▄▃▃▂▂▃▂▂▃▂▂▁▂▁▂▂▁▁▂▁▂▂▁▂▂▂▁▁▂▂▂▂▂</td></tr><tr><td>train/loss_rpn_bbox</td><td>█▆▅▄▄▄▄▄▄▄▄▃▃▄▃▄▃▃▂▃▂▂▃▂▂▂▃▃▂▂▂▃▂▁▃▂▄▂▂▃</td></tr><tr><td>train/s0.loss_cls</td><td>█▆▅▄▄▄▃▃▃▃▃▃▃▂▂▃▂▂▂▂▁▂▂▂▁▂▂▁▂▁▁▂▂▁▂▁▂▂▂▂</td></tr><tr><td>train/s0.acc</td><td>▁▂▃▄▄▄▅▅▅▆▆▆▅▆▆▅▇▇▇▆▇▇▇▇█▇▇▇▇▇▇▇▇█▇▇▇▇▇▇</td></tr><tr><td>train/s0.loss_bbox</td><td>█▅▃▃▃▃▃▃▃▂▂▂▃▂▂▃▂▂▂▂▁▂▂▂▁▂▂▂▂▁▁▂▂▁▂▂▂▂▂▁</td></tr><tr><td>train/s0.loss_mask</td><td>█▄▃▃▃▂▂▂▂▂▂▂▂▂▂▂▁▂▁▂▁▁▂▁▁▁▁▁▂▁▁▁▁▁▁▁▁▁▁▁</td></tr><tr><td>train/s1.loss_cls</td><td>▅█▆▅▅▅▄▄▄▃▃▃▃▃▂▃▂▂▂▂▁▂▂▂▁▂▂▂▂▁▁▂▂▁▂▁▂▂▂▂</td></tr><tr><td>train/s1.acc</td><td>▇▁▃▄▃▄▄▅▅▅▆▅▅▆▆▅▇▆▇▆▇▇▇▇█▇▇▇▇█▇▇▇█▇▇▇▇▇▇</td></tr><tr><td>train/s1.loss_bbox</td><td>▁█▆▅▆▅▅▅▅▄▄▄▄▄▃▅▄▄▃▄▂▃▄▃▂▃▃▃▃▃▂▃▃▂▃▃▃▃▃▂</td></tr><tr><td>train/s1.loss_mask</td><td>█▄▃▂▃▂▂▂▂▂▂▂▂▂▂▂▁▁▁▂▁▁▁▁▁▁▁▁▁▁▁▁▁▁▁▁▁▁▁▁</td></tr><tr><td>train/s2.loss_cls</td><td>▂█▆▅▅▅▄▄▄▄▃▃▃▃▂▄▂▂▂▂▂▂▂▂▁▂▂▂▂▁▁▂▂▁▂▁▂▂▂▂</td></tr><tr><td>train/s2.acc</td><td>█▁▂▃▃▃▄▄▄▄▅▅▄▅▅▄▆▆▆▅▆▆▆▆▇▆▆▆▆▆▆▆▆▇▆▆▆▆▆▆</td></tr><tr><td>train/s2.loss_bbox</td><td>▁█▇▇▇▇▇▆▇▆▆▆▆▆▆▇▆▆▆▆▅▆▆▆▅▆▆▆▆▆▅▆▆▅▆▆▆▆▆▅</td></tr><tr><td>train/s2.loss_mask</td><td>█▃▂▂▂▂▂▂▂▂▁▂▂▂▁▂▁▁▁▂▁▁▁▁▁▁▁▁▁▁▁▁▁▁▁▁▁▁▁▁</td></tr><tr><td>train/loss</td><td>█▆▄▄▄▃▃▃▃▃▂▃▃▂▂▃▂▂▂▂▁▂▂▂▁▂▂▂▂▁▁▂▂▁▂▂▂▂▂▂</td></tr><tr><td>train/grad_norm</td><td>▁▄▄▄█▄▄▃▇▅▄▆▇▆▄▅▂▃▂▄▂▃▃▄▂▁▂▂▃▂▁▂▂▁▄▃▃▂▃▂</td></tr><tr><td>learning_rate</td><td>▄███████████████▂▂▂▂▂▂▂▂▁▁▁▁▁▁▁▁▁▁▁▁▁▁▁▁</td></tr><tr><td>momentum</td><td>▁▁▁▁▁▁▁▁▁▁▁▁▁▁▁▁▁▁▁▁▁▁▁▁▁▁▁▁▁▁▁▁▁▁▁▁▁▁▁▁</td></tr><tr><td>_runtime</td><td>▁▁▁▁▂▂▂▂▂▃▃▃▃▃▃▄▄▄▄▄▅▅▅▅▅▅▆▆▆▆▆▆▇▇▇▇▇███</td></tr><tr><td>_timestamp</td><td>▁▁▁▁▂▂▂▂▂▃▃▃▃▃▃▄▄▄▄▄▅▅▅▅▅▅▆▆▆▆▆▆▇▇▇▇▇███</td></tr><tr><td>_step</td><td>▁▁▁▂▂▂▂▂▂▃▃▃▃▃▄▄▄▄▄▄▅▅▅▅▅▅▆▆▆▆▆▇▇▇▇▇▇███</td></tr><tr><td>val/bbox_mAP</td><td>▁▃▄▅▅▆▇▇████████████</td></tr><tr><td>val/bbox_mAP_50</td><td>▁▃▄▅▆▇▇▇████████████</td></tr><tr><td>val/bbox_mAP_75</td><td>▁▃▄▅▅▆▇▇████████████</td></tr><tr><td>val/bbox_mAP_s</td><td>▁▂▄▄▄▆▆▇▇▇██████████</td></tr><tr><td>val/bbox_mAP_m</td><td>▁▃▃▅▆▆▆▇████████████</td></tr><tr><td>val/bbox_mAP_l</td><td>▁▃▅▆▆▇▇▇████████████</td></tr></table><br/>"
      ],
      "text/plain": [
       "<IPython.core.display.HTML object>"
      ]
     },
     "metadata": {},
     "output_type": "display_data"
    },
    {
     "data": {
      "text/html": [
       "Synced 5 W&B file(s), 0 media file(s), 0 artifact file(s) and 0 other file(s)"
      ],
      "text/plain": [
       "<IPython.core.display.HTML object>"
      ]
     },
     "metadata": {},
     "output_type": "display_data"
    },
    {
     "data": {
      "text/html": [
       "\n",
       "                    <br/>Synced <strong style=\"color:#cdcd00\">cascade_mask_rcnn_swin_small_patch4_window7_mstrain_480-800_giou_4conv1f_adamw_3x_coco</strong>: <a href=\"https://wandb.ai/pstage3_det/shinchan/runs/1qmok38d\" target=\"_blank\">https://wandb.ai/pstage3_det/shinchan/runs/1qmok38d</a><br/>\n",
       "                "
      ],
      "text/plain": [
       "<IPython.core.display.HTML object>"
      ]
     },
     "metadata": {},
     "output_type": "display_data"
    }
   ],
   "source": [
    "train_detector(model, datasets[0], cfg, distributed=False, validate=True)"
   ]
  },
  {
   "cell_type": "code",
   "execution_count": null,
   "metadata": {},
   "outputs": [],
   "source": []
  },
  {
   "cell_type": "code",
   "execution_count": null,
   "metadata": {},
   "outputs": [],
   "source": []
  }
 ],
 "metadata": {
  "kernelspec": {
   "display_name": "Python 3",
   "language": "python",
   "name": "python3"
  },
  "language_info": {
   "codemirror_mode": {
    "name": "ipython",
    "version": 3
   },
   "file_extension": ".py",
   "mimetype": "text/x-python",
   "name": "python",
   "nbconvert_exporter": "python",
   "pygments_lexer": "ipython3",
   "version": "3.7.7"
  },
  "pycharm": {
   "stem_cell": {
    "cell_type": "raw",
    "metadata": {
     "collapsed": false
    },
    "source": []
   }
  }
 },
 "nbformat": 4,
 "nbformat_minor": 4
}
